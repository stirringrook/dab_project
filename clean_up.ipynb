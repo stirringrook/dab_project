{
 "cells": [
  {
   "cell_type": "markdown",
   "id": "1d1973d5",
   "metadata": {},
   "source": [
    "### EDA and data cleanup"
   ]
  },
  {
   "cell_type": "code",
   "execution_count": 1,
   "id": "eacdb1dc",
   "metadata": {},
   "outputs": [],
   "source": [
    "import pandas as pd\n",
    "import numpy as np\n",
    "from datetime import datetime"
   ]
  },
  {
   "cell_type": "code",
   "execution_count": 2,
   "id": "59a48b5c",
   "metadata": {},
   "outputs": [
    {
     "data": {
      "text/html": [
       "<div>\n",
       "<style scoped>\n",
       "    .dataframe tbody tr th:only-of-type {\n",
       "        vertical-align: middle;\n",
       "    }\n",
       "\n",
       "    .dataframe tbody tr th {\n",
       "        vertical-align: top;\n",
       "    }\n",
       "\n",
       "    .dataframe thead th {\n",
       "        text-align: right;\n",
       "    }\n",
       "</style>\n",
       "<table border=\"1\" class=\"dataframe\">\n",
       "  <thead>\n",
       "    <tr style=\"text-align: right;\">\n",
       "      <th></th>\n",
       "      <th>Дата</th>\n",
       "      <th>ДатаДоставки</th>\n",
       "      <th>НомерЗаказаНаСайте</th>\n",
       "      <th>НовыйСтатус</th>\n",
       "      <th>СуммаЗаказаНаСайте</th>\n",
       "      <th>СуммаДокумента</th>\n",
       "      <th>МетодДоставки</th>\n",
       "      <th>ФормаОплаты</th>\n",
       "      <th>Регион</th>\n",
       "      <th>Группа2</th>\n",
       "      <th>...</th>\n",
       "      <th>СуммаДоставки</th>\n",
       "      <th>НомерСтроки</th>\n",
       "      <th>КоличествоПроданоКлиенту</th>\n",
       "      <th>ДатаЗаказаНаСайте</th>\n",
       "      <th>Телефон_new</th>\n",
       "      <th>ЭлектроннаяПочта_new</th>\n",
       "      <th>Клиент</th>\n",
       "      <th>ID_SKU</th>\n",
       "      <th>ГородМагазина</th>\n",
       "      <th>МагазинЗаказа</th>\n",
       "    </tr>\n",
       "  </thead>\n",
       "  <tbody>\n",
       "    <tr>\n",
       "      <th>0</th>\n",
       "      <td>01.03.2017 11:41</td>\n",
       "      <td>07.03.2017 0:00</td>\n",
       "      <td>3998972_TR</td>\n",
       "      <td>Частичный возврат</td>\n",
       "      <td>12098</td>\n",
       "      <td>12247.0</td>\n",
       "      <td>Курьерская</td>\n",
       "      <td>Наличная</td>\n",
       "      <td>Москва</td>\n",
       "      <td>КРУПНОГАБАРИТНЫЙ ТОВАР</td>\n",
       "      <td>...</td>\n",
       "      <td>0</td>\n",
       "      <td>8</td>\n",
       "      <td>1</td>\n",
       "      <td>28.02.2017 0:00</td>\n",
       "      <td>55574854-48574951555577</td>\n",
       "      <td>106117_ju18@yandex.ru</td>\n",
       "      <td>Юлия</td>\n",
       "      <td>ID9010020114553</td>\n",
       "      <td>0</td>\n",
       "      <td>NaN</td>\n",
       "    </tr>\n",
       "    <tr>\n",
       "      <th>1</th>\n",
       "      <td>01.03.2017 12:22</td>\n",
       "      <td>15.03.2017 0:00</td>\n",
       "      <td>3999117_TR</td>\n",
       "      <td>Доставлен</td>\n",
       "      <td>4819</td>\n",
       "      <td>3759.0</td>\n",
       "      <td>Магазины</td>\n",
       "      <td>Безналичная</td>\n",
       "      <td>Челябинск</td>\n",
       "      <td>ТЕКСТИЛЬ, ТРИКОТАЖ</td>\n",
       "      <td>...</td>\n",
       "      <td>0</td>\n",
       "      <td>3</td>\n",
       "      <td>1</td>\n",
       "      <td>01.03.2017 0:00</td>\n",
       "      <td>55575453-56535648535679</td>\n",
       "      <td>107117_ku16@list.ru</td>\n",
       "      <td>Гость</td>\n",
       "      <td>IDL00028974351</td>\n",
       "      <td>0</td>\n",
       "      <td>NaN</td>\n",
       "    </tr>\n",
       "    <tr>\n",
       "      <th>2</th>\n",
       "      <td>01.03.2017 12:31</td>\n",
       "      <td>17.03.2017 0:00</td>\n",
       "      <td>3999122_TR</td>\n",
       "      <td>Доставлен</td>\n",
       "      <td>3325</td>\n",
       "      <td>3325.0</td>\n",
       "      <td>Магазины</td>\n",
       "      <td>Безналичная</td>\n",
       "      <td>Нижневартовск</td>\n",
       "      <td>ИГРУШКИ</td>\n",
       "      <td>...</td>\n",
       "      <td>0</td>\n",
       "      <td>1</td>\n",
       "      <td>1</td>\n",
       "      <td>01.03.2017 0:00</td>\n",
       "      <td>55574950-57515657535772</td>\n",
       "      <td>109117_mu17@mail.ru</td>\n",
       "      <td>Гость</td>\n",
       "      <td>IDL00038573351</td>\n",
       "      <td>0</td>\n",
       "      <td>NaN</td>\n",
       "    </tr>\n",
       "    <tr>\n",
       "      <th>3</th>\n",
       "      <td>01.03.2017 3:06</td>\n",
       "      <td>02.03.2017 0:00</td>\n",
       "      <td>3999363_TR</td>\n",
       "      <td>К отгрузке</td>\n",
       "      <td>4998</td>\n",
       "      <td>4998.0</td>\n",
       "      <td>Курьерская</td>\n",
       "      <td>Наличная</td>\n",
       "      <td>Москва</td>\n",
       "      <td>ТЕКСТИЛЬ, ТРИКОТАЖ</td>\n",
       "      <td>...</td>\n",
       "      <td>0</td>\n",
       "      <td>4</td>\n",
       "      <td>0</td>\n",
       "      <td>01.03.2017 0:00</td>\n",
       "      <td>55574851-55545249535475</td>\n",
       "      <td>115117_su13@mail.ru</td>\n",
       "      <td>Гость</td>\n",
       "      <td>IDL00034303856</td>\n",
       "      <td>0</td>\n",
       "      <td>NaN</td>\n",
       "    </tr>\n",
       "    <tr>\n",
       "      <th>4</th>\n",
       "      <td>01.03.2017 11:38</td>\n",
       "      <td>14.03.2017 0:00</td>\n",
       "      <td>3999411_TR</td>\n",
       "      <td>Доставлен</td>\n",
       "      <td>528</td>\n",
       "      <td>528.0</td>\n",
       "      <td>Магазины</td>\n",
       "      <td>Безналичная</td>\n",
       "      <td>Ижевск</td>\n",
       "      <td>ИГРУШКИ</td>\n",
       "      <td>...</td>\n",
       "      <td>0</td>\n",
       "      <td>3</td>\n",
       "      <td>1</td>\n",
       "      <td>01.03.2017 0:00</td>\n",
       "      <td>55574854-56495552515179</td>\n",
       "      <td>guest_103117_gu28@workmail.ru</td>\n",
       "      <td>Гость</td>\n",
       "      <td>IDL00035791553</td>\n",
       "      <td>0</td>\n",
       "      <td>NaN</td>\n",
       "    </tr>\n",
       "    <tr>\n",
       "      <th>...</th>\n",
       "      <td>...</td>\n",
       "      <td>...</td>\n",
       "      <td>...</td>\n",
       "      <td>...</td>\n",
       "      <td>...</td>\n",
       "      <td>...</td>\n",
       "      <td>...</td>\n",
       "      <td>...</td>\n",
       "      <td>...</td>\n",
       "      <td>...</td>\n",
       "      <td>...</td>\n",
       "      <td>...</td>\n",
       "      <td>...</td>\n",
       "      <td>...</td>\n",
       "      <td>...</td>\n",
       "      <td>...</td>\n",
       "      <td>...</td>\n",
       "      <td>...</td>\n",
       "      <td>...</td>\n",
       "      <td>...</td>\n",
       "      <td>...</td>\n",
       "    </tr>\n",
       "    <tr>\n",
       "      <th>691534</th>\n",
       "      <td>17.04.2017 9:54</td>\n",
       "      <td>24.05.2017 0:00</td>\n",
       "      <td>4411156_TR</td>\n",
       "      <td>Принят в ПВЗ</td>\n",
       "      <td>3240</td>\n",
       "      <td>3240.0</td>\n",
       "      <td>Магазины</td>\n",
       "      <td>Безналичная</td>\n",
       "      <td>Чита</td>\n",
       "      <td>КРУПНОГАБАРИТНЫЙ ТОВАР</td>\n",
       "      <td>...</td>\n",
       "      <td>0</td>\n",
       "      <td>1</td>\n",
       "      <td>1</td>\n",
       "      <td>17.04.2017 0:00</td>\n",
       "      <td>55574952-51535652495475</td>\n",
       "      <td>guest_103117_gu28@workmail.ru</td>\n",
       "      <td>Гость</td>\n",
       "      <td>IDL00040855553</td>\n",
       "      <td>0</td>\n",
       "      <td>NaN</td>\n",
       "    </tr>\n",
       "    <tr>\n",
       "      <th>691535</th>\n",
       "      <td>17.04.2017 10:10</td>\n",
       "      <td>19.04.2017 0:00</td>\n",
       "      <td>4411268_TR</td>\n",
       "      <td>Доставлен</td>\n",
       "      <td>1377</td>\n",
       "      <td>1377.0</td>\n",
       "      <td>Магазины</td>\n",
       "      <td>Безналичная</td>\n",
       "      <td>Москва</td>\n",
       "      <td>ИГРУШКИ</td>\n",
       "      <td>...</td>\n",
       "      <td>49</td>\n",
       "      <td>2</td>\n",
       "      <td>1</td>\n",
       "      <td>17.04.2017 0:00</td>\n",
       "      <td>55575054-53545152544971</td>\n",
       "      <td>guest_103117_gu28@workmail.ru</td>\n",
       "      <td>Гость</td>\n",
       "      <td>IDL00013484149</td>\n",
       "      <td>0</td>\n",
       "      <td>NaN</td>\n",
       "    </tr>\n",
       "    <tr>\n",
       "      <th>691536</th>\n",
       "      <td>17.04.2017 11:03</td>\n",
       "      <td>27.04.2017 0:00</td>\n",
       "      <td>4411571_TR</td>\n",
       "      <td>Доставлен</td>\n",
       "      <td>1098</td>\n",
       "      <td>2086.0</td>\n",
       "      <td>Магазины</td>\n",
       "      <td>Безналичная</td>\n",
       "      <td>Нижний Новгород</td>\n",
       "      <td>КОСМЕТИКА/ГИГИЕНА</td>\n",
       "      <td>...</td>\n",
       "      <td>0</td>\n",
       "      <td>1</td>\n",
       "      <td>1</td>\n",
       "      <td>17.04.2017 0:00</td>\n",
       "      <td>55575448-49564957485078</td>\n",
       "      <td>97117_au19@mail.ru</td>\n",
       "      <td>Анна</td>\n",
       "      <td>IDL00026050250</td>\n",
       "      <td>0</td>\n",
       "      <td>NaN</td>\n",
       "    </tr>\n",
       "    <tr>\n",
       "      <th>691537</th>\n",
       "      <td>17.04.2017 11:03</td>\n",
       "      <td>27.04.2017 0:00</td>\n",
       "      <td>4411571_TR</td>\n",
       "      <td>Доставлен</td>\n",
       "      <td>1098</td>\n",
       "      <td>2086.0</td>\n",
       "      <td>Магазины</td>\n",
       "      <td>Безналичная</td>\n",
       "      <td>Нижний Новгород</td>\n",
       "      <td>КОСМЕТИКА/ГИГИЕНА</td>\n",
       "      <td>...</td>\n",
       "      <td>0</td>\n",
       "      <td>2</td>\n",
       "      <td>1</td>\n",
       "      <td>17.04.2017 0:00</td>\n",
       "      <td>55575448-49564957485078</td>\n",
       "      <td>97117_au19@mail.ru</td>\n",
       "      <td>Анна</td>\n",
       "      <td>IDL00026050654</td>\n",
       "      <td>0</td>\n",
       "      <td>NaN</td>\n",
       "    </tr>\n",
       "    <tr>\n",
       "      <th>691538</th>\n",
       "      <td>17.04.2017 10:41</td>\n",
       "      <td>24.04.2017 0:00</td>\n",
       "      <td>4411576_TR</td>\n",
       "      <td>Доставлен</td>\n",
       "      <td>13349</td>\n",
       "      <td>13349.0</td>\n",
       "      <td>Магазины</td>\n",
       "      <td>Безналичная</td>\n",
       "      <td>Москва</td>\n",
       "      <td>ИГРУШКИ</td>\n",
       "      <td>...</td>\n",
       "      <td>0</td>\n",
       "      <td>2</td>\n",
       "      <td>1</td>\n",
       "      <td>17.04.2017 0:00</td>\n",
       "      <td>55575455-49525649535277</td>\n",
       "      <td>100117_du13@mail.ru</td>\n",
       "      <td>Евгения</td>\n",
       "      <td>IDL00028050856</td>\n",
       "      <td>0</td>\n",
       "      <td>NaN</td>\n",
       "    </tr>\n",
       "  </tbody>\n",
       "</table>\n",
       "<p>691539 rows × 38 columns</p>\n",
       "</div>"
      ],
      "text/plain": [
       "                    Дата     ДатаДоставки НомерЗаказаНаСайте  \\\n",
       "0       01.03.2017 11:41  07.03.2017 0:00         3998972_TR   \n",
       "1       01.03.2017 12:22  15.03.2017 0:00         3999117_TR   \n",
       "2       01.03.2017 12:31  17.03.2017 0:00         3999122_TR   \n",
       "3        01.03.2017 3:06  02.03.2017 0:00         3999363_TR   \n",
       "4       01.03.2017 11:38  14.03.2017 0:00         3999411_TR   \n",
       "...                  ...              ...                ...   \n",
       "691534   17.04.2017 9:54  24.05.2017 0:00         4411156_TR   \n",
       "691535  17.04.2017 10:10  19.04.2017 0:00         4411268_TR   \n",
       "691536  17.04.2017 11:03  27.04.2017 0:00         4411571_TR   \n",
       "691537  17.04.2017 11:03  27.04.2017 0:00         4411571_TR   \n",
       "691538  17.04.2017 10:41  24.04.2017 0:00         4411576_TR   \n",
       "\n",
       "              НовыйСтатус  СуммаЗаказаНаСайте  СуммаДокумента МетодДоставки  \\\n",
       "0       Частичный возврат               12098         12247.0    Курьерская   \n",
       "1               Доставлен                4819          3759.0      Магазины   \n",
       "2               Доставлен                3325          3325.0      Магазины   \n",
       "3              К отгрузке                4998          4998.0    Курьерская   \n",
       "4               Доставлен                 528           528.0      Магазины   \n",
       "...                   ...                 ...             ...           ...   \n",
       "691534       Принят в ПВЗ                3240          3240.0      Магазины   \n",
       "691535          Доставлен                1377          1377.0      Магазины   \n",
       "691536          Доставлен                1098          2086.0      Магазины   \n",
       "691537          Доставлен                1098          2086.0      Магазины   \n",
       "691538          Доставлен               13349         13349.0      Магазины   \n",
       "\n",
       "        ФормаОплаты           Регион                 Группа2  ...  \\\n",
       "0          Наличная           Москва  КРУПНОГАБАРИТНЫЙ ТОВАР  ...   \n",
       "1       Безналичная        Челябинск      ТЕКСТИЛЬ, ТРИКОТАЖ  ...   \n",
       "2       Безналичная    Нижневартовск                 ИГРУШКИ  ...   \n",
       "3          Наличная           Москва      ТЕКСТИЛЬ, ТРИКОТАЖ  ...   \n",
       "4       Безналичная           Ижевск                 ИГРУШКИ  ...   \n",
       "...             ...              ...                     ...  ...   \n",
       "691534  Безналичная             Чита  КРУПНОГАБАРИТНЫЙ ТОВАР  ...   \n",
       "691535  Безналичная           Москва                 ИГРУШКИ  ...   \n",
       "691536  Безналичная  Нижний Новгород       КОСМЕТИКА/ГИГИЕНА  ...   \n",
       "691537  Безналичная  Нижний Новгород       КОСМЕТИКА/ГИГИЕНА  ...   \n",
       "691538  Безналичная           Москва                 ИГРУШКИ  ...   \n",
       "\n",
       "       СуммаДоставки НомерСтроки КоличествоПроданоКлиенту ДатаЗаказаНаСайте  \\\n",
       "0                  0           8                        1   28.02.2017 0:00   \n",
       "1                  0           3                        1   01.03.2017 0:00   \n",
       "2                  0           1                        1   01.03.2017 0:00   \n",
       "3                  0           4                        0   01.03.2017 0:00   \n",
       "4                  0           3                        1   01.03.2017 0:00   \n",
       "...              ...         ...                      ...               ...   \n",
       "691534             0           1                        1   17.04.2017 0:00   \n",
       "691535            49           2                        1   17.04.2017 0:00   \n",
       "691536             0           1                        1   17.04.2017 0:00   \n",
       "691537             0           2                        1   17.04.2017 0:00   \n",
       "691538             0           2                        1   17.04.2017 0:00   \n",
       "\n",
       "                    Телефон_new           ЭлектроннаяПочта_new   Клиент  \\\n",
       "0       55574854-48574951555577          106117_ju18@yandex.ru     Юлия   \n",
       "1       55575453-56535648535679            107117_ku16@list.ru    Гость   \n",
       "2       55574950-57515657535772            109117_mu17@mail.ru    Гость   \n",
       "3       55574851-55545249535475            115117_su13@mail.ru    Гость   \n",
       "4       55574854-56495552515179  guest_103117_gu28@workmail.ru    Гость   \n",
       "...                         ...                            ...      ...   \n",
       "691534  55574952-51535652495475  guest_103117_gu28@workmail.ru    Гость   \n",
       "691535  55575054-53545152544971  guest_103117_gu28@workmail.ru    Гость   \n",
       "691536  55575448-49564957485078             97117_au19@mail.ru     Анна   \n",
       "691537  55575448-49564957485078             97117_au19@mail.ru     Анна   \n",
       "691538  55575455-49525649535277            100117_du13@mail.ru  Евгения   \n",
       "\n",
       "                 ID_SKU  ГородМагазина  МагазинЗаказа  \n",
       "0       ID9010020114553              0            NaN  \n",
       "1        IDL00028974351              0            NaN  \n",
       "2        IDL00038573351              0            NaN  \n",
       "3        IDL00034303856              0            NaN  \n",
       "4        IDL00035791553              0            NaN  \n",
       "...                 ...            ...            ...  \n",
       "691534   IDL00040855553              0            NaN  \n",
       "691535   IDL00013484149              0            NaN  \n",
       "691536   IDL00026050250              0            NaN  \n",
       "691537   IDL00026050654              0            NaN  \n",
       "691538   IDL00028050856              0            NaN  \n",
       "\n",
       "[691539 rows x 38 columns]"
      ]
     },
     "execution_count": 2,
     "metadata": {},
     "output_type": "execute_result"
    }
   ],
   "source": [
    "\"\"\"Extremely important to keep both parameters -- otherwise it stops working\"\"\"\n",
    "df = pd.read_csv(\"data/data.csv\", encoding='cp1251', sep=\";\", thousands=' ', decimal=',') ; df"
   ]
  },
  {
   "cell_type": "code",
   "execution_count": 3,
   "id": "1dfbd857",
   "metadata": {},
   "outputs": [
    {
     "data": {
      "text/html": [
       "<div>\n",
       "<style scoped>\n",
       "    .dataframe tbody tr th:only-of-type {\n",
       "        vertical-align: middle;\n",
       "    }\n",
       "\n",
       "    .dataframe tbody tr th {\n",
       "        vertical-align: top;\n",
       "    }\n",
       "\n",
       "    .dataframe thead th {\n",
       "        text-align: right;\n",
       "    }\n",
       "</style>\n",
       "<table border=\"1\" class=\"dataframe\">\n",
       "  <thead>\n",
       "    <tr style=\"text-align: right;\">\n",
       "      <th></th>\n",
       "      <th>Attribute</th>\n",
       "      <th>Total</th>\n",
       "      <th>Percent</th>\n",
       "    </tr>\n",
       "  </thead>\n",
       "  <tbody>\n",
       "    <tr>\n",
       "      <th>0</th>\n",
       "      <td>МагазинЗаказа</td>\n",
       "      <td>686556</td>\n",
       "      <td>0.992794</td>\n",
       "    </tr>\n",
       "    <tr>\n",
       "      <th>1</th>\n",
       "      <td>ПричинаОтмены</td>\n",
       "      <td>624836</td>\n",
       "      <td>0.903544</td>\n",
       "    </tr>\n",
       "    <tr>\n",
       "      <th>2</th>\n",
       "      <td>ПВЗ_код</td>\n",
       "      <td>228886</td>\n",
       "      <td>0.330981</td>\n",
       "    </tr>\n",
       "    <tr>\n",
       "      <th>3</th>\n",
       "      <td>Группа4</td>\n",
       "      <td>105625</td>\n",
       "      <td>0.152739</td>\n",
       "    </tr>\n",
       "    <tr>\n",
       "      <th>4</th>\n",
       "      <td>Маржа</td>\n",
       "      <td>76913</td>\n",
       "      <td>0.111220</td>\n",
       "    </tr>\n",
       "    <tr>\n",
       "      <th>5</th>\n",
       "      <td>ЦенаЗакупки</td>\n",
       "      <td>76913</td>\n",
       "      <td>0.111220</td>\n",
       "    </tr>\n",
       "    <tr>\n",
       "      <th>6</th>\n",
       "      <td>ТипТовара</td>\n",
       "      <td>74690</td>\n",
       "      <td>0.108005</td>\n",
       "    </tr>\n",
       "    <tr>\n",
       "      <th>7</th>\n",
       "      <td>Группа2</td>\n",
       "      <td>74686</td>\n",
       "      <td>0.108000</td>\n",
       "    </tr>\n",
       "    <tr>\n",
       "      <th>8</th>\n",
       "      <td>Группа3</td>\n",
       "      <td>74686</td>\n",
       "      <td>0.108000</td>\n",
       "    </tr>\n",
       "    <tr>\n",
       "      <th>9</th>\n",
       "      <td>ЭлектроннаяПочта_new</td>\n",
       "      <td>13117</td>\n",
       "      <td>0.018968</td>\n",
       "    </tr>\n",
       "    <tr>\n",
       "      <th>10</th>\n",
       "      <td>Регион</td>\n",
       "      <td>5142</td>\n",
       "      <td>0.007436</td>\n",
       "    </tr>\n",
       "    <tr>\n",
       "      <th>11</th>\n",
       "      <td>ДатаДоставки</td>\n",
       "      <td>626</td>\n",
       "      <td>0.000905</td>\n",
       "    </tr>\n",
       "    <tr>\n",
       "      <th>12</th>\n",
       "      <td>Клиент</td>\n",
       "      <td>374</td>\n",
       "      <td>0.000541</td>\n",
       "    </tr>\n",
       "    <tr>\n",
       "      <th>13</th>\n",
       "      <td>ДатаЗаказаНаСайте</td>\n",
       "      <td>4</td>\n",
       "      <td>0.000006</td>\n",
       "    </tr>\n",
       "    <tr>\n",
       "      <th>14</th>\n",
       "      <td>НомерЗаказаНаСайте</td>\n",
       "      <td>4</td>\n",
       "      <td>0.000006</td>\n",
       "    </tr>\n",
       "  </tbody>\n",
       "</table>\n",
       "</div>"
      ],
      "text/plain": [
       "               Attribute   Total   Percent\n",
       "0          МагазинЗаказа  686556  0.992794\n",
       "1          ПричинаОтмены  624836  0.903544\n",
       "2                ПВЗ_код  228886  0.330981\n",
       "3                Группа4  105625  0.152739\n",
       "4                  Маржа   76913  0.111220\n",
       "5            ЦенаЗакупки   76913  0.111220\n",
       "6              ТипТовара   74690  0.108005\n",
       "7                Группа2   74686  0.108000\n",
       "8                Группа3   74686  0.108000\n",
       "9   ЭлектроннаяПочта_new   13117  0.018968\n",
       "10                Регион    5142  0.007436\n",
       "11          ДатаДоставки     626  0.000905\n",
       "12                Клиент     374  0.000541\n",
       "13     ДатаЗаказаНаСайте       4  0.000006\n",
       "14    НомерЗаказаНаСайте       4  0.000006"
      ]
     },
     "execution_count": 3,
     "metadata": {},
     "output_type": "execute_result"
    }
   ],
   "source": [
    "df1 = df.replace('..', np.nan)\n",
    "total = df1.isnull().sum().sort_values(ascending=False)\n",
    "percent = (df1.isnull().sum() / df1.isnull().count()).sort_values(ascending=False)\n",
    "missing_data = pd.concat([total, percent], axis=1, keys=['Total', 'Percent'])\n",
    "missing_data.reset_index(inplace=True)\n",
    "missing_data.rename(columns={'index': 'Attribute'}, inplace=True)\n",
    "missing_data.head(15)\n",
    "\n",
    "# Code snippet provided by Mr. Argirov during 1st year of DSBA, still used by me"
   ]
  },
  {
   "cell_type": "markdown",
   "id": "80de5f0b",
   "metadata": {},
   "source": [
    "#### Transforming columns composition, data types and names"
   ]
  },
  {
   "cell_type": "code",
   "execution_count": 4,
   "id": "62b22f7a",
   "metadata": {},
   "outputs": [],
   "source": [
    "def transform_date(date_string: str):\n",
    "    format_string = \"%d.%m.%Y %H:%M\"\n",
    "    try:\n",
    "        new_date = datetime.strptime(date_string, format_string)\n",
    "        return new_date\n",
    "    except:\n",
    "        return datetime(1970, 1, 1, 0, 0, 0)\n",
    "\n",
    "\n",
    "def transform_status(status_string: str, cancel_reason: str, is_cancelled: int) -> str:\n",
    "    if pd.isna(cancel_reason) == False:\n",
    "        return 'Cancelled'\n",
    "    if is_cancelled == 1:\n",
    "        return 'Cancelled'\n",
    "    if cancel_reason == 'Возврат товара':\n",
    "        return 'Returned'\n",
    "    if status_string == 'Возврат':\n",
    "        return 'Returned'\n",
    "    if status_string == 'Доставлен':\n",
    "        return 'Delivered'\n",
    "    if status_string == 'Отменен':\n",
    "        return 'Cancelled'\n",
    "    if status_string == 'В процессе':\n",
    "        return 'In Progress'\n",
    "    else:\n",
    "        return 'N/A'\n",
    "      \n",
    "\n",
    "def transform_new_status(status_string: str, is_cancelled: int) -> str:\n",
    "    if is_cancelled == 1:\n",
    "        return 'Cancelled'\n",
    "    if status_string == 'Доставлен':\n",
    "        return 'Delivered'\n",
    "    if status_string in ['Возврат', 'Частичный возврат', 'Возврат из ПВЗ']:\n",
    "        return 'Returned'\n",
    "    if status_string in ['Отменен', 'Отменяется']:\n",
    "        return 'Cancelled'\n",
    "    else:\n",
    "        return 'In Progress'\n",
    "\n",
    "\n",
    "df['Order_Date'] = df['Дата'].apply(lambda x: transform_date(x))\n",
    "df['Delivery_Date'] = df['ДатаДоставки'].apply(lambda x: transform_date(x))           #just date w/o time\n",
    "df['Payment_Type'] = [1 if i == 'Наличная' else 0 for i in df['ФормаОплаты']]\n",
    "df['Is_Cancelled'] = [1 if i == 'Да' else 0 for i in df['Отменено']]\n",
    "df['Is_Moscow'] = [1 if i == 'Москва' else 2 if i == 'МО' else 0 for i in df['Гео']]\n",
    "\n",
    "df.drop(columns=['МесяцДатыЗаказа', 'ГодДатыЗаказа', 'ЭлектроннаяПочта_new',\n",
    "                'ГородМагазина', 'ID_SKU', 'МагазинЗаказа', 'Дата', 'ДатаДоставки',\n",
    "                'ФормаОплаты', 'Отменено', 'НомерСтроки', 'ПВЗ_код', 'Клиент', 'ДатаЗаказаНаСайте', 'Гео'], axis=1, inplace=True)\n",
    "\n",
    "\n",
    "df['Status'] = df[['Статус', 'ПричинаОтмены', 'Is_Cancelled']].apply(lambda x: transform_status(x['Статус'], x['ПричинаОтмены'], x['Is_Cancelled']), axis=1)\n",
    "df['New_Status'] = df[['НовыйСтатус', 'Is_Cancelled']].apply(lambda x: transform_new_status(x['НовыйСтатус'], x['Is_Cancelled']), axis=1)\n",
    "\n",
    "df.drop(columns=['ПричинаОтмены', 'Is_Cancelled', 'Статус', 'НовыйСтатус'], axis=1, inplace=True)\n",
    "\n",
    "df.rename(columns={'НомерЗаказаНаСайте': 'Order_ID', 'СуммаЗаказаНаСайте': 'Initial_Order_Sum', 'СуммаДокумента': 'Final_Order_Sum',\n",
    "                   'МетодДоставки': 'Delivery_Type', 'Регион': 'Region', 'Группа2': 'Item_Group', 'Группа3': 'Item_Group1', 'Группа4': 'Item_Group2',\n",
    "                   'Тип': 'Item_Type', 'ТипТовара': 'Item_Type1', 'Номенклатура': 'Item_Name', 'Количество': 'Amount', 'Цена': 'Price', 'СуммаСтроки': 'Items_Total_Sum',\n",
    "                   'ЦенаЗакупки': 'Item_Cost', 'Маржа': 'Total_Profit_Margin', 'СуммаУслуг': 'Service_Cost', 'СуммаДоставки': 'Delivery_Cost', 'КоличествоПроданоКлиенту': 'Amount_Sold',\n",
    "                   'Телефон_new': 'Client_ID'}, inplace=True)"
   ]
  },
  {
   "cell_type": "code",
   "execution_count": 5,
   "id": "2b27305f",
   "metadata": {},
   "outputs": [
    {
     "data": {
      "text/html": [
       "<div>\n",
       "<style scoped>\n",
       "    .dataframe tbody tr th:only-of-type {\n",
       "        vertical-align: middle;\n",
       "    }\n",
       "\n",
       "    .dataframe tbody tr th {\n",
       "        vertical-align: top;\n",
       "    }\n",
       "\n",
       "    .dataframe thead th {\n",
       "        text-align: right;\n",
       "    }\n",
       "</style>\n",
       "<table border=\"1\" class=\"dataframe\">\n",
       "  <thead>\n",
       "    <tr style=\"text-align: right;\">\n",
       "      <th></th>\n",
       "      <th>Attribute</th>\n",
       "      <th>Total</th>\n",
       "      <th>Percent</th>\n",
       "    </tr>\n",
       "  </thead>\n",
       "  <tbody>\n",
       "    <tr>\n",
       "      <th>0</th>\n",
       "      <td>Item_Group2</td>\n",
       "      <td>105625</td>\n",
       "      <td>0.152739</td>\n",
       "    </tr>\n",
       "    <tr>\n",
       "      <th>1</th>\n",
       "      <td>Item_Cost</td>\n",
       "      <td>76913</td>\n",
       "      <td>0.111220</td>\n",
       "    </tr>\n",
       "    <tr>\n",
       "      <th>2</th>\n",
       "      <td>Total_Profit_Margin</td>\n",
       "      <td>76913</td>\n",
       "      <td>0.111220</td>\n",
       "    </tr>\n",
       "    <tr>\n",
       "      <th>3</th>\n",
       "      <td>Item_Type1</td>\n",
       "      <td>74690</td>\n",
       "      <td>0.108005</td>\n",
       "    </tr>\n",
       "    <tr>\n",
       "      <th>4</th>\n",
       "      <td>Item_Group</td>\n",
       "      <td>74686</td>\n",
       "      <td>0.108000</td>\n",
       "    </tr>\n",
       "    <tr>\n",
       "      <th>5</th>\n",
       "      <td>Item_Group1</td>\n",
       "      <td>74686</td>\n",
       "      <td>0.108000</td>\n",
       "    </tr>\n",
       "    <tr>\n",
       "      <th>6</th>\n",
       "      <td>Region</td>\n",
       "      <td>5142</td>\n",
       "      <td>0.007436</td>\n",
       "    </tr>\n",
       "    <tr>\n",
       "      <th>7</th>\n",
       "      <td>Order_ID</td>\n",
       "      <td>4</td>\n",
       "      <td>0.000006</td>\n",
       "    </tr>\n",
       "    <tr>\n",
       "      <th>8</th>\n",
       "      <td>Delivery_Cost</td>\n",
       "      <td>0</td>\n",
       "      <td>0.000000</td>\n",
       "    </tr>\n",
       "  </tbody>\n",
       "</table>\n",
       "</div>"
      ],
      "text/plain": [
       "             Attribute   Total   Percent\n",
       "0          Item_Group2  105625  0.152739\n",
       "1            Item_Cost   76913  0.111220\n",
       "2  Total_Profit_Margin   76913  0.111220\n",
       "3           Item_Type1   74690  0.108005\n",
       "4           Item_Group   74686  0.108000\n",
       "5          Item_Group1   74686  0.108000\n",
       "6               Region    5142  0.007436\n",
       "7             Order_ID       4  0.000006\n",
       "8        Delivery_Cost       0  0.000000"
      ]
     },
     "execution_count": 5,
     "metadata": {},
     "output_type": "execute_result"
    }
   ],
   "source": [
    "df2 = df.replace('..', np.nan)\n",
    "total1 = df2.isnull().sum().sort_values(ascending=False)\n",
    "percent1 = (df2.isnull().sum() / df2.isnull().count()).sort_values(ascending=False)\n",
    "missing_data1 = pd.concat([total1, percent1], axis=1, keys=['Total', 'Percent'])\n",
    "missing_data1.reset_index(inplace=True)\n",
    "missing_data1.rename(columns={'index': 'Attribute'}, inplace=True)\n",
    "missing_data1.head(9)"
   ]
  },
  {
   "cell_type": "markdown",
   "id": "3b0e6d71",
   "metadata": {},
   "source": [
    "#### Reordering the columns for more practicality, excluding the last level of hierarchy"
   ]
  },
  {
   "cell_type": "code",
   "execution_count": 6,
   "id": "23305ed6",
   "metadata": {},
   "outputs": [
    {
     "name": "stderr",
     "output_type": "stream",
     "text": [
      "C:\\Users\\ALIENWARE\\AppData\\Local\\Temp\\ipykernel_8952\\591900026.py:5: SettingWithCopyWarning: \n",
      "A value is trying to be set on a copy of a slice from a DataFrame\n",
      "\n",
      "See the caveats in the documentation: https://pandas.pydata.org/pandas-docs/stable/user_guide/indexing.html#returning-a-view-versus-a-copy\n",
      "  df.dropna(subset=['Item_Group', 'Item_Group1'], inplace=True)\n"
     ]
    }
   ],
   "source": [
    "df = df[['Client_ID', 'Order_ID', 'Order_Date', 'Delivery_Date', 'Status', 'New_Status', 'Initial_Order_Sum', 'Amount', 'Final_Order_Sum', 'Amount_Sold', 'Price',\n",
    "               'Item_Cost', 'Items_Total_Sum', 'Total_Profit_Margin', 'Service_Cost', 'Delivery_Cost', 'Payment_Type', 'Delivery_Type', 'Item_Type', 'Item_Type1', 'Item_Name',\n",
    "               'Item_Group', 'Item_Group1', 'Region', 'Is_Moscow']] # exclude Item_Group2\n",
    "\n",
    "df.dropna(subset=['Item_Group', 'Item_Group1'], inplace=True)"
   ]
  },
  {
   "cell_type": "code",
   "execution_count": 7,
   "id": "0e85bed5",
   "metadata": {},
   "outputs": [],
   "source": [
    "df.to_csv('data/data_clean.csv', encoding='utf-8', sep=';')"
   ]
  },
  {
   "cell_type": "code",
   "execution_count": 8,
   "id": "98d6236d",
   "metadata": {},
   "outputs": [],
   "source": [
    "df[:10000].to_csv('data/data_clean_snippet.csv', encoding='utf-8', sep=';')"
   ]
  },
  {
   "cell_type": "markdown",
   "id": "0319de73",
   "metadata": {},
   "source": [
    "### Data Overview"
   ]
  },
  {
   "cell_type": "code",
   "execution_count": 9,
   "id": "6860b317",
   "metadata": {},
   "outputs": [],
   "source": [
    "import calendar\n",
    "\n",
    "import plotly.express as px\n",
    "import plotly.graph_objects as go\n",
    "from plotly.subplots import make_subplots"
   ]
  },
  {
   "cell_type": "markdown",
   "id": "0ccee1b7",
   "metadata": {},
   "source": [
    "#### Creating new fields"
   ]
  },
  {
   "cell_type": "code",
   "execution_count": 10,
   "id": "a6ef9d2a",
   "metadata": {},
   "outputs": [
    {
     "name": "stderr",
     "output_type": "stream",
     "text": [
      "C:\\Users\\ALIENWARE\\AppData\\Local\\Temp\\ipykernel_8952\\4178424522.py:1: SettingWithCopyWarning: \n",
      "A value is trying to be set on a copy of a slice from a DataFrame.\n",
      "Try using .loc[row_indexer,col_indexer] = value instead\n",
      "\n",
      "See the caveats in the documentation: https://pandas.pydata.org/pandas-docs/stable/user_guide/indexing.html#returning-a-view-versus-a-copy\n",
      "  df[\"is_delivered\"] = df[\"New_Status\"].isin([\"Delivered\", \"In Progress\"])\n",
      "C:\\Users\\ALIENWARE\\AppData\\Local\\Temp\\ipykernel_8952\\4178424522.py:2: SettingWithCopyWarning: \n",
      "A value is trying to be set on a copy of a slice from a DataFrame.\n",
      "Try using .loc[row_indexer,col_indexer] = value instead\n",
      "\n",
      "See the caveats in the documentation: https://pandas.pydata.org/pandas-docs/stable/user_guide/indexing.html#returning-a-view-versus-a-copy\n",
      "  df[\"is_cancel_or_return\"] = df[\"New_Status\"].isin([\"Cancelled\", \"Returned\"])\n",
      "C:\\Users\\ALIENWARE\\AppData\\Local\\Temp\\ipykernel_8952\\4178424522.py:5: SettingWithCopyWarning: \n",
      "A value is trying to be set on a copy of a slice from a DataFrame.\n",
      "Try using .loc[row_indexer,col_indexer] = value instead\n",
      "\n",
      "See the caveats in the documentation: https://pandas.pydata.org/pandas-docs/stable/user_guide/indexing.html#returning-a-view-versus-a-copy\n",
      "  df[\"Revenue\"] = np.where(df[\"is_delivered\"], df[\"Final_Order_Sum\"], 0.0)\n",
      "C:\\Users\\ALIENWARE\\AppData\\Local\\Temp\\ipykernel_8952\\4178424522.py:6: SettingWithCopyWarning: \n",
      "A value is trying to be set on a copy of a slice from a DataFrame.\n",
      "Try using .loc[row_indexer,col_indexer] = value instead\n",
      "\n",
      "See the caveats in the documentation: https://pandas.pydata.org/pandas-docs/stable/user_guide/indexing.html#returning-a-view-versus-a-copy\n",
      "  df[\"Margin\"] = np.where(df[\"is_delivered\"], df[\"Total_Profit_Margin\"], 0.0)\n",
      "C:\\Users\\ALIENWARE\\AppData\\Local\\Temp\\ipykernel_8952\\4178424522.py:7: SettingWithCopyWarning: \n",
      "A value is trying to be set on a copy of a slice from a DataFrame.\n",
      "Try using .loc[row_indexer,col_indexer] = value instead\n",
      "\n",
      "See the caveats in the documentation: https://pandas.pydata.org/pandas-docs/stable/user_guide/indexing.html#returning-a-view-versus-a-copy\n",
      "  df[\"Month\"]       = df[\"Order_Date\"].dt.to_period(\"M\")\n",
      "C:\\Users\\ALIENWARE\\AppData\\Local\\Temp\\ipykernel_8952\\4178424522.py:8: SettingWithCopyWarning: \n",
      "A value is trying to be set on a copy of a slice from a DataFrame.\n",
      "Try using .loc[row_indexer,col_indexer] = value instead\n",
      "\n",
      "See the caveats in the documentation: https://pandas.pydata.org/pandas-docs/stable/user_guide/indexing.html#returning-a-view-versus-a-copy\n",
      "  df[\"Month_str\"]   = df[\"Month\"].dt.strftime(\"%B\")\n",
      "C:\\Users\\ALIENWARE\\AppData\\Local\\Temp\\ipykernel_8952\\4178424522.py:9: SettingWithCopyWarning: \n",
      "A value is trying to be set on a copy of a slice from a DataFrame.\n",
      "Try using .loc[row_indexer,col_indexer] = value instead\n",
      "\n",
      "See the caveats in the documentation: https://pandas.pydata.org/pandas-docs/stable/user_guide/indexing.html#returning-a-view-versus-a-copy\n",
      "  df[\"Weekday\"]     = df[\"Order_Date\"].dt.weekday\n",
      "C:\\Users\\ALIENWARE\\AppData\\Local\\Temp\\ipykernel_8952\\4178424522.py:10: SettingWithCopyWarning: \n",
      "A value is trying to be set on a copy of a slice from a DataFrame.\n",
      "Try using .loc[row_indexer,col_indexer] = value instead\n",
      "\n",
      "See the caveats in the documentation: https://pandas.pydata.org/pandas-docs/stable/user_guide/indexing.html#returning-a-view-versus-a-copy\n",
      "  df[\"Weekday_str\"] = df[\"Order_Date\"].dt.day_name()\n",
      "C:\\Users\\ALIENWARE\\AppData\\Local\\Temp\\ipykernel_8952\\4178424522.py:11: SettingWithCopyWarning: \n",
      "A value is trying to be set on a copy of a slice from a DataFrame.\n",
      "Try using .loc[row_indexer,col_indexer] = value instead\n",
      "\n",
      "See the caveats in the documentation: https://pandas.pydata.org/pandas-docs/stable/user_guide/indexing.html#returning-a-view-versus-a-copy\n",
      "  df[\"Hour\"]        = df[\"Order_Date\"].dt.hour\n"
     ]
    }
   ],
   "source": [
    "df[\"is_delivered\"] = df[\"New_Status\"].isin([\"Delivered\", \"In Progress\"])\n",
    "df[\"is_cancel_or_return\"] = df[\"New_Status\"].isin([\"Cancelled\", \"Returned\"])\n",
    "\n",
    "# Monetary values only for delivered orders\n",
    "df[\"Revenue\"] = np.where(df[\"is_delivered\"], df[\"Final_Order_Sum\"], 0.0)\n",
    "df[\"Margin\"] = np.where(df[\"is_delivered\"], df[\"Total_Profit_Margin\"], 0.0)\n",
    "df[\"Month\"]       = df[\"Order_Date\"].dt.to_period(\"M\")\n",
    "df[\"Month_str\"]   = df[\"Month\"].dt.strftime(\"%B\")\n",
    "df[\"Weekday\"]     = df[\"Order_Date\"].dt.weekday\n",
    "df[\"Weekday_str\"] = df[\"Order_Date\"].dt.day_name()\n",
    "df[\"Hour\"]        = df[\"Order_Date\"].dt.hour"
   ]
  },
  {
   "cell_type": "markdown",
   "id": "15b83ef5",
   "metadata": {},
   "source": [
    "#### Styler Cell"
   ]
  },
  {
   "cell_type": "code",
   "execution_count": 25,
   "id": "5d1562d1",
   "metadata": {},
   "outputs": [],
   "source": [
    "def kpi_agg(gr):\n",
    "    out = pd.Series({\n",
    "        \"Revenue\"              : gr[\"Revenue\"].sum(),\n",
    "        \"Margin\"               : gr[\"Margin\"].sum(),\n",
    "        \"Total items\"          : gr[\"Amount\"].sum(),\n",
    "        \"Unique orders\"        : gr[\"Order_ID\"].nunique(),\n",
    "        \"Unique clients\"       : gr[\"Client_ID\"].nunique(),\n",
    "        \"Avg ticket (₽)\"       : gr.loc[gr[\"is_delivered\"], \"Final_Order_Sum\"].mean(),\n",
    "        \"Avg margin / item\"    : (gr[\"Margin\"].sum() / gr[\"Amount\"].sum()) if gr[\"Amount\"].sum() else 0,\n",
    "        \"Margin %\"             : (gr[\"Margin\"].sum() / gr[\"Revenue\"].sum()) if gr[\"Revenue\"].sum() else 0,\n",
    "        \"Avg qty / order\"      : gr[\"Amount\"].sum() / gr[\"Order_ID\"].nunique()})\n",
    "    return out\n",
    "\n",
    "\n",
    "def style_tbl(tbl):\n",
    "    return (tbl.style\n",
    "            .background_gradient(cmap=\"Blues\", subset=[\"Revenue\", \"Margin\"])\n",
    "            .background_gradient(cmap=\"Blues\", subset=[\"Margin %\"])\n",
    "            .background_gradient(cmap=\"Blues\", subset=[\"Avg ticket (₽)\"])\n",
    "            .format({\n",
    "                \"Revenue\": \"{:,.0f} ₽\", \"Margin\": \"{:,.0f} ₽\",\n",
    "                \"Avg ticket (₽)\": \"{:,.0f} ₽\",\n",
    "                \"Avg margin / item\": \"{:,.1f} ₽\",\n",
    "                \"Margin %\": \"{:.1%}\", \"Total items\": \"{:.0f}\",\n",
    "                \"Unique orders\": \"{:.0f}\", \"Unique clients\": \"{:.0f}\", \"Avg qty / order\": \"{:.2f}\"}))"
   ]
  },
  {
   "cell_type": "markdown",
   "id": "c131f9cc",
   "metadata": {},
   "source": [
    "#### Buy-out and overall sales data"
   ]
  },
  {
   "cell_type": "code",
   "execution_count": 26,
   "id": "4a31e053",
   "metadata": {},
   "outputs": [
    {
     "name": "stderr",
     "output_type": "stream",
     "text": [
      "C:\\Users\\ALIENWARE\\AppData\\Local\\Temp\\ipykernel_8952\\1142780043.py:1: DeprecationWarning: DataFrameGroupBy.apply operated on the grouping columns. This behavior is deprecated, and in a future version of pandas the grouping columns will be excluded from the operation. Either pass `include_groups=False` to exclude the groupings or explicitly select the grouping columns after groupby to silence this warning.\n",
      "  monthly_kpi = df.groupby(\"Month_str\").apply(kpi_agg).sort_index(key=lambda s:pd.to_datetime(s, format=\"%B\").month).round(2)\n"
     ]
    },
    {
     "data": {
      "text/html": [
       "<style type=\"text/css\">\n",
       "#T_89b97_row0_col0, #T_89b97_row0_col1, #T_89b97_row0_col5 {\n",
       "  background-color: #08306b;\n",
       "  color: #f1f1f1;\n",
       "}\n",
       "#T_89b97_row0_col7, #T_89b97_row1_col0, #T_89b97_row1_col1, #T_89b97_row1_col5, #T_89b97_row1_col7 {\n",
       "  background-color: #f7fbff;\n",
       "  color: #000000;\n",
       "}\n",
       "</style>\n",
       "<table id=\"T_89b97\">\n",
       "  <thead>\n",
       "    <tr>\n",
       "      <th class=\"blank level0\" >&nbsp;</th>\n",
       "      <th id=\"T_89b97_level0_col0\" class=\"col_heading level0 col0\" >Revenue</th>\n",
       "      <th id=\"T_89b97_level0_col1\" class=\"col_heading level0 col1\" >Margin</th>\n",
       "      <th id=\"T_89b97_level0_col2\" class=\"col_heading level0 col2\" >Total items</th>\n",
       "      <th id=\"T_89b97_level0_col3\" class=\"col_heading level0 col3\" >Unique orders</th>\n",
       "      <th id=\"T_89b97_level0_col4\" class=\"col_heading level0 col4\" >Unique clients</th>\n",
       "      <th id=\"T_89b97_level0_col5\" class=\"col_heading level0 col5\" >Avg ticket (₽)</th>\n",
       "      <th id=\"T_89b97_level0_col6\" class=\"col_heading level0 col6\" >Avg margin / item</th>\n",
       "      <th id=\"T_89b97_level0_col7\" class=\"col_heading level0 col7\" >Margin %</th>\n",
       "      <th id=\"T_89b97_level0_col8\" class=\"col_heading level0 col8\" >Avg qty / order</th>\n",
       "    </tr>\n",
       "    <tr>\n",
       "      <th class=\"index_name level0\" >Month_str</th>\n",
       "      <th class=\"blank col0\" >&nbsp;</th>\n",
       "      <th class=\"blank col1\" >&nbsp;</th>\n",
       "      <th class=\"blank col2\" >&nbsp;</th>\n",
       "      <th class=\"blank col3\" >&nbsp;</th>\n",
       "      <th class=\"blank col4\" >&nbsp;</th>\n",
       "      <th class=\"blank col5\" >&nbsp;</th>\n",
       "      <th class=\"blank col6\" >&nbsp;</th>\n",
       "      <th class=\"blank col7\" >&nbsp;</th>\n",
       "      <th class=\"blank col8\" >&nbsp;</th>\n",
       "    </tr>\n",
       "  </thead>\n",
       "  <tbody>\n",
       "    <tr>\n",
       "      <th id=\"T_89b97_level0_row0\" class=\"row_heading level0 row0\" >March</th>\n",
       "      <td id=\"T_89b97_row0_col0\" class=\"data row0 col0\" >905,019,182 ₽</td>\n",
       "      <td id=\"T_89b97_row0_col1\" class=\"data row0 col1\" >45,863,499 ₽</td>\n",
       "      <td id=\"T_89b97_row0_col2\" class=\"data row0 col2\" >463357</td>\n",
       "      <td id=\"T_89b97_row0_col3\" class=\"data row0 col3\" >91431</td>\n",
       "      <td id=\"T_89b97_row0_col4\" class=\"data row0 col4\" >66560</td>\n",
       "      <td id=\"T_89b97_row0_col5\" class=\"data row0 col5\" >4,081 ₽</td>\n",
       "      <td id=\"T_89b97_row0_col6\" class=\"data row0 col6\" >99.0 ₽</td>\n",
       "      <td id=\"T_89b97_row0_col7\" class=\"data row0 col7\" >5.0%</td>\n",
       "      <td id=\"T_89b97_row0_col8\" class=\"data row0 col8\" >5.07</td>\n",
       "    </tr>\n",
       "    <tr>\n",
       "      <th id=\"T_89b97_level0_row1\" class=\"row_heading level0 row1\" >April</th>\n",
       "      <td id=\"T_89b97_row1_col0\" class=\"data row1 col0\" >872,299,474 ₽</td>\n",
       "      <td id=\"T_89b97_row1_col1\" class=\"data row1 col1\" >43,866,078 ₽</td>\n",
       "      <td id=\"T_89b97_row1_col2\" class=\"data row1 col2\" >464049</td>\n",
       "      <td id=\"T_89b97_row1_col3\" class=\"data row1 col3\" >86987</td>\n",
       "      <td id=\"T_89b97_row1_col4\" class=\"data row1 col4\" >63348</td>\n",
       "      <td id=\"T_89b97_row1_col5\" class=\"data row1 col5\" >4,048 ₽</td>\n",
       "      <td id=\"T_89b97_row1_col6\" class=\"data row1 col6\" >94.5 ₽</td>\n",
       "      <td id=\"T_89b97_row1_col7\" class=\"data row1 col7\" >5.0%</td>\n",
       "      <td id=\"T_89b97_row1_col8\" class=\"data row1 col8\" >5.33</td>\n",
       "    </tr>\n",
       "  </tbody>\n",
       "</table>\n"
      ],
      "text/plain": [
       "<pandas.io.formats.style.Styler at 0x1ce53130d90>"
      ]
     },
     "metadata": {},
     "output_type": "display_data"
    },
    {
     "data": {
      "text/html": [
       "<style type=\"text/css\">\n",
       "#T_b7657_row0_col0, #T_b7657_row1_col1, #T_b7657_row1_col2 {\n",
       "  background-color: #08306b;\n",
       "  color: #f1f1f1;\n",
       "}\n",
       "#T_b7657_row0_col1, #T_b7657_row0_col2, #T_b7657_row1_col0 {\n",
       "  background-color: #f7fbff;\n",
       "  color: #000000;\n",
       "}\n",
       "</style>\n",
       "<table id=\"T_b7657\">\n",
       "  <thead>\n",
       "    <tr>\n",
       "      <th class=\"blank level0\" >&nbsp;</th>\n",
       "      <th id=\"T_b7657_level0_col0\" class=\"col_heading level0 col0\" >placed_items</th>\n",
       "      <th id=\"T_b7657_level0_col1\" class=\"col_heading level0 col1\" >purchased_items</th>\n",
       "      <th id=\"T_b7657_level0_col2\" class=\"col_heading level0 col2\" >Buy-out %</th>\n",
       "    </tr>\n",
       "    <tr>\n",
       "      <th class=\"index_name level0\" >Month_str</th>\n",
       "      <th class=\"blank col0\" >&nbsp;</th>\n",
       "      <th class=\"blank col1\" >&nbsp;</th>\n",
       "      <th class=\"blank col2\" >&nbsp;</th>\n",
       "    </tr>\n",
       "  </thead>\n",
       "  <tbody>\n",
       "    <tr>\n",
       "      <th id=\"T_b7657_level0_row0\" class=\"row_heading level0 row0\" >April</th>\n",
       "      <td id=\"T_b7657_row0_col0\" class=\"data row0 col0\" >464,049</td>\n",
       "      <td id=\"T_b7657_row0_col1\" class=\"data row0 col1\" >377,629</td>\n",
       "      <td id=\"T_b7657_row0_col2\" class=\"data row0 col2\" >81</td>\n",
       "    </tr>\n",
       "    <tr>\n",
       "      <th id=\"T_b7657_level0_row1\" class=\"row_heading level0 row1\" >March</th>\n",
       "      <td id=\"T_b7657_row1_col0\" class=\"data row1 col0\" >463,357</td>\n",
       "      <td id=\"T_b7657_row1_col1\" class=\"data row1 col1\" >382,137</td>\n",
       "      <td id=\"T_b7657_row1_col2\" class=\"data row1 col2\" >82</td>\n",
       "    </tr>\n",
       "  </tbody>\n",
       "</table>\n"
      ],
      "text/plain": [
       "<pandas.io.formats.style.Styler at 0x1ce531336d0>"
      ]
     },
     "metadata": {},
     "output_type": "display_data"
    }
   ],
   "source": [
    "monthly_kpi = df.groupby(\"Month_str\").apply(kpi_agg).sort_index(key=lambda s:pd.to_datetime(s, format=\"%B\").month).round(2)\n",
    "\n",
    "# Placed vs Purchased vs Buy-out\n",
    "monthly_buyout = (df.groupby(\"Month_str\").agg(placed_items  = (\"Amount\", \"sum\"), purchased_items = (\"Amount_Sold\", \"sum\")))\n",
    "monthly_buyout[\"Buy-out %\"] = 100 * monthly_buyout[\"purchased_items\"] / monthly_buyout[\"placed_items\"]\n",
    "\n",
    "display(style_tbl(monthly_kpi))\n",
    "display(monthly_buyout.style.format(\"{:,.0f}\").background_gradient(cmap=\"Blues\"))"
   ]
  },
  {
   "cell_type": "code",
   "execution_count": 27,
   "id": "d5e52dce",
   "metadata": {},
   "outputs": [
    {
     "data": {
      "application/vnd.plotly.v1+json": {
       "config": {
        "plotlyServerURL": "https://plot.ly"
       },
       "data": [
        {
         "name": "Placed items",
         "type": "bar",
         "x": [
          "April",
          "March"
         ],
         "y": [
          464049,
          463357
         ]
        },
        {
         "name": "Purchased items",
         "type": "bar",
         "x": [
          "April",
          "March"
         ],
         "y": [
          377629,
          382137
         ]
        },
        {
         "mode": "lines+markers",
         "name": "Buy-out %",
         "type": "scatter",
         "x": [
          "April",
          "March"
         ],
         "xaxis": "x",
         "y": [
          81.37696665653843,
          82.47139894293169
         ],
         "yaxis": "y2"
        }
       ],
       "layout": {
        "barmode": "group",
        "template": {
         "data": {
          "bar": [
           {
            "error_x": {
             "color": "#2a3f5f"
            },
            "error_y": {
             "color": "#2a3f5f"
            },
            "marker": {
             "line": {
              "color": "#E5ECF6",
              "width": 0.5
             },
             "pattern": {
              "fillmode": "overlay",
              "size": 10,
              "solidity": 0.2
             }
            },
            "type": "bar"
           }
          ],
          "barpolar": [
           {
            "marker": {
             "line": {
              "color": "#E5ECF6",
              "width": 0.5
             },
             "pattern": {
              "fillmode": "overlay",
              "size": 10,
              "solidity": 0.2
             }
            },
            "type": "barpolar"
           }
          ],
          "carpet": [
           {
            "aaxis": {
             "endlinecolor": "#2a3f5f",
             "gridcolor": "white",
             "linecolor": "white",
             "minorgridcolor": "white",
             "startlinecolor": "#2a3f5f"
            },
            "baxis": {
             "endlinecolor": "#2a3f5f",
             "gridcolor": "white",
             "linecolor": "white",
             "minorgridcolor": "white",
             "startlinecolor": "#2a3f5f"
            },
            "type": "carpet"
           }
          ],
          "choropleth": [
           {
            "colorbar": {
             "outlinewidth": 0,
             "ticks": ""
            },
            "type": "choropleth"
           }
          ],
          "contour": [
           {
            "colorbar": {
             "outlinewidth": 0,
             "ticks": ""
            },
            "colorscale": [
             [
              0,
              "#0d0887"
             ],
             [
              0.1111111111111111,
              "#46039f"
             ],
             [
              0.2222222222222222,
              "#7201a8"
             ],
             [
              0.3333333333333333,
              "#9c179e"
             ],
             [
              0.4444444444444444,
              "#bd3786"
             ],
             [
              0.5555555555555556,
              "#d8576b"
             ],
             [
              0.6666666666666666,
              "#ed7953"
             ],
             [
              0.7777777777777778,
              "#fb9f3a"
             ],
             [
              0.8888888888888888,
              "#fdca26"
             ],
             [
              1,
              "#f0f921"
             ]
            ],
            "type": "contour"
           }
          ],
          "contourcarpet": [
           {
            "colorbar": {
             "outlinewidth": 0,
             "ticks": ""
            },
            "type": "contourcarpet"
           }
          ],
          "heatmap": [
           {
            "colorbar": {
             "outlinewidth": 0,
             "ticks": ""
            },
            "colorscale": [
             [
              0,
              "#0d0887"
             ],
             [
              0.1111111111111111,
              "#46039f"
             ],
             [
              0.2222222222222222,
              "#7201a8"
             ],
             [
              0.3333333333333333,
              "#9c179e"
             ],
             [
              0.4444444444444444,
              "#bd3786"
             ],
             [
              0.5555555555555556,
              "#d8576b"
             ],
             [
              0.6666666666666666,
              "#ed7953"
             ],
             [
              0.7777777777777778,
              "#fb9f3a"
             ],
             [
              0.8888888888888888,
              "#fdca26"
             ],
             [
              1,
              "#f0f921"
             ]
            ],
            "type": "heatmap"
           }
          ],
          "heatmapgl": [
           {
            "colorbar": {
             "outlinewidth": 0,
             "ticks": ""
            },
            "colorscale": [
             [
              0,
              "#0d0887"
             ],
             [
              0.1111111111111111,
              "#46039f"
             ],
             [
              0.2222222222222222,
              "#7201a8"
             ],
             [
              0.3333333333333333,
              "#9c179e"
             ],
             [
              0.4444444444444444,
              "#bd3786"
             ],
             [
              0.5555555555555556,
              "#d8576b"
             ],
             [
              0.6666666666666666,
              "#ed7953"
             ],
             [
              0.7777777777777778,
              "#fb9f3a"
             ],
             [
              0.8888888888888888,
              "#fdca26"
             ],
             [
              1,
              "#f0f921"
             ]
            ],
            "type": "heatmapgl"
           }
          ],
          "histogram": [
           {
            "marker": {
             "pattern": {
              "fillmode": "overlay",
              "size": 10,
              "solidity": 0.2
             }
            },
            "type": "histogram"
           }
          ],
          "histogram2d": [
           {
            "colorbar": {
             "outlinewidth": 0,
             "ticks": ""
            },
            "colorscale": [
             [
              0,
              "#0d0887"
             ],
             [
              0.1111111111111111,
              "#46039f"
             ],
             [
              0.2222222222222222,
              "#7201a8"
             ],
             [
              0.3333333333333333,
              "#9c179e"
             ],
             [
              0.4444444444444444,
              "#bd3786"
             ],
             [
              0.5555555555555556,
              "#d8576b"
             ],
             [
              0.6666666666666666,
              "#ed7953"
             ],
             [
              0.7777777777777778,
              "#fb9f3a"
             ],
             [
              0.8888888888888888,
              "#fdca26"
             ],
             [
              1,
              "#f0f921"
             ]
            ],
            "type": "histogram2d"
           }
          ],
          "histogram2dcontour": [
           {
            "colorbar": {
             "outlinewidth": 0,
             "ticks": ""
            },
            "colorscale": [
             [
              0,
              "#0d0887"
             ],
             [
              0.1111111111111111,
              "#46039f"
             ],
             [
              0.2222222222222222,
              "#7201a8"
             ],
             [
              0.3333333333333333,
              "#9c179e"
             ],
             [
              0.4444444444444444,
              "#bd3786"
             ],
             [
              0.5555555555555556,
              "#d8576b"
             ],
             [
              0.6666666666666666,
              "#ed7953"
             ],
             [
              0.7777777777777778,
              "#fb9f3a"
             ],
             [
              0.8888888888888888,
              "#fdca26"
             ],
             [
              1,
              "#f0f921"
             ]
            ],
            "type": "histogram2dcontour"
           }
          ],
          "mesh3d": [
           {
            "colorbar": {
             "outlinewidth": 0,
             "ticks": ""
            },
            "type": "mesh3d"
           }
          ],
          "parcoords": [
           {
            "line": {
             "colorbar": {
              "outlinewidth": 0,
              "ticks": ""
             }
            },
            "type": "parcoords"
           }
          ],
          "pie": [
           {
            "automargin": true,
            "type": "pie"
           }
          ],
          "scatter": [
           {
            "fillpattern": {
             "fillmode": "overlay",
             "size": 10,
             "solidity": 0.2
            },
            "type": "scatter"
           }
          ],
          "scatter3d": [
           {
            "line": {
             "colorbar": {
              "outlinewidth": 0,
              "ticks": ""
             }
            },
            "marker": {
             "colorbar": {
              "outlinewidth": 0,
              "ticks": ""
             }
            },
            "type": "scatter3d"
           }
          ],
          "scattercarpet": [
           {
            "marker": {
             "colorbar": {
              "outlinewidth": 0,
              "ticks": ""
             }
            },
            "type": "scattercarpet"
           }
          ],
          "scattergeo": [
           {
            "marker": {
             "colorbar": {
              "outlinewidth": 0,
              "ticks": ""
             }
            },
            "type": "scattergeo"
           }
          ],
          "scattergl": [
           {
            "marker": {
             "colorbar": {
              "outlinewidth": 0,
              "ticks": ""
             }
            },
            "type": "scattergl"
           }
          ],
          "scattermapbox": [
           {
            "marker": {
             "colorbar": {
              "outlinewidth": 0,
              "ticks": ""
             }
            },
            "type": "scattermapbox"
           }
          ],
          "scatterpolar": [
           {
            "marker": {
             "colorbar": {
              "outlinewidth": 0,
              "ticks": ""
             }
            },
            "type": "scatterpolar"
           }
          ],
          "scatterpolargl": [
           {
            "marker": {
             "colorbar": {
              "outlinewidth": 0,
              "ticks": ""
             }
            },
            "type": "scatterpolargl"
           }
          ],
          "scatterternary": [
           {
            "marker": {
             "colorbar": {
              "outlinewidth": 0,
              "ticks": ""
             }
            },
            "type": "scatterternary"
           }
          ],
          "surface": [
           {
            "colorbar": {
             "outlinewidth": 0,
             "ticks": ""
            },
            "colorscale": [
             [
              0,
              "#0d0887"
             ],
             [
              0.1111111111111111,
              "#46039f"
             ],
             [
              0.2222222222222222,
              "#7201a8"
             ],
             [
              0.3333333333333333,
              "#9c179e"
             ],
             [
              0.4444444444444444,
              "#bd3786"
             ],
             [
              0.5555555555555556,
              "#d8576b"
             ],
             [
              0.6666666666666666,
              "#ed7953"
             ],
             [
              0.7777777777777778,
              "#fb9f3a"
             ],
             [
              0.8888888888888888,
              "#fdca26"
             ],
             [
              1,
              "#f0f921"
             ]
            ],
            "type": "surface"
           }
          ],
          "table": [
           {
            "cells": {
             "fill": {
              "color": "#EBF0F8"
             },
             "line": {
              "color": "white"
             }
            },
            "header": {
             "fill": {
              "color": "#C8D4E3"
             },
             "line": {
              "color": "white"
             }
            },
            "type": "table"
           }
          ]
         },
         "layout": {
          "annotationdefaults": {
           "arrowcolor": "#2a3f5f",
           "arrowhead": 0,
           "arrowwidth": 1
          },
          "autotypenumbers": "strict",
          "coloraxis": {
           "colorbar": {
            "outlinewidth": 0,
            "ticks": ""
           }
          },
          "colorscale": {
           "diverging": [
            [
             0,
             "#8e0152"
            ],
            [
             0.1,
             "#c51b7d"
            ],
            [
             0.2,
             "#de77ae"
            ],
            [
             0.3,
             "#f1b6da"
            ],
            [
             0.4,
             "#fde0ef"
            ],
            [
             0.5,
             "#f7f7f7"
            ],
            [
             0.6,
             "#e6f5d0"
            ],
            [
             0.7,
             "#b8e186"
            ],
            [
             0.8,
             "#7fbc41"
            ],
            [
             0.9,
             "#4d9221"
            ],
            [
             1,
             "#276419"
            ]
           ],
           "sequential": [
            [
             0,
             "#0d0887"
            ],
            [
             0.1111111111111111,
             "#46039f"
            ],
            [
             0.2222222222222222,
             "#7201a8"
            ],
            [
             0.3333333333333333,
             "#9c179e"
            ],
            [
             0.4444444444444444,
             "#bd3786"
            ],
            [
             0.5555555555555556,
             "#d8576b"
            ],
            [
             0.6666666666666666,
             "#ed7953"
            ],
            [
             0.7777777777777778,
             "#fb9f3a"
            ],
            [
             0.8888888888888888,
             "#fdca26"
            ],
            [
             1,
             "#f0f921"
            ]
           ],
           "sequentialminus": [
            [
             0,
             "#0d0887"
            ],
            [
             0.1111111111111111,
             "#46039f"
            ],
            [
             0.2222222222222222,
             "#7201a8"
            ],
            [
             0.3333333333333333,
             "#9c179e"
            ],
            [
             0.4444444444444444,
             "#bd3786"
            ],
            [
             0.5555555555555556,
             "#d8576b"
            ],
            [
             0.6666666666666666,
             "#ed7953"
            ],
            [
             0.7777777777777778,
             "#fb9f3a"
            ],
            [
             0.8888888888888888,
             "#fdca26"
            ],
            [
             1,
             "#f0f921"
            ]
           ]
          },
          "colorway": [
           "#636efa",
           "#EF553B",
           "#00cc96",
           "#ab63fa",
           "#FFA15A",
           "#19d3f3",
           "#FF6692",
           "#B6E880",
           "#FF97FF",
           "#FECB52"
          ],
          "font": {
           "color": "#2a3f5f"
          },
          "geo": {
           "bgcolor": "white",
           "lakecolor": "white",
           "landcolor": "#E5ECF6",
           "showlakes": true,
           "showland": true,
           "subunitcolor": "white"
          },
          "hoverlabel": {
           "align": "left"
          },
          "hovermode": "closest",
          "mapbox": {
           "style": "light"
          },
          "paper_bgcolor": "white",
          "plot_bgcolor": "#E5ECF6",
          "polar": {
           "angularaxis": {
            "gridcolor": "white",
            "linecolor": "white",
            "ticks": ""
           },
           "bgcolor": "#E5ECF6",
           "radialaxis": {
            "gridcolor": "white",
            "linecolor": "white",
            "ticks": ""
           }
          },
          "scene": {
           "xaxis": {
            "backgroundcolor": "#E5ECF6",
            "gridcolor": "white",
            "gridwidth": 2,
            "linecolor": "white",
            "showbackground": true,
            "ticks": "",
            "zerolinecolor": "white"
           },
           "yaxis": {
            "backgroundcolor": "#E5ECF6",
            "gridcolor": "white",
            "gridwidth": 2,
            "linecolor": "white",
            "showbackground": true,
            "ticks": "",
            "zerolinecolor": "white"
           },
           "zaxis": {
            "backgroundcolor": "#E5ECF6",
            "gridcolor": "white",
            "gridwidth": 2,
            "linecolor": "white",
            "showbackground": true,
            "ticks": "",
            "zerolinecolor": "white"
           }
          },
          "shapedefaults": {
           "line": {
            "color": "#2a3f5f"
           }
          },
          "ternary": {
           "aaxis": {
            "gridcolor": "white",
            "linecolor": "white",
            "ticks": ""
           },
           "baxis": {
            "gridcolor": "white",
            "linecolor": "white",
            "ticks": ""
           },
           "bgcolor": "#E5ECF6",
           "caxis": {
            "gridcolor": "white",
            "linecolor": "white",
            "ticks": ""
           }
          },
          "title": {
           "x": 0.05
          },
          "xaxis": {
           "automargin": true,
           "gridcolor": "white",
           "linecolor": "white",
           "ticks": "",
           "title": {
            "standoff": 15
           },
           "zerolinecolor": "white",
           "zerolinewidth": 2
          },
          "yaxis": {
           "automargin": true,
           "gridcolor": "white",
           "linecolor": "white",
           "ticks": "",
           "title": {
            "standoff": 15
           },
           "zerolinecolor": "white",
           "zerolinewidth": 2
          }
         }
        },
        "title": {
         "text": "Placed vs Purchased items and Buy-out %"
        },
        "xaxis": {
         "anchor": "y",
         "domain": [
          0,
          0.94
         ]
        },
        "yaxis": {
         "anchor": "x",
         "domain": [
          0,
          1
         ],
         "title": {
          "text": "Items"
         }
        },
        "yaxis2": {
         "anchor": "x",
         "overlaying": "y",
         "side": "right",
         "title": {
          "text": "Buy-out %"
         }
        }
       }
      }
     },
     "metadata": {},
     "output_type": "display_data"
    }
   ],
   "source": [
    "fig = make_subplots(specs=[[{\"secondary_y\": True}]])\n",
    "fig.add_trace(go.Bar(\n",
    "    x=monthly_buyout.index, y=monthly_buyout[\"placed_items\"],\n",
    "    name=\"Placed items\"\n",
    "))\n",
    "fig.add_trace(go.Bar(\n",
    "    x=monthly_buyout.index, y=monthly_buyout[\"purchased_items\"],\n",
    "    name=\"Purchased items\"\n",
    "))\n",
    "fig.add_trace(go.Scatter(\n",
    "    x=monthly_buyout.index, y=monthly_buyout[\"Buy-out %\"],\n",
    "    mode=\"lines+markers\", name=\"Buy-out %\", yaxis=\"y2\"\n",
    "), secondary_y=True)\n",
    "\n",
    "fig.update_layout(\n",
    "    title=\"Placed vs Purchased items and Buy-out %\",\n",
    "    yaxis_title=\"Items\", yaxis2_title=\"Buy-out %\",\n",
    "    barmode=\"group\"\n",
    ")\n",
    "fig.show()"
   ]
  },
  {
   "cell_type": "markdown",
   "id": "139e6864",
   "metadata": {},
   "source": [
    "#### Daily Sales Data"
   ]
  },
  {
   "cell_type": "code",
   "execution_count": 28,
   "id": "caef9b19",
   "metadata": {},
   "outputs": [
    {
     "name": "stderr",
     "output_type": "stream",
     "text": [
      "C:\\Users\\ALIENWARE\\AppData\\Local\\Temp\\ipykernel_8952\\2239606899.py:1: DeprecationWarning:\n",
      "\n",
      "DataFrameGroupBy.apply operated on the grouping columns. This behavior is deprecated, and in a future version of pandas the grouping columns will be excluded from the operation. Either pass `include_groups=False` to exclude the groupings or explicitly select the grouping columns after groupby to silence this warning.\n",
      "\n"
     ]
    },
    {
     "data": {
      "text/html": [
       "<style type=\"text/css\">\n",
       "#T_bea89_row0_col0 {\n",
       "  background-color: #3f8fc5;\n",
       "  color: #f1f1f1;\n",
       "}\n",
       "#T_bea89_row0_col1 {\n",
       "  background-color: #a9cfe5;\n",
       "  color: #000000;\n",
       "}\n",
       "#T_bea89_row0_col5 {\n",
       "  background-color: #4896c8;\n",
       "  color: #f1f1f1;\n",
       "}\n",
       "#T_bea89_row0_col7, #T_bea89_row1_col7, #T_bea89_row3_col7, #T_bea89_row4_col7 {\n",
       "  background-color: #6aaed6;\n",
       "  color: #f1f1f1;\n",
       "}\n",
       "#T_bea89_row1_col0 {\n",
       "  background-color: #2c7cba;\n",
       "  color: #f1f1f1;\n",
       "}\n",
       "#T_bea89_row1_col1 {\n",
       "  background-color: #60a7d2;\n",
       "  color: #f1f1f1;\n",
       "}\n",
       "#T_bea89_row1_col5, #T_bea89_row2_col7, #T_bea89_row5_col0, #T_bea89_row5_col1 {\n",
       "  background-color: #f7fbff;\n",
       "  color: #000000;\n",
       "}\n",
       "#T_bea89_row2_col0, #T_bea89_row2_col1, #T_bea89_row5_col5, #T_bea89_row5_col7, #T_bea89_row6_col7 {\n",
       "  background-color: #08306b;\n",
       "  color: #f1f1f1;\n",
       "}\n",
       "#T_bea89_row2_col5 {\n",
       "  background-color: #f5fafe;\n",
       "  color: #000000;\n",
       "}\n",
       "#T_bea89_row3_col0 {\n",
       "  background-color: #1b69af;\n",
       "  color: #f1f1f1;\n",
       "}\n",
       "#T_bea89_row3_col1 {\n",
       "  background-color: #115ca5;\n",
       "  color: #f1f1f1;\n",
       "}\n",
       "#T_bea89_row3_col5 {\n",
       "  background-color: #dceaf6;\n",
       "  color: #000000;\n",
       "}\n",
       "#T_bea89_row4_col0 {\n",
       "  background-color: #94c4df;\n",
       "  color: #000000;\n",
       "}\n",
       "#T_bea89_row4_col1 {\n",
       "  background-color: #a3cce3;\n",
       "  color: #000000;\n",
       "}\n",
       "#T_bea89_row4_col5 {\n",
       "  background-color: #dbe9f6;\n",
       "  color: #000000;\n",
       "}\n",
       "#T_bea89_row6_col0 {\n",
       "  background-color: #d3e4f3;\n",
       "  color: #000000;\n",
       "}\n",
       "#T_bea89_row6_col1 {\n",
       "  background-color: #4f9bcb;\n",
       "  color: #f1f1f1;\n",
       "}\n",
       "#T_bea89_row6_col5 {\n",
       "  background-color: #084c95;\n",
       "  color: #f1f1f1;\n",
       "}\n",
       "</style>\n",
       "<table id=\"T_bea89\">\n",
       "  <thead>\n",
       "    <tr>\n",
       "      <th class=\"blank level0\" >&nbsp;</th>\n",
       "      <th id=\"T_bea89_level0_col0\" class=\"col_heading level0 col0\" >Revenue</th>\n",
       "      <th id=\"T_bea89_level0_col1\" class=\"col_heading level0 col1\" >Margin</th>\n",
       "      <th id=\"T_bea89_level0_col2\" class=\"col_heading level0 col2\" >Total items</th>\n",
       "      <th id=\"T_bea89_level0_col3\" class=\"col_heading level0 col3\" >Unique orders</th>\n",
       "      <th id=\"T_bea89_level0_col4\" class=\"col_heading level0 col4\" >Unique clients</th>\n",
       "      <th id=\"T_bea89_level0_col5\" class=\"col_heading level0 col5\" >Avg ticket (₽)</th>\n",
       "      <th id=\"T_bea89_level0_col6\" class=\"col_heading level0 col6\" >Avg margin / item</th>\n",
       "      <th id=\"T_bea89_level0_col7\" class=\"col_heading level0 col7\" >Margin %</th>\n",
       "      <th id=\"T_bea89_level0_col8\" class=\"col_heading level0 col8\" >Avg qty / order</th>\n",
       "    </tr>\n",
       "    <tr>\n",
       "      <th class=\"index_name level0\" >Weekday_str</th>\n",
       "      <th class=\"blank col0\" >&nbsp;</th>\n",
       "      <th class=\"blank col1\" >&nbsp;</th>\n",
       "      <th class=\"blank col2\" >&nbsp;</th>\n",
       "      <th class=\"blank col3\" >&nbsp;</th>\n",
       "      <th class=\"blank col4\" >&nbsp;</th>\n",
       "      <th class=\"blank col5\" >&nbsp;</th>\n",
       "      <th class=\"blank col6\" >&nbsp;</th>\n",
       "      <th class=\"blank col7\" >&nbsp;</th>\n",
       "      <th class=\"blank col8\" >&nbsp;</th>\n",
       "    </tr>\n",
       "  </thead>\n",
       "  <tbody>\n",
       "    <tr>\n",
       "      <th id=\"T_bea89_level0_row0\" class=\"row_heading level0 row0\" >Monday</th>\n",
       "      <td id=\"T_bea89_row0_col0\" class=\"data row0 col0\" >269,144,957 ₽</td>\n",
       "      <td id=\"T_bea89_row0_col1\" class=\"data row0 col1\" >12,245,447 ₽</td>\n",
       "      <td id=\"T_bea89_row0_col2\" class=\"data row0 col2\" >144852</td>\n",
       "      <td id=\"T_bea89_row0_col3\" class=\"data row0 col3\" >25696</td>\n",
       "      <td id=\"T_bea89_row0_col4\" class=\"data row0 col4\" >21613</td>\n",
       "      <td id=\"T_bea89_row0_col5\" class=\"data row0 col5\" >4,131 ₽</td>\n",
       "      <td id=\"T_bea89_row0_col6\" class=\"data row0 col6\" >84.5 ₽</td>\n",
       "      <td id=\"T_bea89_row0_col7\" class=\"data row0 col7\" >5.0%</td>\n",
       "      <td id=\"T_bea89_row0_col8\" class=\"data row0 col8\" >5.64</td>\n",
       "    </tr>\n",
       "    <tr>\n",
       "      <th id=\"T_bea89_level0_row1\" class=\"row_heading level0 row1\" >Tuesday</th>\n",
       "      <td id=\"T_bea89_row1_col0\" class=\"data row1 col0\" >279,944,439 ₽</td>\n",
       "      <td id=\"T_bea89_row1_col1\" class=\"data row1 col1\" >12,853,132 ₽</td>\n",
       "      <td id=\"T_bea89_row1_col2\" class=\"data row1 col2\" >146798</td>\n",
       "      <td id=\"T_bea89_row1_col3\" class=\"data row1 col3\" >27323</td>\n",
       "      <td id=\"T_bea89_row1_col4\" class=\"data row1 col4\" >23020</td>\n",
       "      <td id=\"T_bea89_row1_col5\" class=\"data row1 col5\" >3,985 ₽</td>\n",
       "      <td id=\"T_bea89_row1_col6\" class=\"data row1 col6\" >87.6 ₽</td>\n",
       "      <td id=\"T_bea89_row1_col7\" class=\"data row1 col7\" >5.0%</td>\n",
       "      <td id=\"T_bea89_row1_col8\" class=\"data row1 col8\" >5.37</td>\n",
       "    </tr>\n",
       "    <tr>\n",
       "      <th id=\"T_bea89_level0_row2\" class=\"row_heading level0 row2\" >Wednesday</th>\n",
       "      <td id=\"T_bea89_row2_col0\" class=\"data row2 col0\" >321,963,524 ₽</td>\n",
       "      <td id=\"T_bea89_row2_col1\" class=\"data row2 col1\" >14,355,197 ₽</td>\n",
       "      <td id=\"T_bea89_row2_col2\" class=\"data row2 col2\" >163147</td>\n",
       "      <td id=\"T_bea89_row2_col3\" class=\"data row2 col3\" >30804</td>\n",
       "      <td id=\"T_bea89_row2_col4\" class=\"data row2 col4\" >25669</td>\n",
       "      <td id=\"T_bea89_row2_col5\" class=\"data row2 col5\" >3,988 ₽</td>\n",
       "      <td id=\"T_bea89_row2_col6\" class=\"data row2 col6\" >88.0 ₽</td>\n",
       "      <td id=\"T_bea89_row2_col7\" class=\"data row2 col7\" >4.0%</td>\n",
       "      <td id=\"T_bea89_row2_col8\" class=\"data row2 col8\" >5.30</td>\n",
       "    </tr>\n",
       "    <tr>\n",
       "      <th id=\"T_bea89_level0_row3\" class=\"row_heading level0 row3\" >Thursday</th>\n",
       "      <td id=\"T_bea89_row3_col0\" class=\"data row3 col0\" >289,886,184 ₽</td>\n",
       "      <td id=\"T_bea89_row3_col1\" class=\"data row3 col1\" >13,803,684 ₽</td>\n",
       "      <td id=\"T_bea89_row3_col2\" class=\"data row3 col2\" >150531</td>\n",
       "      <td id=\"T_bea89_row3_col3\" class=\"data row3 col3\" >28636</td>\n",
       "      <td id=\"T_bea89_row3_col4\" class=\"data row3 col4\" >24114</td>\n",
       "      <td id=\"T_bea89_row3_col5\" class=\"data row3 col5\" >4,017 ₽</td>\n",
       "      <td id=\"T_bea89_row3_col6\" class=\"data row3 col6\" >91.7 ₽</td>\n",
       "      <td id=\"T_bea89_row3_col7\" class=\"data row3 col7\" >5.0%</td>\n",
       "      <td id=\"T_bea89_row3_col8\" class=\"data row3 col8\" >5.26</td>\n",
       "    </tr>\n",
       "    <tr>\n",
       "      <th id=\"T_bea89_level0_row4\" class=\"row_heading level0 row4\" >Friday</th>\n",
       "      <td id=\"T_bea89_row4_col0\" class=\"data row4 col0\" >235,486,048 ₽</td>\n",
       "      <td id=\"T_bea89_row4_col1\" class=\"data row4 col1\" >12,310,984 ₽</td>\n",
       "      <td id=\"T_bea89_row4_col2\" class=\"data row4 col2\" >125460</td>\n",
       "      <td id=\"T_bea89_row4_col3\" class=\"data row4 col3\" >24786</td>\n",
       "      <td id=\"T_bea89_row4_col4\" class=\"data row4 col4\" >21123</td>\n",
       "      <td id=\"T_bea89_row4_col5\" class=\"data row4 col5\" >4,019 ₽</td>\n",
       "      <td id=\"T_bea89_row4_col6\" class=\"data row4 col6\" >98.1 ₽</td>\n",
       "      <td id=\"T_bea89_row4_col7\" class=\"data row4 col7\" >5.0%</td>\n",
       "      <td id=\"T_bea89_row4_col8\" class=\"data row4 col8\" >5.06</td>\n",
       "    </tr>\n",
       "    <tr>\n",
       "      <th id=\"T_bea89_level0_row5\" class=\"row_heading level0 row5\" >Saturday</th>\n",
       "      <td id=\"T_bea89_row5_col0\" class=\"data row5 col0\" >177,390,340 ₽</td>\n",
       "      <td id=\"T_bea89_row5_col1\" class=\"data row5 col1\" >11,145,914 ₽</td>\n",
       "      <td id=\"T_bea89_row5_col2\" class=\"data row5 col2\" >91548</td>\n",
       "      <td id=\"T_bea89_row5_col3\" class=\"data row5 col3\" >19470</td>\n",
       "      <td id=\"T_bea89_row5_col4\" class=\"data row5 col4\" >16728</td>\n",
       "      <td id=\"T_bea89_row5_col5\" class=\"data row5 col5\" >4,226 ₽</td>\n",
       "      <td id=\"T_bea89_row5_col6\" class=\"data row5 col6\" >121.8 ₽</td>\n",
       "      <td id=\"T_bea89_row5_col7\" class=\"data row5 col7\" >6.0%</td>\n",
       "      <td id=\"T_bea89_row5_col8\" class=\"data row5 col8\" >4.70</td>\n",
       "    </tr>\n",
       "    <tr>\n",
       "      <th id=\"T_bea89_level0_row6\" class=\"row_heading level0 row6\" >Sunday</th>\n",
       "      <td id=\"T_bea89_row6_col0\" class=\"data row6 col0\" >203,503,164 ₽</td>\n",
       "      <td id=\"T_bea89_row6_col1\" class=\"data row6 col1\" >13,015,218 ₽</td>\n",
       "      <td id=\"T_bea89_row6_col2\" class=\"data row6 col2\" >105070</td>\n",
       "      <td id=\"T_bea89_row6_col3\" class=\"data row6 col3\" >21703</td>\n",
       "      <td id=\"T_bea89_row6_col4\" class=\"data row6 col4\" >18767</td>\n",
       "      <td id=\"T_bea89_row6_col5\" class=\"data row6 col5\" >4,201 ₽</td>\n",
       "      <td id=\"T_bea89_row6_col6\" class=\"data row6 col6\" >123.9 ₽</td>\n",
       "      <td id=\"T_bea89_row6_col7\" class=\"data row6 col7\" >6.0%</td>\n",
       "      <td id=\"T_bea89_row6_col8\" class=\"data row6 col8\" >4.84</td>\n",
       "    </tr>\n",
       "  </tbody>\n",
       "</table>\n"
      ],
      "text/plain": [
       "<pandas.io.formats.style.Styler at 0x1ce52139990>"
      ]
     },
     "metadata": {},
     "output_type": "display_data"
    }
   ],
   "source": [
    "weekday_kpi = (df.groupby(\"Weekday_str\").apply(kpi_agg).reindex(list(calendar.day_name)).round(2))\n",
    "display(style_tbl(weekday_kpi))"
   ]
  },
  {
   "cell_type": "code",
   "execution_count": 29,
   "id": "7645d753",
   "metadata": {},
   "outputs": [
    {
     "data": {
      "application/vnd.plotly.v1+json": {
       "config": {
        "plotlyServerURL": "https://plot.ly"
       },
       "data": [
        {
         "coloraxis": "coloraxis",
         "hovertemplate": "Hour: %{x}<br>y: %{y}<br>Revenue: %{z}<extra></extra>",
         "name": "0",
         "type": "heatmap",
         "x": [
          0,
          1,
          2,
          3,
          4,
          5,
          6,
          7,
          8,
          9,
          10,
          11,
          12,
          13,
          14,
          15,
          16,
          17,
          18,
          19,
          20,
          21,
          22,
          23
         ],
         "xaxis": "x",
         "y": [
          "Monday",
          "Tuesday",
          "Wednesday",
          "Thursday",
          "Friday",
          "Saturday",
          "Sunday"
         ],
         "yaxis": "y",
         "z": [
          [
           552791,
           1898,
           4006502.52,
           825357,
           605848,
           411661,
           675136,
           890400.2,
           1098868,
           2114678.6,
           13985385.58,
           15373859.99,
           16949452.07,
           13527541.83,
           27532201.45,
           24155318.69,
           22467312.25,
           22046761.59,
           20339104.82,
           17411219.54,
           18535653.8,
           9655191.71,
           21029155.31,
           14953658.21
          ],
          [
           2323634.6,
           0,
           9668136.6,
           169277,
           717334,
           254334,
           895306.5,
           1603067,
           2874447.4,
           1791137,
           12240214.35,
           22643624.62,
           18311285.61,
           16088896.15,
           20177967.42,
           20151100.35,
           18631301.83,
           20917291.63,
           22709615.78,
           14798008.68,
           15703097.96,
           18712858.05,
           20222675.06,
           18339827.17
          ],
          [
           1257718.12,
           0,
           10706960.95,
           540333.92,
           1061923,
           455380,
           862806,
           1587025,
           2797853,
           2164000.4,
           15470153.72,
           25397614.97,
           29948267.15,
           24010616.49,
           22452361.37,
           23397119.25,
           29870901.32,
           17608265.35,
           15361579.25,
           22724566.8,
           14215503.12,
           23936335.8,
           17462331.01,
           18673907.81
          ],
          [
           1366352.64,
           0,
           12340617.77,
           1278110,
           361800,
           1006210,
           913267,
           1822296,
           1353835,
           1274050,
           15937299.41,
           23363495.96,
           21666264.73,
           18675118.09,
           25905798.59,
           23853387.55,
           24208681.02,
           25480763.91,
           19278608.41,
           16399911.16,
           17885723.4,
           12428459.26,
           11104088.36,
           11982045.56
          ],
          [
           4197651.06,
           null,
           7984136.83,
           644370,
           2494183.73,
           276488,
           941561,
           1735713,
           1994728.65,
           4331959.19,
           9262036.64,
           24026033.38,
           19935558.45,
           12434839.59,
           12806143.28,
           16023946.54,
           12961082.56,
           22616235.43,
           21720239.06,
           16441097.92,
           10730049.99,
           9791004.03,
           10710692.8,
           11426297.15
          ],
          [
           2317907,
           44940,
           5179559.42,
           618048,
           314679,
           1404057.51,
           501618.4,
           460795.67,
           1444089,
           1570987.89,
           13798155.95,
           17175781.66,
           17251106.93,
           9920484.7,
           12379496.1,
           12008461.15,
           12888612.55,
           13518829.62,
           12302143.6,
           11144961.76,
           11557432.45,
           9033631,
           4946428.7,
           5608132
          ],
          [
           7786770,
           null,
           2921954,
           656688,
           3452915.36,
           159619,
           123949,
           1128421.05,
           1110415,
           5402892.12,
           16770691.08,
           13913840.75,
           13896149.7,
           7999843.35,
           10483960.46,
           8526123.05,
           10013031.75,
           18261558.34,
           15444757.44,
           14415032.92,
           14105305.57,
           13436568.92,
           9711482.42,
           13781194.57
          ]
         ]
        }
       ],
       "layout": {
        "coloraxis": {
         "colorbar": {
          "title": {
           "text": "Revenue"
          }
         },
         "colorscale": [
          [
           0,
           "#0d0887"
          ],
          [
           0.1111111111111111,
           "#46039f"
          ],
          [
           0.2222222222222222,
           "#7201a8"
          ],
          [
           0.3333333333333333,
           "#9c179e"
          ],
          [
           0.4444444444444444,
           "#bd3786"
          ],
          [
           0.5555555555555556,
           "#d8576b"
          ],
          [
           0.6666666666666666,
           "#ed7953"
          ],
          [
           0.7777777777777778,
           "#fb9f3a"
          ],
          [
           0.8888888888888888,
           "#fdca26"
          ],
          [
           1,
           "#f0f921"
          ]
         ]
        },
        "template": {
         "data": {
          "bar": [
           {
            "error_x": {
             "color": "#2a3f5f"
            },
            "error_y": {
             "color": "#2a3f5f"
            },
            "marker": {
             "line": {
              "color": "#E5ECF6",
              "width": 0.5
             },
             "pattern": {
              "fillmode": "overlay",
              "size": 10,
              "solidity": 0.2
             }
            },
            "type": "bar"
           }
          ],
          "barpolar": [
           {
            "marker": {
             "line": {
              "color": "#E5ECF6",
              "width": 0.5
             },
             "pattern": {
              "fillmode": "overlay",
              "size": 10,
              "solidity": 0.2
             }
            },
            "type": "barpolar"
           }
          ],
          "carpet": [
           {
            "aaxis": {
             "endlinecolor": "#2a3f5f",
             "gridcolor": "white",
             "linecolor": "white",
             "minorgridcolor": "white",
             "startlinecolor": "#2a3f5f"
            },
            "baxis": {
             "endlinecolor": "#2a3f5f",
             "gridcolor": "white",
             "linecolor": "white",
             "minorgridcolor": "white",
             "startlinecolor": "#2a3f5f"
            },
            "type": "carpet"
           }
          ],
          "choropleth": [
           {
            "colorbar": {
             "outlinewidth": 0,
             "ticks": ""
            },
            "type": "choropleth"
           }
          ],
          "contour": [
           {
            "colorbar": {
             "outlinewidth": 0,
             "ticks": ""
            },
            "colorscale": [
             [
              0,
              "#0d0887"
             ],
             [
              0.1111111111111111,
              "#46039f"
             ],
             [
              0.2222222222222222,
              "#7201a8"
             ],
             [
              0.3333333333333333,
              "#9c179e"
             ],
             [
              0.4444444444444444,
              "#bd3786"
             ],
             [
              0.5555555555555556,
              "#d8576b"
             ],
             [
              0.6666666666666666,
              "#ed7953"
             ],
             [
              0.7777777777777778,
              "#fb9f3a"
             ],
             [
              0.8888888888888888,
              "#fdca26"
             ],
             [
              1,
              "#f0f921"
             ]
            ],
            "type": "contour"
           }
          ],
          "contourcarpet": [
           {
            "colorbar": {
             "outlinewidth": 0,
             "ticks": ""
            },
            "type": "contourcarpet"
           }
          ],
          "heatmap": [
           {
            "colorbar": {
             "outlinewidth": 0,
             "ticks": ""
            },
            "colorscale": [
             [
              0,
              "#0d0887"
             ],
             [
              0.1111111111111111,
              "#46039f"
             ],
             [
              0.2222222222222222,
              "#7201a8"
             ],
             [
              0.3333333333333333,
              "#9c179e"
             ],
             [
              0.4444444444444444,
              "#bd3786"
             ],
             [
              0.5555555555555556,
              "#d8576b"
             ],
             [
              0.6666666666666666,
              "#ed7953"
             ],
             [
              0.7777777777777778,
              "#fb9f3a"
             ],
             [
              0.8888888888888888,
              "#fdca26"
             ],
             [
              1,
              "#f0f921"
             ]
            ],
            "type": "heatmap"
           }
          ],
          "heatmapgl": [
           {
            "colorbar": {
             "outlinewidth": 0,
             "ticks": ""
            },
            "colorscale": [
             [
              0,
              "#0d0887"
             ],
             [
              0.1111111111111111,
              "#46039f"
             ],
             [
              0.2222222222222222,
              "#7201a8"
             ],
             [
              0.3333333333333333,
              "#9c179e"
             ],
             [
              0.4444444444444444,
              "#bd3786"
             ],
             [
              0.5555555555555556,
              "#d8576b"
             ],
             [
              0.6666666666666666,
              "#ed7953"
             ],
             [
              0.7777777777777778,
              "#fb9f3a"
             ],
             [
              0.8888888888888888,
              "#fdca26"
             ],
             [
              1,
              "#f0f921"
             ]
            ],
            "type": "heatmapgl"
           }
          ],
          "histogram": [
           {
            "marker": {
             "pattern": {
              "fillmode": "overlay",
              "size": 10,
              "solidity": 0.2
             }
            },
            "type": "histogram"
           }
          ],
          "histogram2d": [
           {
            "colorbar": {
             "outlinewidth": 0,
             "ticks": ""
            },
            "colorscale": [
             [
              0,
              "#0d0887"
             ],
             [
              0.1111111111111111,
              "#46039f"
             ],
             [
              0.2222222222222222,
              "#7201a8"
             ],
             [
              0.3333333333333333,
              "#9c179e"
             ],
             [
              0.4444444444444444,
              "#bd3786"
             ],
             [
              0.5555555555555556,
              "#d8576b"
             ],
             [
              0.6666666666666666,
              "#ed7953"
             ],
             [
              0.7777777777777778,
              "#fb9f3a"
             ],
             [
              0.8888888888888888,
              "#fdca26"
             ],
             [
              1,
              "#f0f921"
             ]
            ],
            "type": "histogram2d"
           }
          ],
          "histogram2dcontour": [
           {
            "colorbar": {
             "outlinewidth": 0,
             "ticks": ""
            },
            "colorscale": [
             [
              0,
              "#0d0887"
             ],
             [
              0.1111111111111111,
              "#46039f"
             ],
             [
              0.2222222222222222,
              "#7201a8"
             ],
             [
              0.3333333333333333,
              "#9c179e"
             ],
             [
              0.4444444444444444,
              "#bd3786"
             ],
             [
              0.5555555555555556,
              "#d8576b"
             ],
             [
              0.6666666666666666,
              "#ed7953"
             ],
             [
              0.7777777777777778,
              "#fb9f3a"
             ],
             [
              0.8888888888888888,
              "#fdca26"
             ],
             [
              1,
              "#f0f921"
             ]
            ],
            "type": "histogram2dcontour"
           }
          ],
          "mesh3d": [
           {
            "colorbar": {
             "outlinewidth": 0,
             "ticks": ""
            },
            "type": "mesh3d"
           }
          ],
          "parcoords": [
           {
            "line": {
             "colorbar": {
              "outlinewidth": 0,
              "ticks": ""
             }
            },
            "type": "parcoords"
           }
          ],
          "pie": [
           {
            "automargin": true,
            "type": "pie"
           }
          ],
          "scatter": [
           {
            "fillpattern": {
             "fillmode": "overlay",
             "size": 10,
             "solidity": 0.2
            },
            "type": "scatter"
           }
          ],
          "scatter3d": [
           {
            "line": {
             "colorbar": {
              "outlinewidth": 0,
              "ticks": ""
             }
            },
            "marker": {
             "colorbar": {
              "outlinewidth": 0,
              "ticks": ""
             }
            },
            "type": "scatter3d"
           }
          ],
          "scattercarpet": [
           {
            "marker": {
             "colorbar": {
              "outlinewidth": 0,
              "ticks": ""
             }
            },
            "type": "scattercarpet"
           }
          ],
          "scattergeo": [
           {
            "marker": {
             "colorbar": {
              "outlinewidth": 0,
              "ticks": ""
             }
            },
            "type": "scattergeo"
           }
          ],
          "scattergl": [
           {
            "marker": {
             "colorbar": {
              "outlinewidth": 0,
              "ticks": ""
             }
            },
            "type": "scattergl"
           }
          ],
          "scattermapbox": [
           {
            "marker": {
             "colorbar": {
              "outlinewidth": 0,
              "ticks": ""
             }
            },
            "type": "scattermapbox"
           }
          ],
          "scatterpolar": [
           {
            "marker": {
             "colorbar": {
              "outlinewidth": 0,
              "ticks": ""
             }
            },
            "type": "scatterpolar"
           }
          ],
          "scatterpolargl": [
           {
            "marker": {
             "colorbar": {
              "outlinewidth": 0,
              "ticks": ""
             }
            },
            "type": "scatterpolargl"
           }
          ],
          "scatterternary": [
           {
            "marker": {
             "colorbar": {
              "outlinewidth": 0,
              "ticks": ""
             }
            },
            "type": "scatterternary"
           }
          ],
          "surface": [
           {
            "colorbar": {
             "outlinewidth": 0,
             "ticks": ""
            },
            "colorscale": [
             [
              0,
              "#0d0887"
             ],
             [
              0.1111111111111111,
              "#46039f"
             ],
             [
              0.2222222222222222,
              "#7201a8"
             ],
             [
              0.3333333333333333,
              "#9c179e"
             ],
             [
              0.4444444444444444,
              "#bd3786"
             ],
             [
              0.5555555555555556,
              "#d8576b"
             ],
             [
              0.6666666666666666,
              "#ed7953"
             ],
             [
              0.7777777777777778,
              "#fb9f3a"
             ],
             [
              0.8888888888888888,
              "#fdca26"
             ],
             [
              1,
              "#f0f921"
             ]
            ],
            "type": "surface"
           }
          ],
          "table": [
           {
            "cells": {
             "fill": {
              "color": "#EBF0F8"
             },
             "line": {
              "color": "white"
             }
            },
            "header": {
             "fill": {
              "color": "#C8D4E3"
             },
             "line": {
              "color": "white"
             }
            },
            "type": "table"
           }
          ]
         },
         "layout": {
          "annotationdefaults": {
           "arrowcolor": "#2a3f5f",
           "arrowhead": 0,
           "arrowwidth": 1
          },
          "autotypenumbers": "strict",
          "coloraxis": {
           "colorbar": {
            "outlinewidth": 0,
            "ticks": ""
           }
          },
          "colorscale": {
           "diverging": [
            [
             0,
             "#8e0152"
            ],
            [
             0.1,
             "#c51b7d"
            ],
            [
             0.2,
             "#de77ae"
            ],
            [
             0.3,
             "#f1b6da"
            ],
            [
             0.4,
             "#fde0ef"
            ],
            [
             0.5,
             "#f7f7f7"
            ],
            [
             0.6,
             "#e6f5d0"
            ],
            [
             0.7,
             "#b8e186"
            ],
            [
             0.8,
             "#7fbc41"
            ],
            [
             0.9,
             "#4d9221"
            ],
            [
             1,
             "#276419"
            ]
           ],
           "sequential": [
            [
             0,
             "#0d0887"
            ],
            [
             0.1111111111111111,
             "#46039f"
            ],
            [
             0.2222222222222222,
             "#7201a8"
            ],
            [
             0.3333333333333333,
             "#9c179e"
            ],
            [
             0.4444444444444444,
             "#bd3786"
            ],
            [
             0.5555555555555556,
             "#d8576b"
            ],
            [
             0.6666666666666666,
             "#ed7953"
            ],
            [
             0.7777777777777778,
             "#fb9f3a"
            ],
            [
             0.8888888888888888,
             "#fdca26"
            ],
            [
             1,
             "#f0f921"
            ]
           ],
           "sequentialminus": [
            [
             0,
             "#0d0887"
            ],
            [
             0.1111111111111111,
             "#46039f"
            ],
            [
             0.2222222222222222,
             "#7201a8"
            ],
            [
             0.3333333333333333,
             "#9c179e"
            ],
            [
             0.4444444444444444,
             "#bd3786"
            ],
            [
             0.5555555555555556,
             "#d8576b"
            ],
            [
             0.6666666666666666,
             "#ed7953"
            ],
            [
             0.7777777777777778,
             "#fb9f3a"
            ],
            [
             0.8888888888888888,
             "#fdca26"
            ],
            [
             1,
             "#f0f921"
            ]
           ]
          },
          "colorway": [
           "#636efa",
           "#EF553B",
           "#00cc96",
           "#ab63fa",
           "#FFA15A",
           "#19d3f3",
           "#FF6692",
           "#B6E880",
           "#FF97FF",
           "#FECB52"
          ],
          "font": {
           "color": "#2a3f5f"
          },
          "geo": {
           "bgcolor": "white",
           "lakecolor": "white",
           "landcolor": "#E5ECF6",
           "showlakes": true,
           "showland": true,
           "subunitcolor": "white"
          },
          "hoverlabel": {
           "align": "left"
          },
          "hovermode": "closest",
          "mapbox": {
           "style": "light"
          },
          "paper_bgcolor": "white",
          "plot_bgcolor": "#E5ECF6",
          "polar": {
           "angularaxis": {
            "gridcolor": "white",
            "linecolor": "white",
            "ticks": ""
           },
           "bgcolor": "#E5ECF6",
           "radialaxis": {
            "gridcolor": "white",
            "linecolor": "white",
            "ticks": ""
           }
          },
          "scene": {
           "xaxis": {
            "backgroundcolor": "#E5ECF6",
            "gridcolor": "white",
            "gridwidth": 2,
            "linecolor": "white",
            "showbackground": true,
            "ticks": "",
            "zerolinecolor": "white"
           },
           "yaxis": {
            "backgroundcolor": "#E5ECF6",
            "gridcolor": "white",
            "gridwidth": 2,
            "linecolor": "white",
            "showbackground": true,
            "ticks": "",
            "zerolinecolor": "white"
           },
           "zaxis": {
            "backgroundcolor": "#E5ECF6",
            "gridcolor": "white",
            "gridwidth": 2,
            "linecolor": "white",
            "showbackground": true,
            "ticks": "",
            "zerolinecolor": "white"
           }
          },
          "shapedefaults": {
           "line": {
            "color": "#2a3f5f"
           }
          },
          "ternary": {
           "aaxis": {
            "gridcolor": "white",
            "linecolor": "white",
            "ticks": ""
           },
           "baxis": {
            "gridcolor": "white",
            "linecolor": "white",
            "ticks": ""
           },
           "bgcolor": "#E5ECF6",
           "caxis": {
            "gridcolor": "white",
            "linecolor": "white",
            "ticks": ""
           }
          },
          "title": {
           "x": 0.05
          },
          "xaxis": {
           "automargin": true,
           "gridcolor": "white",
           "linecolor": "white",
           "ticks": "",
           "title": {
            "standoff": 15
           },
           "zerolinecolor": "white",
           "zerolinewidth": 2
          },
          "yaxis": {
           "automargin": true,
           "gridcolor": "white",
           "linecolor": "white",
           "ticks": "",
           "title": {
            "standoff": 15
           },
           "zerolinecolor": "white",
           "zerolinewidth": 2
          }
         }
        },
        "title": {
         "text": "Revenue heat-map (weekday × hour)"
        },
        "xaxis": {
         "anchor": "y",
         "constrain": "domain",
         "domain": [
          0,
          1
         ],
         "scaleanchor": "y",
         "title": {
          "text": "Hour"
         }
        },
        "yaxis": {
         "anchor": "x",
         "autorange": "reversed",
         "constrain": "domain",
         "domain": [
          0,
          1
         ]
        }
       }
      }
     },
     "metadata": {},
     "output_type": "display_data"
    },
    {
     "data": {
      "application/vnd.plotly.v1+json": {
       "config": {
        "plotlyServerURL": "https://plot.ly"
       },
       "data": [
        {
         "coloraxis": "coloraxis",
         "hovertemplate": "Hour: %{x}<br>y: %{y}<br>Margin: %{z}<extra></extra>",
         "name": "0",
         "type": "heatmap",
         "x": [
          0,
          1,
          2,
          3,
          4,
          5,
          6,
          7,
          8,
          9,
          10,
          11,
          12,
          13,
          14,
          15,
          16,
          17,
          18,
          19,
          20,
          21,
          22,
          23
         ],
         "xaxis": "x",
         "y": [
          "Monday",
          "Tuesday",
          "Wednesday",
          "Thursday",
          "Friday",
          "Saturday",
          "Sunday"
         ],
         "yaxis": "y",
         "z": [
          [
           34521.43,
           499,
           223160.34,
           39358.81,
           17268.920000000002,
           19607.829999999998,
           48904.090000000004,
           72797.89,
           92943.19,
           183345.38,
           754988.78,
           794834.4,
           900925.15,
           559545.22,
           1350026.29,
           1063967.99,
           977448.15,
           672383.35,
           974733.37,
           709900.1900000001,
           865329.04,
           500084.65,
           897511.08,
           491362.45
          ],
          [
           149557.6,
           0,
           375510.41,
           9291.8,
           37164.7,
           21364.68,
           72730.82,
           116055.81,
           190327.15,
           180951.37,
           737286.84,
           805628.86,
           803734.83,
           839568.56,
           898178.72,
           1070699.14,
           801835.82,
           958828.03,
           1110077.77,
           756027.03,
           796364.09,
           817776.36,
           694296.81,
           609874.94
          ],
          [
           26811.13,
           0,
           452223.61,
           16660.76,
           38922.4,
           14635.38,
           70597.52,
           127122.33,
           208707.17,
           136287.12,
           706602.51,
           937562.85,
           1359035.6,
           961389.78,
           998087.06,
           1087213.91,
           1367982.9,
           782005.01,
           796221.58,
           1153664.67,
           644494.73,
           1120359.2,
           683109.6,
           665500.01
          ],
          [
           90118.18,
           0,
           536964.2,
           58828.29,
           23885.29,
           25438.96,
           75333.3,
           68216.69,
           103598.16,
           103173.17,
           1001713.49,
           1044682.73,
           1023283.68,
           776479,
           1121655.93,
           1127153.63,
           1225665.8,
           983067.83,
           1074488.98,
           845345.26,
           870874.18,
           532311.49,
           577501.42,
           513904.18
          ],
          [
           285588.35,
           null,
           329344.78,
           30650.97,
           137108.49,
           20985.29,
           60606.67,
           145874.97,
           176781.94,
           307899.58,
           599558.82,
           1070392.92,
           900363.37,
           736547.76,
           696028.26,
           906957.16,
           703969.65,
           1233294.25,
           1016044.5,
           851144.03,
           589090.05,
           526712.66,
           520091.59,
           465948.03
          ],
          [
           193255.91,
           414.91,
           246033.66,
           16549.03,
           6171.05,
           76902.75,
           23309.54,
           71293.02,
           114727.62,
           117743.52,
           649254.77,
           783557.17,
           902461.4,
           670977.61,
           1052792.27,
           953613.61,
           930897.5,
           929094.54,
           896098.1,
           821436.26,
           708845.84,
           464256.1,
           227164.85,
           289063.44
          ],
          [
           501925.54,
           null,
           193817.82,
           38456.6,
           93959.19,
           9204.69,
           16295.76,
           91134.57,
           89739.42,
           219719.42,
           703495.66,
           860063.41,
           1004678.77,
           666409.34,
           821240.83,
           746505.14,
           818668.16,
           1287659.7,
           1185297.07,
           957922.12,
           794588.73,
           687549.08,
           546327.17,
           680560.28
          ]
         ]
        }
       ],
       "layout": {
        "coloraxis": {
         "colorbar": {
          "title": {
           "text": "Margin"
          }
         },
         "colorscale": [
          [
           0,
           "#0d0887"
          ],
          [
           0.1111111111111111,
           "#46039f"
          ],
          [
           0.2222222222222222,
           "#7201a8"
          ],
          [
           0.3333333333333333,
           "#9c179e"
          ],
          [
           0.4444444444444444,
           "#bd3786"
          ],
          [
           0.5555555555555556,
           "#d8576b"
          ],
          [
           0.6666666666666666,
           "#ed7953"
          ],
          [
           0.7777777777777778,
           "#fb9f3a"
          ],
          [
           0.8888888888888888,
           "#fdca26"
          ],
          [
           1,
           "#f0f921"
          ]
         ]
        },
        "template": {
         "data": {
          "bar": [
           {
            "error_x": {
             "color": "#2a3f5f"
            },
            "error_y": {
             "color": "#2a3f5f"
            },
            "marker": {
             "line": {
              "color": "#E5ECF6",
              "width": 0.5
             },
             "pattern": {
              "fillmode": "overlay",
              "size": 10,
              "solidity": 0.2
             }
            },
            "type": "bar"
           }
          ],
          "barpolar": [
           {
            "marker": {
             "line": {
              "color": "#E5ECF6",
              "width": 0.5
             },
             "pattern": {
              "fillmode": "overlay",
              "size": 10,
              "solidity": 0.2
             }
            },
            "type": "barpolar"
           }
          ],
          "carpet": [
           {
            "aaxis": {
             "endlinecolor": "#2a3f5f",
             "gridcolor": "white",
             "linecolor": "white",
             "minorgridcolor": "white",
             "startlinecolor": "#2a3f5f"
            },
            "baxis": {
             "endlinecolor": "#2a3f5f",
             "gridcolor": "white",
             "linecolor": "white",
             "minorgridcolor": "white",
             "startlinecolor": "#2a3f5f"
            },
            "type": "carpet"
           }
          ],
          "choropleth": [
           {
            "colorbar": {
             "outlinewidth": 0,
             "ticks": ""
            },
            "type": "choropleth"
           }
          ],
          "contour": [
           {
            "colorbar": {
             "outlinewidth": 0,
             "ticks": ""
            },
            "colorscale": [
             [
              0,
              "#0d0887"
             ],
             [
              0.1111111111111111,
              "#46039f"
             ],
             [
              0.2222222222222222,
              "#7201a8"
             ],
             [
              0.3333333333333333,
              "#9c179e"
             ],
             [
              0.4444444444444444,
              "#bd3786"
             ],
             [
              0.5555555555555556,
              "#d8576b"
             ],
             [
              0.6666666666666666,
              "#ed7953"
             ],
             [
              0.7777777777777778,
              "#fb9f3a"
             ],
             [
              0.8888888888888888,
              "#fdca26"
             ],
             [
              1,
              "#f0f921"
             ]
            ],
            "type": "contour"
           }
          ],
          "contourcarpet": [
           {
            "colorbar": {
             "outlinewidth": 0,
             "ticks": ""
            },
            "type": "contourcarpet"
           }
          ],
          "heatmap": [
           {
            "colorbar": {
             "outlinewidth": 0,
             "ticks": ""
            },
            "colorscale": [
             [
              0,
              "#0d0887"
             ],
             [
              0.1111111111111111,
              "#46039f"
             ],
             [
              0.2222222222222222,
              "#7201a8"
             ],
             [
              0.3333333333333333,
              "#9c179e"
             ],
             [
              0.4444444444444444,
              "#bd3786"
             ],
             [
              0.5555555555555556,
              "#d8576b"
             ],
             [
              0.6666666666666666,
              "#ed7953"
             ],
             [
              0.7777777777777778,
              "#fb9f3a"
             ],
             [
              0.8888888888888888,
              "#fdca26"
             ],
             [
              1,
              "#f0f921"
             ]
            ],
            "type": "heatmap"
           }
          ],
          "heatmapgl": [
           {
            "colorbar": {
             "outlinewidth": 0,
             "ticks": ""
            },
            "colorscale": [
             [
              0,
              "#0d0887"
             ],
             [
              0.1111111111111111,
              "#46039f"
             ],
             [
              0.2222222222222222,
              "#7201a8"
             ],
             [
              0.3333333333333333,
              "#9c179e"
             ],
             [
              0.4444444444444444,
              "#bd3786"
             ],
             [
              0.5555555555555556,
              "#d8576b"
             ],
             [
              0.6666666666666666,
              "#ed7953"
             ],
             [
              0.7777777777777778,
              "#fb9f3a"
             ],
             [
              0.8888888888888888,
              "#fdca26"
             ],
             [
              1,
              "#f0f921"
             ]
            ],
            "type": "heatmapgl"
           }
          ],
          "histogram": [
           {
            "marker": {
             "pattern": {
              "fillmode": "overlay",
              "size": 10,
              "solidity": 0.2
             }
            },
            "type": "histogram"
           }
          ],
          "histogram2d": [
           {
            "colorbar": {
             "outlinewidth": 0,
             "ticks": ""
            },
            "colorscale": [
             [
              0,
              "#0d0887"
             ],
             [
              0.1111111111111111,
              "#46039f"
             ],
             [
              0.2222222222222222,
              "#7201a8"
             ],
             [
              0.3333333333333333,
              "#9c179e"
             ],
             [
              0.4444444444444444,
              "#bd3786"
             ],
             [
              0.5555555555555556,
              "#d8576b"
             ],
             [
              0.6666666666666666,
              "#ed7953"
             ],
             [
              0.7777777777777778,
              "#fb9f3a"
             ],
             [
              0.8888888888888888,
              "#fdca26"
             ],
             [
              1,
              "#f0f921"
             ]
            ],
            "type": "histogram2d"
           }
          ],
          "histogram2dcontour": [
           {
            "colorbar": {
             "outlinewidth": 0,
             "ticks": ""
            },
            "colorscale": [
             [
              0,
              "#0d0887"
             ],
             [
              0.1111111111111111,
              "#46039f"
             ],
             [
              0.2222222222222222,
              "#7201a8"
             ],
             [
              0.3333333333333333,
              "#9c179e"
             ],
             [
              0.4444444444444444,
              "#bd3786"
             ],
             [
              0.5555555555555556,
              "#d8576b"
             ],
             [
              0.6666666666666666,
              "#ed7953"
             ],
             [
              0.7777777777777778,
              "#fb9f3a"
             ],
             [
              0.8888888888888888,
              "#fdca26"
             ],
             [
              1,
              "#f0f921"
             ]
            ],
            "type": "histogram2dcontour"
           }
          ],
          "mesh3d": [
           {
            "colorbar": {
             "outlinewidth": 0,
             "ticks": ""
            },
            "type": "mesh3d"
           }
          ],
          "parcoords": [
           {
            "line": {
             "colorbar": {
              "outlinewidth": 0,
              "ticks": ""
             }
            },
            "type": "parcoords"
           }
          ],
          "pie": [
           {
            "automargin": true,
            "type": "pie"
           }
          ],
          "scatter": [
           {
            "fillpattern": {
             "fillmode": "overlay",
             "size": 10,
             "solidity": 0.2
            },
            "type": "scatter"
           }
          ],
          "scatter3d": [
           {
            "line": {
             "colorbar": {
              "outlinewidth": 0,
              "ticks": ""
             }
            },
            "marker": {
             "colorbar": {
              "outlinewidth": 0,
              "ticks": ""
             }
            },
            "type": "scatter3d"
           }
          ],
          "scattercarpet": [
           {
            "marker": {
             "colorbar": {
              "outlinewidth": 0,
              "ticks": ""
             }
            },
            "type": "scattercarpet"
           }
          ],
          "scattergeo": [
           {
            "marker": {
             "colorbar": {
              "outlinewidth": 0,
              "ticks": ""
             }
            },
            "type": "scattergeo"
           }
          ],
          "scattergl": [
           {
            "marker": {
             "colorbar": {
              "outlinewidth": 0,
              "ticks": ""
             }
            },
            "type": "scattergl"
           }
          ],
          "scattermapbox": [
           {
            "marker": {
             "colorbar": {
              "outlinewidth": 0,
              "ticks": ""
             }
            },
            "type": "scattermapbox"
           }
          ],
          "scatterpolar": [
           {
            "marker": {
             "colorbar": {
              "outlinewidth": 0,
              "ticks": ""
             }
            },
            "type": "scatterpolar"
           }
          ],
          "scatterpolargl": [
           {
            "marker": {
             "colorbar": {
              "outlinewidth": 0,
              "ticks": ""
             }
            },
            "type": "scatterpolargl"
           }
          ],
          "scatterternary": [
           {
            "marker": {
             "colorbar": {
              "outlinewidth": 0,
              "ticks": ""
             }
            },
            "type": "scatterternary"
           }
          ],
          "surface": [
           {
            "colorbar": {
             "outlinewidth": 0,
             "ticks": ""
            },
            "colorscale": [
             [
              0,
              "#0d0887"
             ],
             [
              0.1111111111111111,
              "#46039f"
             ],
             [
              0.2222222222222222,
              "#7201a8"
             ],
             [
              0.3333333333333333,
              "#9c179e"
             ],
             [
              0.4444444444444444,
              "#bd3786"
             ],
             [
              0.5555555555555556,
              "#d8576b"
             ],
             [
              0.6666666666666666,
              "#ed7953"
             ],
             [
              0.7777777777777778,
              "#fb9f3a"
             ],
             [
              0.8888888888888888,
              "#fdca26"
             ],
             [
              1,
              "#f0f921"
             ]
            ],
            "type": "surface"
           }
          ],
          "table": [
           {
            "cells": {
             "fill": {
              "color": "#EBF0F8"
             },
             "line": {
              "color": "white"
             }
            },
            "header": {
             "fill": {
              "color": "#C8D4E3"
             },
             "line": {
              "color": "white"
             }
            },
            "type": "table"
           }
          ]
         },
         "layout": {
          "annotationdefaults": {
           "arrowcolor": "#2a3f5f",
           "arrowhead": 0,
           "arrowwidth": 1
          },
          "autotypenumbers": "strict",
          "coloraxis": {
           "colorbar": {
            "outlinewidth": 0,
            "ticks": ""
           }
          },
          "colorscale": {
           "diverging": [
            [
             0,
             "#8e0152"
            ],
            [
             0.1,
             "#c51b7d"
            ],
            [
             0.2,
             "#de77ae"
            ],
            [
             0.3,
             "#f1b6da"
            ],
            [
             0.4,
             "#fde0ef"
            ],
            [
             0.5,
             "#f7f7f7"
            ],
            [
             0.6,
             "#e6f5d0"
            ],
            [
             0.7,
             "#b8e186"
            ],
            [
             0.8,
             "#7fbc41"
            ],
            [
             0.9,
             "#4d9221"
            ],
            [
             1,
             "#276419"
            ]
           ],
           "sequential": [
            [
             0,
             "#0d0887"
            ],
            [
             0.1111111111111111,
             "#46039f"
            ],
            [
             0.2222222222222222,
             "#7201a8"
            ],
            [
             0.3333333333333333,
             "#9c179e"
            ],
            [
             0.4444444444444444,
             "#bd3786"
            ],
            [
             0.5555555555555556,
             "#d8576b"
            ],
            [
             0.6666666666666666,
             "#ed7953"
            ],
            [
             0.7777777777777778,
             "#fb9f3a"
            ],
            [
             0.8888888888888888,
             "#fdca26"
            ],
            [
             1,
             "#f0f921"
            ]
           ],
           "sequentialminus": [
            [
             0,
             "#0d0887"
            ],
            [
             0.1111111111111111,
             "#46039f"
            ],
            [
             0.2222222222222222,
             "#7201a8"
            ],
            [
             0.3333333333333333,
             "#9c179e"
            ],
            [
             0.4444444444444444,
             "#bd3786"
            ],
            [
             0.5555555555555556,
             "#d8576b"
            ],
            [
             0.6666666666666666,
             "#ed7953"
            ],
            [
             0.7777777777777778,
             "#fb9f3a"
            ],
            [
             0.8888888888888888,
             "#fdca26"
            ],
            [
             1,
             "#f0f921"
            ]
           ]
          },
          "colorway": [
           "#636efa",
           "#EF553B",
           "#00cc96",
           "#ab63fa",
           "#FFA15A",
           "#19d3f3",
           "#FF6692",
           "#B6E880",
           "#FF97FF",
           "#FECB52"
          ],
          "font": {
           "color": "#2a3f5f"
          },
          "geo": {
           "bgcolor": "white",
           "lakecolor": "white",
           "landcolor": "#E5ECF6",
           "showlakes": true,
           "showland": true,
           "subunitcolor": "white"
          },
          "hoverlabel": {
           "align": "left"
          },
          "hovermode": "closest",
          "mapbox": {
           "style": "light"
          },
          "paper_bgcolor": "white",
          "plot_bgcolor": "#E5ECF6",
          "polar": {
           "angularaxis": {
            "gridcolor": "white",
            "linecolor": "white",
            "ticks": ""
           },
           "bgcolor": "#E5ECF6",
           "radialaxis": {
            "gridcolor": "white",
            "linecolor": "white",
            "ticks": ""
           }
          },
          "scene": {
           "xaxis": {
            "backgroundcolor": "#E5ECF6",
            "gridcolor": "white",
            "gridwidth": 2,
            "linecolor": "white",
            "showbackground": true,
            "ticks": "",
            "zerolinecolor": "white"
           },
           "yaxis": {
            "backgroundcolor": "#E5ECF6",
            "gridcolor": "white",
            "gridwidth": 2,
            "linecolor": "white",
            "showbackground": true,
            "ticks": "",
            "zerolinecolor": "white"
           },
           "zaxis": {
            "backgroundcolor": "#E5ECF6",
            "gridcolor": "white",
            "gridwidth": 2,
            "linecolor": "white",
            "showbackground": true,
            "ticks": "",
            "zerolinecolor": "white"
           }
          },
          "shapedefaults": {
           "line": {
            "color": "#2a3f5f"
           }
          },
          "ternary": {
           "aaxis": {
            "gridcolor": "white",
            "linecolor": "white",
            "ticks": ""
           },
           "baxis": {
            "gridcolor": "white",
            "linecolor": "white",
            "ticks": ""
           },
           "bgcolor": "#E5ECF6",
           "caxis": {
            "gridcolor": "white",
            "linecolor": "white",
            "ticks": ""
           }
          },
          "title": {
           "x": 0.05
          },
          "xaxis": {
           "automargin": true,
           "gridcolor": "white",
           "linecolor": "white",
           "ticks": "",
           "title": {
            "standoff": 15
           },
           "zerolinecolor": "white",
           "zerolinewidth": 2
          },
          "yaxis": {
           "automargin": true,
           "gridcolor": "white",
           "linecolor": "white",
           "ticks": "",
           "title": {
            "standoff": 15
           },
           "zerolinecolor": "white",
           "zerolinewidth": 2
          }
         }
        },
        "title": {
         "text": "Margin heat-map (weekday × hour)"
        },
        "xaxis": {
         "anchor": "y",
         "constrain": "domain",
         "domain": [
          0,
          1
         ],
         "scaleanchor": "y",
         "title": {
          "text": "Hour"
         }
        },
        "yaxis": {
         "anchor": "x",
         "autorange": "reversed",
         "constrain": "domain",
         "domain": [
          0,
          1
         ]
        }
       }
      }
     },
     "metadata": {},
     "output_type": "display_data"
    }
   ],
   "source": [
    "pivot_rev = df.pivot_table(\n",
    "    index=\"Weekday_str\", columns=\"Hour\", values=\"Revenue\", aggfunc=\"sum\"\n",
    ").reindex(list(calendar.day_name))\n",
    "\n",
    "pivot_margin = df.pivot_table(\n",
    "    index=\"Weekday_str\", columns=\"Hour\", values=\"Margin\", aggfunc=\"sum\"\n",
    ").reindex(list(calendar.day_name))\n",
    "\n",
    "fig1 = px.imshow(pivot_rev, labels=dict(x=\"Hour\", y=\"\", color=\"Revenue\"),\n",
    "                 title=\"Revenue heat-map (weekday × hour)\")\n",
    "fig1.update_yaxes(autorange=\"reversed\")\n",
    "fig1.show()\n",
    "\n",
    "fig2 = px.imshow(pivot_margin, labels=dict(x=\"Hour\", y=\"\", color=\"Margin\"),\n",
    "                 title=\"Margin heat-map (weekday × hour)\")\n",
    "fig2.update_yaxes(autorange=\"reversed\")\n",
    "fig2.show()"
   ]
  },
  {
   "cell_type": "code",
   "execution_count": 30,
   "id": "94294f43",
   "metadata": {},
   "outputs": [
    {
     "data": {
      "application/vnd.plotly.v1+json": {
       "config": {
        "plotlyServerURL": "https://plot.ly"
       },
       "data": [
        {
         "mode": "lines+markers",
         "name": "Revenue",
         "type": "scatter",
         "x": [
          0,
          1,
          2,
          3,
          4,
          5,
          6,
          7,
          8,
          9,
          10,
          11,
          12,
          13,
          14,
          15,
          16,
          17,
          18,
          19,
          20,
          21,
          22,
          23
         ],
         "y": [
          19802824.42,
          46838,
          52807868.09,
          4732183.92,
          9008683.09,
          3967749.51,
          4913643.9,
          9227717.92,
          12674236.05,
          18649705.2,
          97463936.73,
          141894251.33,
          137958084.64,
          102657340.2,
          131737928.67,
          128115456.58,
          131040923.28,
          140449705.87,
          127156048.36,
          113334798.78,
          102732766.29,
          96994048.77,
          95186853.66,
          94765062.47
         ]
        },
        {
         "mode": "lines+markers",
         "name": "Margin",
         "type": "scatter",
         "x": [
          0,
          1,
          2,
          3,
          4,
          5,
          6,
          7,
          8,
          9,
          10,
          11,
          12,
          13,
          14,
          15,
          16,
          17,
          18,
          19,
          20,
          21,
          22,
          23
         ],
         "y": [
          1281778.14,
          913.9100000000001,
          2357054.82,
          209796.26,
          354480.04,
          188139.58,
          367777.7,
          692495.28,
          976824.65,
          1249119.56,
          5152900.87,
          6296722.34,
          6894482.8,
          5210917.27,
          6938009.36,
          6956110.58,
          6826467.98,
          6846332.71,
          7052961.37,
          6095439.56,
          5269586.66,
          4649049.54,
          4146002.52,
          3716213.33
         ]
        }
       ],
       "layout": {
        "template": {
         "data": {
          "bar": [
           {
            "error_x": {
             "color": "#2a3f5f"
            },
            "error_y": {
             "color": "#2a3f5f"
            },
            "marker": {
             "line": {
              "color": "#E5ECF6",
              "width": 0.5
             },
             "pattern": {
              "fillmode": "overlay",
              "size": 10,
              "solidity": 0.2
             }
            },
            "type": "bar"
           }
          ],
          "barpolar": [
           {
            "marker": {
             "line": {
              "color": "#E5ECF6",
              "width": 0.5
             },
             "pattern": {
              "fillmode": "overlay",
              "size": 10,
              "solidity": 0.2
             }
            },
            "type": "barpolar"
           }
          ],
          "carpet": [
           {
            "aaxis": {
             "endlinecolor": "#2a3f5f",
             "gridcolor": "white",
             "linecolor": "white",
             "minorgridcolor": "white",
             "startlinecolor": "#2a3f5f"
            },
            "baxis": {
             "endlinecolor": "#2a3f5f",
             "gridcolor": "white",
             "linecolor": "white",
             "minorgridcolor": "white",
             "startlinecolor": "#2a3f5f"
            },
            "type": "carpet"
           }
          ],
          "choropleth": [
           {
            "colorbar": {
             "outlinewidth": 0,
             "ticks": ""
            },
            "type": "choropleth"
           }
          ],
          "contour": [
           {
            "colorbar": {
             "outlinewidth": 0,
             "ticks": ""
            },
            "colorscale": [
             [
              0,
              "#0d0887"
             ],
             [
              0.1111111111111111,
              "#46039f"
             ],
             [
              0.2222222222222222,
              "#7201a8"
             ],
             [
              0.3333333333333333,
              "#9c179e"
             ],
             [
              0.4444444444444444,
              "#bd3786"
             ],
             [
              0.5555555555555556,
              "#d8576b"
             ],
             [
              0.6666666666666666,
              "#ed7953"
             ],
             [
              0.7777777777777778,
              "#fb9f3a"
             ],
             [
              0.8888888888888888,
              "#fdca26"
             ],
             [
              1,
              "#f0f921"
             ]
            ],
            "type": "contour"
           }
          ],
          "contourcarpet": [
           {
            "colorbar": {
             "outlinewidth": 0,
             "ticks": ""
            },
            "type": "contourcarpet"
           }
          ],
          "heatmap": [
           {
            "colorbar": {
             "outlinewidth": 0,
             "ticks": ""
            },
            "colorscale": [
             [
              0,
              "#0d0887"
             ],
             [
              0.1111111111111111,
              "#46039f"
             ],
             [
              0.2222222222222222,
              "#7201a8"
             ],
             [
              0.3333333333333333,
              "#9c179e"
             ],
             [
              0.4444444444444444,
              "#bd3786"
             ],
             [
              0.5555555555555556,
              "#d8576b"
             ],
             [
              0.6666666666666666,
              "#ed7953"
             ],
             [
              0.7777777777777778,
              "#fb9f3a"
             ],
             [
              0.8888888888888888,
              "#fdca26"
             ],
             [
              1,
              "#f0f921"
             ]
            ],
            "type": "heatmap"
           }
          ],
          "heatmapgl": [
           {
            "colorbar": {
             "outlinewidth": 0,
             "ticks": ""
            },
            "colorscale": [
             [
              0,
              "#0d0887"
             ],
             [
              0.1111111111111111,
              "#46039f"
             ],
             [
              0.2222222222222222,
              "#7201a8"
             ],
             [
              0.3333333333333333,
              "#9c179e"
             ],
             [
              0.4444444444444444,
              "#bd3786"
             ],
             [
              0.5555555555555556,
              "#d8576b"
             ],
             [
              0.6666666666666666,
              "#ed7953"
             ],
             [
              0.7777777777777778,
              "#fb9f3a"
             ],
             [
              0.8888888888888888,
              "#fdca26"
             ],
             [
              1,
              "#f0f921"
             ]
            ],
            "type": "heatmapgl"
           }
          ],
          "histogram": [
           {
            "marker": {
             "pattern": {
              "fillmode": "overlay",
              "size": 10,
              "solidity": 0.2
             }
            },
            "type": "histogram"
           }
          ],
          "histogram2d": [
           {
            "colorbar": {
             "outlinewidth": 0,
             "ticks": ""
            },
            "colorscale": [
             [
              0,
              "#0d0887"
             ],
             [
              0.1111111111111111,
              "#46039f"
             ],
             [
              0.2222222222222222,
              "#7201a8"
             ],
             [
              0.3333333333333333,
              "#9c179e"
             ],
             [
              0.4444444444444444,
              "#bd3786"
             ],
             [
              0.5555555555555556,
              "#d8576b"
             ],
             [
              0.6666666666666666,
              "#ed7953"
             ],
             [
              0.7777777777777778,
              "#fb9f3a"
             ],
             [
              0.8888888888888888,
              "#fdca26"
             ],
             [
              1,
              "#f0f921"
             ]
            ],
            "type": "histogram2d"
           }
          ],
          "histogram2dcontour": [
           {
            "colorbar": {
             "outlinewidth": 0,
             "ticks": ""
            },
            "colorscale": [
             [
              0,
              "#0d0887"
             ],
             [
              0.1111111111111111,
              "#46039f"
             ],
             [
              0.2222222222222222,
              "#7201a8"
             ],
             [
              0.3333333333333333,
              "#9c179e"
             ],
             [
              0.4444444444444444,
              "#bd3786"
             ],
             [
              0.5555555555555556,
              "#d8576b"
             ],
             [
              0.6666666666666666,
              "#ed7953"
             ],
             [
              0.7777777777777778,
              "#fb9f3a"
             ],
             [
              0.8888888888888888,
              "#fdca26"
             ],
             [
              1,
              "#f0f921"
             ]
            ],
            "type": "histogram2dcontour"
           }
          ],
          "mesh3d": [
           {
            "colorbar": {
             "outlinewidth": 0,
             "ticks": ""
            },
            "type": "mesh3d"
           }
          ],
          "parcoords": [
           {
            "line": {
             "colorbar": {
              "outlinewidth": 0,
              "ticks": ""
             }
            },
            "type": "parcoords"
           }
          ],
          "pie": [
           {
            "automargin": true,
            "type": "pie"
           }
          ],
          "scatter": [
           {
            "fillpattern": {
             "fillmode": "overlay",
             "size": 10,
             "solidity": 0.2
            },
            "type": "scatter"
           }
          ],
          "scatter3d": [
           {
            "line": {
             "colorbar": {
              "outlinewidth": 0,
              "ticks": ""
             }
            },
            "marker": {
             "colorbar": {
              "outlinewidth": 0,
              "ticks": ""
             }
            },
            "type": "scatter3d"
           }
          ],
          "scattercarpet": [
           {
            "marker": {
             "colorbar": {
              "outlinewidth": 0,
              "ticks": ""
             }
            },
            "type": "scattercarpet"
           }
          ],
          "scattergeo": [
           {
            "marker": {
             "colorbar": {
              "outlinewidth": 0,
              "ticks": ""
             }
            },
            "type": "scattergeo"
           }
          ],
          "scattergl": [
           {
            "marker": {
             "colorbar": {
              "outlinewidth": 0,
              "ticks": ""
             }
            },
            "type": "scattergl"
           }
          ],
          "scattermapbox": [
           {
            "marker": {
             "colorbar": {
              "outlinewidth": 0,
              "ticks": ""
             }
            },
            "type": "scattermapbox"
           }
          ],
          "scatterpolar": [
           {
            "marker": {
             "colorbar": {
              "outlinewidth": 0,
              "ticks": ""
             }
            },
            "type": "scatterpolar"
           }
          ],
          "scatterpolargl": [
           {
            "marker": {
             "colorbar": {
              "outlinewidth": 0,
              "ticks": ""
             }
            },
            "type": "scatterpolargl"
           }
          ],
          "scatterternary": [
           {
            "marker": {
             "colorbar": {
              "outlinewidth": 0,
              "ticks": ""
             }
            },
            "type": "scatterternary"
           }
          ],
          "surface": [
           {
            "colorbar": {
             "outlinewidth": 0,
             "ticks": ""
            },
            "colorscale": [
             [
              0,
              "#0d0887"
             ],
             [
              0.1111111111111111,
              "#46039f"
             ],
             [
              0.2222222222222222,
              "#7201a8"
             ],
             [
              0.3333333333333333,
              "#9c179e"
             ],
             [
              0.4444444444444444,
              "#bd3786"
             ],
             [
              0.5555555555555556,
              "#d8576b"
             ],
             [
              0.6666666666666666,
              "#ed7953"
             ],
             [
              0.7777777777777778,
              "#fb9f3a"
             ],
             [
              0.8888888888888888,
              "#fdca26"
             ],
             [
              1,
              "#f0f921"
             ]
            ],
            "type": "surface"
           }
          ],
          "table": [
           {
            "cells": {
             "fill": {
              "color": "#EBF0F8"
             },
             "line": {
              "color": "white"
             }
            },
            "header": {
             "fill": {
              "color": "#C8D4E3"
             },
             "line": {
              "color": "white"
             }
            },
            "type": "table"
           }
          ]
         },
         "layout": {
          "annotationdefaults": {
           "arrowcolor": "#2a3f5f",
           "arrowhead": 0,
           "arrowwidth": 1
          },
          "autotypenumbers": "strict",
          "coloraxis": {
           "colorbar": {
            "outlinewidth": 0,
            "ticks": ""
           }
          },
          "colorscale": {
           "diverging": [
            [
             0,
             "#8e0152"
            ],
            [
             0.1,
             "#c51b7d"
            ],
            [
             0.2,
             "#de77ae"
            ],
            [
             0.3,
             "#f1b6da"
            ],
            [
             0.4,
             "#fde0ef"
            ],
            [
             0.5,
             "#f7f7f7"
            ],
            [
             0.6,
             "#e6f5d0"
            ],
            [
             0.7,
             "#b8e186"
            ],
            [
             0.8,
             "#7fbc41"
            ],
            [
             0.9,
             "#4d9221"
            ],
            [
             1,
             "#276419"
            ]
           ],
           "sequential": [
            [
             0,
             "#0d0887"
            ],
            [
             0.1111111111111111,
             "#46039f"
            ],
            [
             0.2222222222222222,
             "#7201a8"
            ],
            [
             0.3333333333333333,
             "#9c179e"
            ],
            [
             0.4444444444444444,
             "#bd3786"
            ],
            [
             0.5555555555555556,
             "#d8576b"
            ],
            [
             0.6666666666666666,
             "#ed7953"
            ],
            [
             0.7777777777777778,
             "#fb9f3a"
            ],
            [
             0.8888888888888888,
             "#fdca26"
            ],
            [
             1,
             "#f0f921"
            ]
           ],
           "sequentialminus": [
            [
             0,
             "#0d0887"
            ],
            [
             0.1111111111111111,
             "#46039f"
            ],
            [
             0.2222222222222222,
             "#7201a8"
            ],
            [
             0.3333333333333333,
             "#9c179e"
            ],
            [
             0.4444444444444444,
             "#bd3786"
            ],
            [
             0.5555555555555556,
             "#d8576b"
            ],
            [
             0.6666666666666666,
             "#ed7953"
            ],
            [
             0.7777777777777778,
             "#fb9f3a"
            ],
            [
             0.8888888888888888,
             "#fdca26"
            ],
            [
             1,
             "#f0f921"
            ]
           ]
          },
          "colorway": [
           "#636efa",
           "#EF553B",
           "#00cc96",
           "#ab63fa",
           "#FFA15A",
           "#19d3f3",
           "#FF6692",
           "#B6E880",
           "#FF97FF",
           "#FECB52"
          ],
          "font": {
           "color": "#2a3f5f"
          },
          "geo": {
           "bgcolor": "white",
           "lakecolor": "white",
           "landcolor": "#E5ECF6",
           "showlakes": true,
           "showland": true,
           "subunitcolor": "white"
          },
          "hoverlabel": {
           "align": "left"
          },
          "hovermode": "closest",
          "mapbox": {
           "style": "light"
          },
          "paper_bgcolor": "white",
          "plot_bgcolor": "#E5ECF6",
          "polar": {
           "angularaxis": {
            "gridcolor": "white",
            "linecolor": "white",
            "ticks": ""
           },
           "bgcolor": "#E5ECF6",
           "radialaxis": {
            "gridcolor": "white",
            "linecolor": "white",
            "ticks": ""
           }
          },
          "scene": {
           "xaxis": {
            "backgroundcolor": "#E5ECF6",
            "gridcolor": "white",
            "gridwidth": 2,
            "linecolor": "white",
            "showbackground": true,
            "ticks": "",
            "zerolinecolor": "white"
           },
           "yaxis": {
            "backgroundcolor": "#E5ECF6",
            "gridcolor": "white",
            "gridwidth": 2,
            "linecolor": "white",
            "showbackground": true,
            "ticks": "",
            "zerolinecolor": "white"
           },
           "zaxis": {
            "backgroundcolor": "#E5ECF6",
            "gridcolor": "white",
            "gridwidth": 2,
            "linecolor": "white",
            "showbackground": true,
            "ticks": "",
            "zerolinecolor": "white"
           }
          },
          "shapedefaults": {
           "line": {
            "color": "#2a3f5f"
           }
          },
          "ternary": {
           "aaxis": {
            "gridcolor": "white",
            "linecolor": "white",
            "ticks": ""
           },
           "baxis": {
            "gridcolor": "white",
            "linecolor": "white",
            "ticks": ""
           },
           "bgcolor": "#E5ECF6",
           "caxis": {
            "gridcolor": "white",
            "linecolor": "white",
            "ticks": ""
           }
          },
          "title": {
           "x": 0.05
          },
          "xaxis": {
           "automargin": true,
           "gridcolor": "white",
           "linecolor": "white",
           "ticks": "",
           "title": {
            "standoff": 15
           },
           "zerolinecolor": "white",
           "zerolinewidth": 2
          },
          "yaxis": {
           "automargin": true,
           "gridcolor": "white",
           "linecolor": "white",
           "ticks": "",
           "title": {
            "standoff": 15
           },
           "zerolinecolor": "white",
           "zerolinewidth": 2
          }
         }
        },
        "title": {
         "text": "Revenue & Margin by Hour"
        },
        "xaxis": {
         "anchor": "y",
         "domain": [
          0,
          1
         ],
         "title": {
          "text": "Hour"
         }
        },
        "yaxis": {
         "anchor": "x",
         "domain": [
          0,
          1
         ]
        }
       }
      }
     },
     "metadata": {},
     "output_type": "display_data"
    }
   ],
   "source": [
    "hourly = (\n",
    "    df.groupby(\"Hour\")[[\"Revenue\", \"Margin\"]]\n",
    "      .sum()\n",
    "      .sort_index()\n",
    ")\n",
    "\n",
    "fig = make_subplots()\n",
    "fig.add_trace(go.Scatter(x=hourly.index, y=hourly[\"Revenue\"],\n",
    "                         mode=\"lines+markers\", name=\"Revenue\"))\n",
    "fig.add_trace(go.Scatter(x=hourly.index, y=hourly[\"Margin\"],\n",
    "                         mode=\"lines+markers\", name=\"Margin\"))\n",
    "fig.update_layout(title=\"Revenue & Margin by Hour\", xaxis_title=\"Hour\")\n",
    "fig.show()"
   ]
  },
  {
   "cell_type": "code",
   "execution_count": 32,
   "id": "4bc3ddda",
   "metadata": {},
   "outputs": [
    {
     "data": {
      "application/vnd.plotly.v1+json": {
       "config": {
        "plotlyServerURL": "https://plot.ly"
       },
       "data": [
        {
         "line": {
          "color": "#1f77b4"
         },
         "mode": "lines+markers",
         "name": "Average ticket (₽)",
         "type": "scatter",
         "x": [
          0,
          1,
          2,
          3,
          4,
          5,
          6,
          7,
          8,
          9,
          10,
          11,
          12,
          13,
          14,
          15,
          16,
          17,
          18,
          19,
          20,
          21,
          22,
          23
         ],
         "y": [
          3474.789334971048,
          3122.5333333333333,
          3533.4806349949818,
          2883.719634369287,
          3725.675388751034,
          3028.8164198473282,
          2904.0448581560286,
          2989.218632977,
          2877.238603859251,
          3618.4915017462163,
          4164.057794155345,
          4522.525938804782,
          4217.354018097334,
          4104.487633441286,
          4160.495473408287,
          3963.9683347772275,
          4128.703591165443,
          4166.287142772389,
          4070.9476023691373,
          4002.3589638732915,
          4028.893928781521,
          4151.076297611915,
          4073.0361001283695,
          4083.996831149802
         ]
        },
        {
         "line": {
          "color": "#e749dc"
         },
         "mode": "lines+markers",
         "name": "Orders count",
         "type": "scatter",
         "x": [
          0,
          1,
          2,
          3,
          4,
          5,
          6,
          7,
          8,
          9,
          10,
          11,
          12,
          13,
          14,
          15,
          16,
          17,
          18,
          19,
          20,
          21,
          22,
          23
         ],
         "y": [
          1944,
          2,
          4011,
          471,
          624,
          388,
          621,
          1114,
          1765,
          1838,
          7285,
          8680,
          9289,
          7217,
          9396,
          9757,
          9284,
          9423,
          9454,
          8192,
          7545,
          6894,
          6705,
          5950
         ],
         "yaxis": "y2"
        }
       ],
       "layout": {
        "legend": {
         "x": 0.01,
         "y": 0.99,
         "yanchor": "top"
        },
        "template": {
         "data": {
          "bar": [
           {
            "error_x": {
             "color": "#2a3f5f"
            },
            "error_y": {
             "color": "#2a3f5f"
            },
            "marker": {
             "line": {
              "color": "#E5ECF6",
              "width": 0.5
             },
             "pattern": {
              "fillmode": "overlay",
              "size": 10,
              "solidity": 0.2
             }
            },
            "type": "bar"
           }
          ],
          "barpolar": [
           {
            "marker": {
             "line": {
              "color": "#E5ECF6",
              "width": 0.5
             },
             "pattern": {
              "fillmode": "overlay",
              "size": 10,
              "solidity": 0.2
             }
            },
            "type": "barpolar"
           }
          ],
          "carpet": [
           {
            "aaxis": {
             "endlinecolor": "#2a3f5f",
             "gridcolor": "white",
             "linecolor": "white",
             "minorgridcolor": "white",
             "startlinecolor": "#2a3f5f"
            },
            "baxis": {
             "endlinecolor": "#2a3f5f",
             "gridcolor": "white",
             "linecolor": "white",
             "minorgridcolor": "white",
             "startlinecolor": "#2a3f5f"
            },
            "type": "carpet"
           }
          ],
          "choropleth": [
           {
            "colorbar": {
             "outlinewidth": 0,
             "ticks": ""
            },
            "type": "choropleth"
           }
          ],
          "contour": [
           {
            "colorbar": {
             "outlinewidth": 0,
             "ticks": ""
            },
            "colorscale": [
             [
              0,
              "#0d0887"
             ],
             [
              0.1111111111111111,
              "#46039f"
             ],
             [
              0.2222222222222222,
              "#7201a8"
             ],
             [
              0.3333333333333333,
              "#9c179e"
             ],
             [
              0.4444444444444444,
              "#bd3786"
             ],
             [
              0.5555555555555556,
              "#d8576b"
             ],
             [
              0.6666666666666666,
              "#ed7953"
             ],
             [
              0.7777777777777778,
              "#fb9f3a"
             ],
             [
              0.8888888888888888,
              "#fdca26"
             ],
             [
              1,
              "#f0f921"
             ]
            ],
            "type": "contour"
           }
          ],
          "contourcarpet": [
           {
            "colorbar": {
             "outlinewidth": 0,
             "ticks": ""
            },
            "type": "contourcarpet"
           }
          ],
          "heatmap": [
           {
            "colorbar": {
             "outlinewidth": 0,
             "ticks": ""
            },
            "colorscale": [
             [
              0,
              "#0d0887"
             ],
             [
              0.1111111111111111,
              "#46039f"
             ],
             [
              0.2222222222222222,
              "#7201a8"
             ],
             [
              0.3333333333333333,
              "#9c179e"
             ],
             [
              0.4444444444444444,
              "#bd3786"
             ],
             [
              0.5555555555555556,
              "#d8576b"
             ],
             [
              0.6666666666666666,
              "#ed7953"
             ],
             [
              0.7777777777777778,
              "#fb9f3a"
             ],
             [
              0.8888888888888888,
              "#fdca26"
             ],
             [
              1,
              "#f0f921"
             ]
            ],
            "type": "heatmap"
           }
          ],
          "heatmapgl": [
           {
            "colorbar": {
             "outlinewidth": 0,
             "ticks": ""
            },
            "colorscale": [
             [
              0,
              "#0d0887"
             ],
             [
              0.1111111111111111,
              "#46039f"
             ],
             [
              0.2222222222222222,
              "#7201a8"
             ],
             [
              0.3333333333333333,
              "#9c179e"
             ],
             [
              0.4444444444444444,
              "#bd3786"
             ],
             [
              0.5555555555555556,
              "#d8576b"
             ],
             [
              0.6666666666666666,
              "#ed7953"
             ],
             [
              0.7777777777777778,
              "#fb9f3a"
             ],
             [
              0.8888888888888888,
              "#fdca26"
             ],
             [
              1,
              "#f0f921"
             ]
            ],
            "type": "heatmapgl"
           }
          ],
          "histogram": [
           {
            "marker": {
             "pattern": {
              "fillmode": "overlay",
              "size": 10,
              "solidity": 0.2
             }
            },
            "type": "histogram"
           }
          ],
          "histogram2d": [
           {
            "colorbar": {
             "outlinewidth": 0,
             "ticks": ""
            },
            "colorscale": [
             [
              0,
              "#0d0887"
             ],
             [
              0.1111111111111111,
              "#46039f"
             ],
             [
              0.2222222222222222,
              "#7201a8"
             ],
             [
              0.3333333333333333,
              "#9c179e"
             ],
             [
              0.4444444444444444,
              "#bd3786"
             ],
             [
              0.5555555555555556,
              "#d8576b"
             ],
             [
              0.6666666666666666,
              "#ed7953"
             ],
             [
              0.7777777777777778,
              "#fb9f3a"
             ],
             [
              0.8888888888888888,
              "#fdca26"
             ],
             [
              1,
              "#f0f921"
             ]
            ],
            "type": "histogram2d"
           }
          ],
          "histogram2dcontour": [
           {
            "colorbar": {
             "outlinewidth": 0,
             "ticks": ""
            },
            "colorscale": [
             [
              0,
              "#0d0887"
             ],
             [
              0.1111111111111111,
              "#46039f"
             ],
             [
              0.2222222222222222,
              "#7201a8"
             ],
             [
              0.3333333333333333,
              "#9c179e"
             ],
             [
              0.4444444444444444,
              "#bd3786"
             ],
             [
              0.5555555555555556,
              "#d8576b"
             ],
             [
              0.6666666666666666,
              "#ed7953"
             ],
             [
              0.7777777777777778,
              "#fb9f3a"
             ],
             [
              0.8888888888888888,
              "#fdca26"
             ],
             [
              1,
              "#f0f921"
             ]
            ],
            "type": "histogram2dcontour"
           }
          ],
          "mesh3d": [
           {
            "colorbar": {
             "outlinewidth": 0,
             "ticks": ""
            },
            "type": "mesh3d"
           }
          ],
          "parcoords": [
           {
            "line": {
             "colorbar": {
              "outlinewidth": 0,
              "ticks": ""
             }
            },
            "type": "parcoords"
           }
          ],
          "pie": [
           {
            "automargin": true,
            "type": "pie"
           }
          ],
          "scatter": [
           {
            "fillpattern": {
             "fillmode": "overlay",
             "size": 10,
             "solidity": 0.2
            },
            "type": "scatter"
           }
          ],
          "scatter3d": [
           {
            "line": {
             "colorbar": {
              "outlinewidth": 0,
              "ticks": ""
             }
            },
            "marker": {
             "colorbar": {
              "outlinewidth": 0,
              "ticks": ""
             }
            },
            "type": "scatter3d"
           }
          ],
          "scattercarpet": [
           {
            "marker": {
             "colorbar": {
              "outlinewidth": 0,
              "ticks": ""
             }
            },
            "type": "scattercarpet"
           }
          ],
          "scattergeo": [
           {
            "marker": {
             "colorbar": {
              "outlinewidth": 0,
              "ticks": ""
             }
            },
            "type": "scattergeo"
           }
          ],
          "scattergl": [
           {
            "marker": {
             "colorbar": {
              "outlinewidth": 0,
              "ticks": ""
             }
            },
            "type": "scattergl"
           }
          ],
          "scattermapbox": [
           {
            "marker": {
             "colorbar": {
              "outlinewidth": 0,
              "ticks": ""
             }
            },
            "type": "scattermapbox"
           }
          ],
          "scatterpolar": [
           {
            "marker": {
             "colorbar": {
              "outlinewidth": 0,
              "ticks": ""
             }
            },
            "type": "scatterpolar"
           }
          ],
          "scatterpolargl": [
           {
            "marker": {
             "colorbar": {
              "outlinewidth": 0,
              "ticks": ""
             }
            },
            "type": "scatterpolargl"
           }
          ],
          "scatterternary": [
           {
            "marker": {
             "colorbar": {
              "outlinewidth": 0,
              "ticks": ""
             }
            },
            "type": "scatterternary"
           }
          ],
          "surface": [
           {
            "colorbar": {
             "outlinewidth": 0,
             "ticks": ""
            },
            "colorscale": [
             [
              0,
              "#0d0887"
             ],
             [
              0.1111111111111111,
              "#46039f"
             ],
             [
              0.2222222222222222,
              "#7201a8"
             ],
             [
              0.3333333333333333,
              "#9c179e"
             ],
             [
              0.4444444444444444,
              "#bd3786"
             ],
             [
              0.5555555555555556,
              "#d8576b"
             ],
             [
              0.6666666666666666,
              "#ed7953"
             ],
             [
              0.7777777777777778,
              "#fb9f3a"
             ],
             [
              0.8888888888888888,
              "#fdca26"
             ],
             [
              1,
              "#f0f921"
             ]
            ],
            "type": "surface"
           }
          ],
          "table": [
           {
            "cells": {
             "fill": {
              "color": "#EBF0F8"
             },
             "line": {
              "color": "white"
             }
            },
            "header": {
             "fill": {
              "color": "#C8D4E3"
             },
             "line": {
              "color": "white"
             }
            },
            "type": "table"
           }
          ]
         },
         "layout": {
          "annotationdefaults": {
           "arrowcolor": "#2a3f5f",
           "arrowhead": 0,
           "arrowwidth": 1
          },
          "autotypenumbers": "strict",
          "coloraxis": {
           "colorbar": {
            "outlinewidth": 0,
            "ticks": ""
           }
          },
          "colorscale": {
           "diverging": [
            [
             0,
             "#8e0152"
            ],
            [
             0.1,
             "#c51b7d"
            ],
            [
             0.2,
             "#de77ae"
            ],
            [
             0.3,
             "#f1b6da"
            ],
            [
             0.4,
             "#fde0ef"
            ],
            [
             0.5,
             "#f7f7f7"
            ],
            [
             0.6,
             "#e6f5d0"
            ],
            [
             0.7,
             "#b8e186"
            ],
            [
             0.8,
             "#7fbc41"
            ],
            [
             0.9,
             "#4d9221"
            ],
            [
             1,
             "#276419"
            ]
           ],
           "sequential": [
            [
             0,
             "#0d0887"
            ],
            [
             0.1111111111111111,
             "#46039f"
            ],
            [
             0.2222222222222222,
             "#7201a8"
            ],
            [
             0.3333333333333333,
             "#9c179e"
            ],
            [
             0.4444444444444444,
             "#bd3786"
            ],
            [
             0.5555555555555556,
             "#d8576b"
            ],
            [
             0.6666666666666666,
             "#ed7953"
            ],
            [
             0.7777777777777778,
             "#fb9f3a"
            ],
            [
             0.8888888888888888,
             "#fdca26"
            ],
            [
             1,
             "#f0f921"
            ]
           ],
           "sequentialminus": [
            [
             0,
             "#0d0887"
            ],
            [
             0.1111111111111111,
             "#46039f"
            ],
            [
             0.2222222222222222,
             "#7201a8"
            ],
            [
             0.3333333333333333,
             "#9c179e"
            ],
            [
             0.4444444444444444,
             "#bd3786"
            ],
            [
             0.5555555555555556,
             "#d8576b"
            ],
            [
             0.6666666666666666,
             "#ed7953"
            ],
            [
             0.7777777777777778,
             "#fb9f3a"
            ],
            [
             0.8888888888888888,
             "#fdca26"
            ],
            [
             1,
             "#f0f921"
            ]
           ]
          },
          "colorway": [
           "#636efa",
           "#EF553B",
           "#00cc96",
           "#ab63fa",
           "#FFA15A",
           "#19d3f3",
           "#FF6692",
           "#B6E880",
           "#FF97FF",
           "#FECB52"
          ],
          "font": {
           "color": "#2a3f5f"
          },
          "geo": {
           "bgcolor": "white",
           "lakecolor": "white",
           "landcolor": "#E5ECF6",
           "showlakes": true,
           "showland": true,
           "subunitcolor": "white"
          },
          "hoverlabel": {
           "align": "left"
          },
          "hovermode": "closest",
          "mapbox": {
           "style": "light"
          },
          "paper_bgcolor": "white",
          "plot_bgcolor": "#E5ECF6",
          "polar": {
           "angularaxis": {
            "gridcolor": "white",
            "linecolor": "white",
            "ticks": ""
           },
           "bgcolor": "#E5ECF6",
           "radialaxis": {
            "gridcolor": "white",
            "linecolor": "white",
            "ticks": ""
           }
          },
          "scene": {
           "xaxis": {
            "backgroundcolor": "#E5ECF6",
            "gridcolor": "white",
            "gridwidth": 2,
            "linecolor": "white",
            "showbackground": true,
            "ticks": "",
            "zerolinecolor": "white"
           },
           "yaxis": {
            "backgroundcolor": "#E5ECF6",
            "gridcolor": "white",
            "gridwidth": 2,
            "linecolor": "white",
            "showbackground": true,
            "ticks": "",
            "zerolinecolor": "white"
           },
           "zaxis": {
            "backgroundcolor": "#E5ECF6",
            "gridcolor": "white",
            "gridwidth": 2,
            "linecolor": "white",
            "showbackground": true,
            "ticks": "",
            "zerolinecolor": "white"
           }
          },
          "shapedefaults": {
           "line": {
            "color": "#2a3f5f"
           }
          },
          "ternary": {
           "aaxis": {
            "gridcolor": "white",
            "linecolor": "white",
            "ticks": ""
           },
           "baxis": {
            "gridcolor": "white",
            "linecolor": "white",
            "ticks": ""
           },
           "bgcolor": "#E5ECF6",
           "caxis": {
            "gridcolor": "white",
            "linecolor": "white",
            "ticks": ""
           }
          },
          "title": {
           "x": 0.05
          },
          "xaxis": {
           "automargin": true,
           "gridcolor": "white",
           "linecolor": "white",
           "ticks": "",
           "title": {
            "standoff": 15
           },
           "zerolinecolor": "white",
           "zerolinewidth": 2
          },
          "yaxis": {
           "automargin": true,
           "gridcolor": "white",
           "linecolor": "white",
           "ticks": "",
           "title": {
            "standoff": 15
           },
           "zerolinecolor": "white",
           "zerolinewidth": 2
          }
         }
        },
        "title": {
         "text": "Average Ticket and Number of Orders by Hour"
        },
        "xaxis": {
         "title": {
          "text": "Hour of day"
         }
        },
        "yaxis": {
         "title": {
          "text": "Average ticket, ₽"
         }
        },
        "yaxis2": {
         "overlaying": "y",
         "side": "right",
         "title": {
          "text": "Orders count"
         }
        }
       }
      }
     },
     "metadata": {},
     "output_type": "display_data"
    }
   ],
   "source": [
    "hourly_stats = (df[df[\"is_delivered\"]].groupby(\"Hour\").agg(avg_ticket=(\"Final_Order_Sum\", \"mean\"), orders_cnt=(\"Order_ID\", \"nunique\")).reset_index())\n",
    "\n",
    "fig = go.Figure()\n",
    "\n",
    "fig.add_trace(\n",
    "    go.Scatter(\n",
    "        x=hourly_stats[\"Hour\"],\n",
    "        y=hourly_stats[\"avg_ticket\"],\n",
    "        mode=\"lines+markers\",\n",
    "        name=\"Average ticket (₽)\",\n",
    "        line=dict(color=\"#1f77b4\")          # blue\n",
    "    )\n",
    ")\n",
    "\n",
    "fig.add_trace(\n",
    "    go.Scatter(\n",
    "        x=hourly_stats[\"Hour\"],\n",
    "        y=hourly_stats[\"orders_cnt\"],\n",
    "        mode=\"lines+markers\",\n",
    "        name=\"Orders count\",\n",
    "        line=dict(color=\"#e749dc\"),         # orange\n",
    "        yaxis=\"y2\"                          # ← secondary axis\n",
    "    )\n",
    ")\n",
    "\n",
    "fig.update_layout(\n",
    "    title=\"Average Ticket and Number of Orders by Hour\",\n",
    "    xaxis_title=\"Hour of day\",\n",
    "    yaxis=dict(title=\"Average ticket, ₽\"),\n",
    "    yaxis2=dict(title=\"Orders count\",\n",
    "                overlaying=\"y\", side=\"right\"),  # twin axis\n",
    "    legend=dict(yanchor=\"top\", y=0.99, x=0.01)\n",
    ")\n",
    "\n",
    "fig.show()"
   ]
  }
 ],
 "metadata": {
  "kernelspec": {
   "display_name": ".venv",
   "language": "python",
   "name": "python3"
  },
  "language_info": {
   "codemirror_mode": {
    "name": "ipython",
    "version": 3
   },
   "file_extension": ".py",
   "mimetype": "text/x-python",
   "name": "python",
   "nbconvert_exporter": "python",
   "pygments_lexer": "ipython3",
   "version": "3.10.11"
  }
 },
 "nbformat": 4,
 "nbformat_minor": 5
}
