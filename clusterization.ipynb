{
 "cells": [
  {
   "cell_type": "code",
   "execution_count": 1,
   "id": "36a59528",
   "metadata": {},
   "outputs": [],
   "source": [
    "import pandas as pd\n",
    "import numpy as np\n",
    "import matplotlib.pyplot as plt"
   ]
  },
  {
   "cell_type": "code",
   "execution_count": 2,
   "id": "30706252",
   "metadata": {},
   "outputs": [
    {
     "data": {
      "text/html": [
       "<div>\n",
       "<style scoped>\n",
       "    .dataframe tbody tr th:only-of-type {\n",
       "        vertical-align: middle;\n",
       "    }\n",
       "\n",
       "    .dataframe tbody tr th {\n",
       "        vertical-align: top;\n",
       "    }\n",
       "\n",
       "    .dataframe thead th {\n",
       "        text-align: right;\n",
       "    }\n",
       "</style>\n",
       "<table border=\"1\" class=\"dataframe\">\n",
       "  <thead>\n",
       "    <tr style=\"text-align: right;\">\n",
       "      <th></th>\n",
       "      <th>Client_ID</th>\n",
       "      <th>Order_ID</th>\n",
       "      <th>Order_Date</th>\n",
       "      <th>Delivery_Date</th>\n",
       "      <th>Status</th>\n",
       "      <th>New_Status</th>\n",
       "      <th>Initial_Order_Sum</th>\n",
       "      <th>Amount</th>\n",
       "      <th>Final_Order_Sum</th>\n",
       "      <th>Amount_Sold</th>\n",
       "      <th>...</th>\n",
       "      <th>Delivery_Cost</th>\n",
       "      <th>Payment_Type</th>\n",
       "      <th>Delivery_Type</th>\n",
       "      <th>Item_Type</th>\n",
       "      <th>Item_Type1</th>\n",
       "      <th>Item_Name</th>\n",
       "      <th>Item_Group</th>\n",
       "      <th>Item_Group1</th>\n",
       "      <th>Region</th>\n",
       "      <th>Is_Moscow</th>\n",
       "    </tr>\n",
       "  </thead>\n",
       "  <tbody>\n",
       "    <tr>\n",
       "      <th>0</th>\n",
       "      <td>55574854-48574951555577</td>\n",
       "      <td>3998972_TR</td>\n",
       "      <td>2017-03-01 11:41:00</td>\n",
       "      <td>2017-03-07</td>\n",
       "      <td>Returned</td>\n",
       "      <td>Returned</td>\n",
       "      <td>12098</td>\n",
       "      <td>1</td>\n",
       "      <td>12247.0</td>\n",
       "      <td>1</td>\n",
       "      <td>...</td>\n",
       "      <td>0</td>\n",
       "      <td>1</td>\n",
       "      <td>Курьерская</td>\n",
       "      <td>КГТ</td>\n",
       "      <td>КГТ</td>\n",
       "      <td>LEADER KIDS, МУФТА на ручку коляски, (беж),</td>\n",
       "      <td>КРУПНОГАБАРИТНЫЙ ТОВАР</td>\n",
       "      <td>КОЛЯСКИ</td>\n",
       "      <td>Москва</td>\n",
       "      <td>1</td>\n",
       "    </tr>\n",
       "    <tr>\n",
       "      <th>1</th>\n",
       "      <td>55575453-56535648535679</td>\n",
       "      <td>3999117_TR</td>\n",
       "      <td>2017-03-01 12:22:00</td>\n",
       "      <td>2017-03-15</td>\n",
       "      <td>Delivered</td>\n",
       "      <td>Delivered</td>\n",
       "      <td>4819</td>\n",
       "      <td>1</td>\n",
       "      <td>3759.0</td>\n",
       "      <td>1</td>\n",
       "      <td>...</td>\n",
       "      <td>0</td>\n",
       "      <td>0</td>\n",
       "      <td>Магазины</td>\n",
       "      <td>ОДЕЖДА</td>\n",
       "      <td>МГТ</td>\n",
       "      <td>GAMEX, БОДИ кор. рук. Roza, (бел/сер), р. 86, ...</td>\n",
       "      <td>ТЕКСТИЛЬ, ТРИКОТАЖ</td>\n",
       "      <td>ОДЕЖДА ДЛЯ НОВОРОЖДЕННЫХ (0-2 лет)</td>\n",
       "      <td>Челябинск</td>\n",
       "      <td>0</td>\n",
       "    </tr>\n",
       "    <tr>\n",
       "      <th>2</th>\n",
       "      <td>55574950-57515657535772</td>\n",
       "      <td>3999122_TR</td>\n",
       "      <td>2017-03-01 12:31:00</td>\n",
       "      <td>2017-03-17</td>\n",
       "      <td>Delivered</td>\n",
       "      <td>Delivered</td>\n",
       "      <td>3325</td>\n",
       "      <td>1</td>\n",
       "      <td>3325.0</td>\n",
       "      <td>1</td>\n",
       "      <td>...</td>\n",
       "      <td>0</td>\n",
       "      <td>0</td>\n",
       "      <td>Магазины</td>\n",
       "      <td>ИГРУШКИ</td>\n",
       "      <td>МГТ</td>\n",
       "      <td>ИГРУША, ХОЛОДИЛЬНИК (на бат), (29,5*19*45,5 см)</td>\n",
       "      <td>ИГРУШКИ</td>\n",
       "      <td>ИГРУШКИ ДЛЯ ДЕВОЧЕК</td>\n",
       "      <td>Нижневартовск</td>\n",
       "      <td>0</td>\n",
       "    </tr>\n",
       "    <tr>\n",
       "      <th>3</th>\n",
       "      <td>55574851-55545249535475</td>\n",
       "      <td>3999363_TR</td>\n",
       "      <td>2017-03-01 03:06:00</td>\n",
       "      <td>2017-03-02</td>\n",
       "      <td>Delivered</td>\n",
       "      <td>In Progress</td>\n",
       "      <td>4998</td>\n",
       "      <td>1</td>\n",
       "      <td>4998.0</td>\n",
       "      <td>0</td>\n",
       "      <td>...</td>\n",
       "      <td>0</td>\n",
       "      <td>1</td>\n",
       "      <td>Курьерская</td>\n",
       "      <td>ОДЕЖДА</td>\n",
       "      <td>МГТ</td>\n",
       "      <td>MAMATTI, ПОЛЗУНКИ Elephant, р. 68, Польша</td>\n",
       "      <td>ТЕКСТИЛЬ, ТРИКОТАЖ</td>\n",
       "      <td>ОДЕЖДА ДЛЯ НОВОРОЖДЕННЫХ (0-2 лет)</td>\n",
       "      <td>Москва</td>\n",
       "      <td>1</td>\n",
       "    </tr>\n",
       "    <tr>\n",
       "      <th>4</th>\n",
       "      <td>55574854-56495552515179</td>\n",
       "      <td>3999411_TR</td>\n",
       "      <td>2017-03-01 11:38:00</td>\n",
       "      <td>2017-03-14</td>\n",
       "      <td>Delivered</td>\n",
       "      <td>Delivered</td>\n",
       "      <td>528</td>\n",
       "      <td>1</td>\n",
       "      <td>528.0</td>\n",
       "      <td>1</td>\n",
       "      <td>...</td>\n",
       "      <td>0</td>\n",
       "      <td>0</td>\n",
       "      <td>Магазины</td>\n",
       "      <td>ИГРУШКИ</td>\n",
       "      <td>МГТ</td>\n",
       "      <td>S+S TOYS, ИГРУШКА ПВХ в наборе, (2 шт)</td>\n",
       "      <td>ИГРУШКИ</td>\n",
       "      <td>ИГРУШКИ ДЛЯ РАЗВИТИЯ МАЛЫШЕЙ</td>\n",
       "      <td>Ижевск</td>\n",
       "      <td>0</td>\n",
       "    </tr>\n",
       "    <tr>\n",
       "      <th>...</th>\n",
       "      <td>...</td>\n",
       "      <td>...</td>\n",
       "      <td>...</td>\n",
       "      <td>...</td>\n",
       "      <td>...</td>\n",
       "      <td>...</td>\n",
       "      <td>...</td>\n",
       "      <td>...</td>\n",
       "      <td>...</td>\n",
       "      <td>...</td>\n",
       "      <td>...</td>\n",
       "      <td>...</td>\n",
       "      <td>...</td>\n",
       "      <td>...</td>\n",
       "      <td>...</td>\n",
       "      <td>...</td>\n",
       "      <td>...</td>\n",
       "      <td>...</td>\n",
       "      <td>...</td>\n",
       "      <td>...</td>\n",
       "      <td>...</td>\n",
       "    </tr>\n",
       "    <tr>\n",
       "      <th>616848</th>\n",
       "      <td>55574952-51535652495475</td>\n",
       "      <td>4411156_TR</td>\n",
       "      <td>2017-04-17 09:54:00</td>\n",
       "      <td>2017-05-24</td>\n",
       "      <td>In Progress</td>\n",
       "      <td>In Progress</td>\n",
       "      <td>3240</td>\n",
       "      <td>1</td>\n",
       "      <td>3240.0</td>\n",
       "      <td>1</td>\n",
       "      <td>...</td>\n",
       "      <td>0</td>\n",
       "      <td>0</td>\n",
       "      <td>Магазины</td>\n",
       "      <td>КГТ</td>\n",
       "      <td>КГТ</td>\n",
       "      <td>BABYHIT, КОЛЯСКА (син/черн)</td>\n",
       "      <td>КРУПНОГАБАРИТНЫЙ ТОВАР</td>\n",
       "      <td>КОЛЯСКИ</td>\n",
       "      <td>Чита</td>\n",
       "      <td>0</td>\n",
       "    </tr>\n",
       "    <tr>\n",
       "      <th>616849</th>\n",
       "      <td>55575054-53545152544971</td>\n",
       "      <td>4411268_TR</td>\n",
       "      <td>2017-04-17 10:10:00</td>\n",
       "      <td>2017-04-19</td>\n",
       "      <td>Delivered</td>\n",
       "      <td>Delivered</td>\n",
       "      <td>1377</td>\n",
       "      <td>1</td>\n",
       "      <td>1377.0</td>\n",
       "      <td>1</td>\n",
       "      <td>...</td>\n",
       "      <td>49</td>\n",
       "      <td>0</td>\n",
       "      <td>Магазины</td>\n",
       "      <td>ИГРУШКИ</td>\n",
       "      <td>МГТ</td>\n",
       "      <td>TOMY LAMAZE, КНИЖКА- шуршалка Пират Пит</td>\n",
       "      <td>ИГРУШКИ</td>\n",
       "      <td>ИГРУШКИ ДЛЯ РАЗВИТИЯ МАЛЫШЕЙ</td>\n",
       "      <td>Москва</td>\n",
       "      <td>1</td>\n",
       "    </tr>\n",
       "    <tr>\n",
       "      <th>616850</th>\n",
       "      <td>55575448-49564957485078</td>\n",
       "      <td>4411571_TR</td>\n",
       "      <td>2017-04-17 11:03:00</td>\n",
       "      <td>2017-04-27</td>\n",
       "      <td>Delivered</td>\n",
       "      <td>Delivered</td>\n",
       "      <td>1098</td>\n",
       "      <td>1</td>\n",
       "      <td>2086.0</td>\n",
       "      <td>1</td>\n",
       "      <td>...</td>\n",
       "      <td>0</td>\n",
       "      <td>0</td>\n",
       "      <td>Магазины</td>\n",
       "      <td>ППКП</td>\n",
       "      <td>МГТ</td>\n",
       "      <td>CS MEDICA, НАСАДКА для зубной щетки SonicPulsa...</td>\n",
       "      <td>КОСМЕТИКА/ГИГИЕНА</td>\n",
       "      <td>ПРЕДМЕТЫ ПО УХОДУ ЗА НОВОРОЖДЕННЫМИ</td>\n",
       "      <td>Нижний Новгород</td>\n",
       "      <td>0</td>\n",
       "    </tr>\n",
       "    <tr>\n",
       "      <th>616851</th>\n",
       "      <td>55575448-49564957485078</td>\n",
       "      <td>4411571_TR</td>\n",
       "      <td>2017-04-17 11:03:00</td>\n",
       "      <td>2017-04-27</td>\n",
       "      <td>Delivered</td>\n",
       "      <td>Delivered</td>\n",
       "      <td>1098</td>\n",
       "      <td>1</td>\n",
       "      <td>2086.0</td>\n",
       "      <td>1</td>\n",
       "      <td>...</td>\n",
       "      <td>0</td>\n",
       "      <td>0</td>\n",
       "      <td>Магазины</td>\n",
       "      <td>ППКП</td>\n",
       "      <td>МГТ</td>\n",
       "      <td>CS MEDICA, ЩЕТКА зубная эл. SonicPulsar CS-562...</td>\n",
       "      <td>КОСМЕТИКА/ГИГИЕНА</td>\n",
       "      <td>ПРЕДМЕТЫ ПО УХОДУ ЗА НОВОРОЖДЕННЫМИ</td>\n",
       "      <td>Нижний Новгород</td>\n",
       "      <td>0</td>\n",
       "    </tr>\n",
       "    <tr>\n",
       "      <th>616852</th>\n",
       "      <td>55575455-49525649535277</td>\n",
       "      <td>4411576_TR</td>\n",
       "      <td>2017-04-17 10:41:00</td>\n",
       "      <td>2017-04-24</td>\n",
       "      <td>Delivered</td>\n",
       "      <td>Delivered</td>\n",
       "      <td>13349</td>\n",
       "      <td>1</td>\n",
       "      <td>13349.0</td>\n",
       "      <td>1</td>\n",
       "      <td>...</td>\n",
       "      <td>0</td>\n",
       "      <td>0</td>\n",
       "      <td>Магазины</td>\n",
       "      <td>ИГРУШКИ</td>\n",
       "      <td>МГТ</td>\n",
       "      <td>BRIGHT STARTS, ИГРУШКА-погремушка Друг-слоненок</td>\n",
       "      <td>ИГРУШКИ</td>\n",
       "      <td>ИГРУШКИ ДЛЯ РАЗВИТИЯ МАЛЫШЕЙ</td>\n",
       "      <td>Москва</td>\n",
       "      <td>1</td>\n",
       "    </tr>\n",
       "  </tbody>\n",
       "</table>\n",
       "<p>616853 rows × 25 columns</p>\n",
       "</div>"
      ],
      "text/plain": [
       "                      Client_ID    Order_ID           Order_Date  \\\n",
       "0       55574854-48574951555577  3998972_TR  2017-03-01 11:41:00   \n",
       "1       55575453-56535648535679  3999117_TR  2017-03-01 12:22:00   \n",
       "2       55574950-57515657535772  3999122_TR  2017-03-01 12:31:00   \n",
       "3       55574851-55545249535475  3999363_TR  2017-03-01 03:06:00   \n",
       "4       55574854-56495552515179  3999411_TR  2017-03-01 11:38:00   \n",
       "...                         ...         ...                  ...   \n",
       "616848  55574952-51535652495475  4411156_TR  2017-04-17 09:54:00   \n",
       "616849  55575054-53545152544971  4411268_TR  2017-04-17 10:10:00   \n",
       "616850  55575448-49564957485078  4411571_TR  2017-04-17 11:03:00   \n",
       "616851  55575448-49564957485078  4411571_TR  2017-04-17 11:03:00   \n",
       "616852  55575455-49525649535277  4411576_TR  2017-04-17 10:41:00   \n",
       "\n",
       "       Delivery_Date       Status   New_Status  Initial_Order_Sum  Amount  \\\n",
       "0         2017-03-07     Returned     Returned              12098       1   \n",
       "1         2017-03-15    Delivered    Delivered               4819       1   \n",
       "2         2017-03-17    Delivered    Delivered               3325       1   \n",
       "3         2017-03-02    Delivered  In Progress               4998       1   \n",
       "4         2017-03-14    Delivered    Delivered                528       1   \n",
       "...              ...          ...          ...                ...     ...   \n",
       "616848    2017-05-24  In Progress  In Progress               3240       1   \n",
       "616849    2017-04-19    Delivered    Delivered               1377       1   \n",
       "616850    2017-04-27    Delivered    Delivered               1098       1   \n",
       "616851    2017-04-27    Delivered    Delivered               1098       1   \n",
       "616852    2017-04-24    Delivered    Delivered              13349       1   \n",
       "\n",
       "        Final_Order_Sum  Amount_Sold  ...  Delivery_Cost  Payment_Type  \\\n",
       "0               12247.0            1  ...              0             1   \n",
       "1                3759.0            1  ...              0             0   \n",
       "2                3325.0            1  ...              0             0   \n",
       "3                4998.0            0  ...              0             1   \n",
       "4                 528.0            1  ...              0             0   \n",
       "...                 ...          ...  ...            ...           ...   \n",
       "616848           3240.0            1  ...              0             0   \n",
       "616849           1377.0            1  ...             49             0   \n",
       "616850           2086.0            1  ...              0             0   \n",
       "616851           2086.0            1  ...              0             0   \n",
       "616852          13349.0            1  ...              0             0   \n",
       "\n",
       "        Delivery_Type  Item_Type  Item_Type1  \\\n",
       "0          Курьерская        КГТ         КГТ   \n",
       "1            Магазины     ОДЕЖДА         МГТ   \n",
       "2            Магазины    ИГРУШКИ         МГТ   \n",
       "3          Курьерская     ОДЕЖДА         МГТ   \n",
       "4            Магазины    ИГРУШКИ         МГТ   \n",
       "...               ...        ...         ...   \n",
       "616848       Магазины        КГТ         КГТ   \n",
       "616849       Магазины    ИГРУШКИ         МГТ   \n",
       "616850       Магазины       ППКП         МГТ   \n",
       "616851       Магазины       ППКП         МГТ   \n",
       "616852       Магазины    ИГРУШКИ         МГТ   \n",
       "\n",
       "                                                Item_Name  \\\n",
       "0             LEADER KIDS, МУФТА на ручку коляски, (беж),   \n",
       "1       GAMEX, БОДИ кор. рук. Roza, (бел/сер), р. 86, ...   \n",
       "2         ИГРУША, ХОЛОДИЛЬНИК (на бат), (29,5*19*45,5 см)   \n",
       "3               MAMATTI, ПОЛЗУНКИ Elephant, р. 68, Польша   \n",
       "4                  S+S TOYS, ИГРУШКА ПВХ в наборе, (2 шт)   \n",
       "...                                                   ...   \n",
       "616848                        BABYHIT, КОЛЯСКА (син/черн)   \n",
       "616849            TOMY LAMAZE, КНИЖКА- шуршалка Пират Пит   \n",
       "616850  CS MEDICA, НАСАДКА для зубной щетки SonicPulsa...   \n",
       "616851  CS MEDICA, ЩЕТКА зубная эл. SonicPulsar CS-562...   \n",
       "616852    BRIGHT STARTS, ИГРУШКА-погремушка Друг-слоненок   \n",
       "\n",
       "                    Item_Group                          Item_Group1  \\\n",
       "0       КРУПНОГАБАРИТНЫЙ ТОВАР                              КОЛЯСКИ   \n",
       "1           ТЕКСТИЛЬ, ТРИКОТАЖ   ОДЕЖДА ДЛЯ НОВОРОЖДЕННЫХ (0-2 лет)   \n",
       "2                      ИГРУШКИ                  ИГРУШКИ ДЛЯ ДЕВОЧЕК   \n",
       "3           ТЕКСТИЛЬ, ТРИКОТАЖ   ОДЕЖДА ДЛЯ НОВОРОЖДЕННЫХ (0-2 лет)   \n",
       "4                      ИГРУШКИ         ИГРУШКИ ДЛЯ РАЗВИТИЯ МАЛЫШЕЙ   \n",
       "...                        ...                                  ...   \n",
       "616848  КРУПНОГАБАРИТНЫЙ ТОВАР                              КОЛЯСКИ   \n",
       "616849                 ИГРУШКИ         ИГРУШКИ ДЛЯ РАЗВИТИЯ МАЛЫШЕЙ   \n",
       "616850       КОСМЕТИКА/ГИГИЕНА  ПРЕДМЕТЫ ПО УХОДУ ЗА НОВОРОЖДЕННЫМИ   \n",
       "616851       КОСМЕТИКА/ГИГИЕНА  ПРЕДМЕТЫ ПО УХОДУ ЗА НОВОРОЖДЕННЫМИ   \n",
       "616852                 ИГРУШКИ         ИГРУШКИ ДЛЯ РАЗВИТИЯ МАЛЫШЕЙ   \n",
       "\n",
       "                 Region Is_Moscow  \n",
       "0                Москва         1  \n",
       "1             Челябинск         0  \n",
       "2         Нижневартовск         0  \n",
       "3                Москва         1  \n",
       "4                Ижевск         0  \n",
       "...                 ...       ...  \n",
       "616848             Чита         0  \n",
       "616849           Москва         1  \n",
       "616850  Нижний Новгород         0  \n",
       "616851  Нижний Новгород         0  \n",
       "616852           Москва         1  \n",
       "\n",
       "[616853 rows x 25 columns]"
      ]
     },
     "execution_count": 2,
     "metadata": {},
     "output_type": "execute_result"
    }
   ],
   "source": [
    "df = pd.read_csv('data/data_clean.csv', sep=\";\")\n",
    "df.drop(['Unnamed: 0'], axis=1, inplace=True) ; df"
   ]
  },
  {
   "cell_type": "code",
   "execution_count": 4,
   "id": "5af903a2",
   "metadata": {},
   "outputs": [],
   "source": [
    "from sklearn.preprocessing import OneHotEncoder, StandardScaler\n",
    "from sklearn.pipeline import make_pipeline\n",
    "from sklearn.compose import ColumnTransformer\n",
    "\n",
    "from sklearn.cluster import KMeans, DBSCAN\n",
    "from sklearn.mixture import GaussianMixture\n",
    "from sklearn.metrics import silhouette_score, davies_bouldin_score"
   ]
  },
  {
   "cell_type": "code",
   "execution_count": 5,
   "id": "aba5212e",
   "metadata": {},
   "outputs": [],
   "source": [
    "delivered_mask = pd.Series([True if i == 'Delivered' or i == 'In Progress' else False for i in df[\"New_Status\"]])\n",
    "\n",
    "df[\"Delivered_Value\"] = np.where(delivered_mask, df[\"Final_Order_Sum\"], 0.0)\n",
    "df[\"Cancelled_or_Returned\"] = df[\"New_Status\"].isin([\"Cancelled\", \"Returned\"]).astype(int)"
   ]
  },
  {
   "cell_type": "code",
   "execution_count": 6,
   "id": "aed95501",
   "metadata": {},
   "outputs": [
    {
     "data": {
      "text/html": [
       "<div>\n",
       "<style scoped>\n",
       "    .dataframe tbody tr th:only-of-type {\n",
       "        vertical-align: middle;\n",
       "    }\n",
       "\n",
       "    .dataframe tbody tr th {\n",
       "        vertical-align: top;\n",
       "    }\n",
       "\n",
       "    .dataframe thead th {\n",
       "        text-align: right;\n",
       "    }\n",
       "</style>\n",
       "<table border=\"1\" class=\"dataframe\">\n",
       "  <thead>\n",
       "    <tr style=\"text-align: right;\">\n",
       "      <th></th>\n",
       "      <th>total_orders</th>\n",
       "      <th>delivered_orders</th>\n",
       "      <th>cancelled_or_returned</th>\n",
       "      <th>avg_bill_delivered</th>\n",
       "      <th>avg_items_per_order</th>\n",
       "      <th>total_items</th>\n",
       "      <th>prop_cancelled</th>\n",
       "    </tr>\n",
       "    <tr>\n",
       "      <th>Client_ID</th>\n",
       "      <th></th>\n",
       "      <th></th>\n",
       "      <th></th>\n",
       "      <th></th>\n",
       "      <th></th>\n",
       "      <th></th>\n",
       "      <th></th>\n",
       "    </tr>\n",
       "  </thead>\n",
       "  <tbody>\n",
       "    <tr>\n",
       "      <th>0</th>\n",
       "      <td>2269</td>\n",
       "      <td>2185</td>\n",
       "      <td>3741</td>\n",
       "      <td>3599.851854</td>\n",
       "      <td>1.240297</td>\n",
       "      <td>7350</td>\n",
       "      <td>1.648744</td>\n",
       "    </tr>\n",
       "    <tr>\n",
       "      <th>32555749-545749525150 .</th>\n",
       "      <td>1</td>\n",
       "      <td>5</td>\n",
       "      <td>0</td>\n",
       "      <td>1088.000000</td>\n",
       "      <td>1.000000</td>\n",
       "      <td>5</td>\n",
       "      <td>0.000000</td>\n",
       "    </tr>\n",
       "    <tr>\n",
       "      <th>55494851-56495152535476</th>\n",
       "      <td>1</td>\n",
       "      <td>1</td>\n",
       "      <td>0</td>\n",
       "      <td>1630.000000</td>\n",
       "      <td>1.000000</td>\n",
       "      <td>1</td>\n",
       "      <td>0.000000</td>\n",
       "    </tr>\n",
       "    <tr>\n",
       "      <th>55495051-52535455565770</th>\n",
       "      <td>18</td>\n",
       "      <td>0</td>\n",
       "      <td>18</td>\n",
       "      <td>NaN</td>\n",
       "      <td>1.000000</td>\n",
       "      <td>18</td>\n",
       "      <td>1.000000</td>\n",
       "    </tr>\n",
       "    <tr>\n",
       "      <th>55505353-48575248535072</th>\n",
       "      <td>1</td>\n",
       "      <td>1</td>\n",
       "      <td>0</td>\n",
       "      <td>7966.000000</td>\n",
       "      <td>1.000000</td>\n",
       "      <td>1</td>\n",
       "      <td>0.000000</td>\n",
       "    </tr>\n",
       "  </tbody>\n",
       "</table>\n",
       "</div>"
      ],
      "text/plain": [
       "                         total_orders  delivered_orders  \\\n",
       "Client_ID                                                 \n",
       "0                                2269              2185   \n",
       "32555749-545749525150 .             1                 5   \n",
       "55494851-56495152535476             1                 1   \n",
       "55495051-52535455565770            18                 0   \n",
       "55505353-48575248535072             1                 1   \n",
       "\n",
       "                         cancelled_or_returned  avg_bill_delivered  \\\n",
       "Client_ID                                                            \n",
       "0                                         3741         3599.851854   \n",
       "32555749-545749525150 .                      0         1088.000000   \n",
       "55494851-56495152535476                      0         1630.000000   \n",
       "55495051-52535455565770                     18                 NaN   \n",
       "55505353-48575248535072                      0         7966.000000   \n",
       "\n",
       "                         avg_items_per_order  total_items  prop_cancelled  \n",
       "Client_ID                                                                  \n",
       "0                                   1.240297         7350        1.648744  \n",
       "32555749-545749525150 .             1.000000            5        0.000000  \n",
       "55494851-56495152535476             1.000000            1        0.000000  \n",
       "55495051-52535455565770             1.000000           18        1.000000  \n",
       "55505353-48575248535072             1.000000            1        0.000000  "
      ]
     },
     "execution_count": 6,
     "metadata": {},
     "output_type": "execute_result"
    }
   ],
   "source": [
    "client_base = (\n",
    "    df.groupby(\"Client_ID\").agg(\n",
    "        total_orders           = (\"Order_ID\", \"nunique\"),\n",
    "        delivered_orders       = (\"Delivered_Value\", lambda x: (x > 0).sum()),\n",
    "        cancelled_or_returned  = (\"Cancelled_or_Returned\", \"sum\"),\n",
    "        avg_bill_delivered     = (\"Delivered_Value\", lambda x: x[x > 0].mean()),\n",
    "        avg_items_per_order    = (\"Amount\", \"mean\"),\n",
    "        total_items            = (\"Amount\", \"sum\")))\n",
    "\n",
    "client_base[\"prop_cancelled\"] = (client_base[\"cancelled_or_returned\"] / client_base[\"total_orders\"])\n",
    "\n",
    "client_base.head()"
   ]
  },
  {
   "cell_type": "code",
   "execution_count": 7,
   "id": "65302490",
   "metadata": {},
   "outputs": [
    {
     "name": "stdout",
     "output_type": "stream",
     "text": [
      "Removed 9,339 extreme-behaviour clients (8.16% of all)\n"
     ]
    },
    {
     "data": {
      "text/html": [
       "<div>\n",
       "<style scoped>\n",
       "    .dataframe tbody tr th:only-of-type {\n",
       "        vertical-align: middle;\n",
       "    }\n",
       "\n",
       "    .dataframe tbody tr th {\n",
       "        vertical-align: top;\n",
       "    }\n",
       "\n",
       "    .dataframe thead th {\n",
       "        text-align: right;\n",
       "    }\n",
       "</style>\n",
       "<table border=\"1\" class=\"dataframe\">\n",
       "  <thead>\n",
       "    <tr style=\"text-align: right;\">\n",
       "      <th></th>\n",
       "      <th>total_orders</th>\n",
       "      <th>delivered_orders</th>\n",
       "      <th>cancelled_or_returned</th>\n",
       "      <th>avg_bill_delivered</th>\n",
       "      <th>avg_items_per_order</th>\n",
       "      <th>total_items</th>\n",
       "      <th>prop_cancelled</th>\n",
       "    </tr>\n",
       "    <tr>\n",
       "      <th>Client_ID</th>\n",
       "      <th></th>\n",
       "      <th></th>\n",
       "      <th></th>\n",
       "      <th></th>\n",
       "      <th></th>\n",
       "      <th></th>\n",
       "      <th></th>\n",
       "    </tr>\n",
       "  </thead>\n",
       "  <tbody>\n",
       "    <tr>\n",
       "      <th>32555749-545749525150 .</th>\n",
       "      <td>1</td>\n",
       "      <td>5</td>\n",
       "      <td>0</td>\n",
       "      <td>1088.0</td>\n",
       "      <td>1.00</td>\n",
       "      <td>5</td>\n",
       "      <td>0.0</td>\n",
       "    </tr>\n",
       "    <tr>\n",
       "      <th>55494851-56495152535476</th>\n",
       "      <td>1</td>\n",
       "      <td>1</td>\n",
       "      <td>0</td>\n",
       "      <td>1630.0</td>\n",
       "      <td>1.00</td>\n",
       "      <td>1</td>\n",
       "      <td>0.0</td>\n",
       "    </tr>\n",
       "    <tr>\n",
       "      <th>55505353-48575248535072</th>\n",
       "      <td>1</td>\n",
       "      <td>1</td>\n",
       "      <td>0</td>\n",
       "      <td>7966.0</td>\n",
       "      <td>1.00</td>\n",
       "      <td>1</td>\n",
       "      <td>0.0</td>\n",
       "    </tr>\n",
       "    <tr>\n",
       "      <th>55515651-54485252545773</th>\n",
       "      <td>1</td>\n",
       "      <td>0</td>\n",
       "      <td>1</td>\n",
       "      <td>NaN</td>\n",
       "      <td>1.00</td>\n",
       "      <td>1</td>\n",
       "      <td>1.0</td>\n",
       "    </tr>\n",
       "    <tr>\n",
       "      <th>55525353-53535353565678</th>\n",
       "      <td>1</td>\n",
       "      <td>0</td>\n",
       "      <td>1</td>\n",
       "      <td>NaN</td>\n",
       "      <td>1.00</td>\n",
       "      <td>1</td>\n",
       "      <td>1.0</td>\n",
       "    </tr>\n",
       "    <tr>\n",
       "      <th>...</th>\n",
       "      <td>...</td>\n",
       "      <td>...</td>\n",
       "      <td>...</td>\n",
       "      <td>...</td>\n",
       "      <td>...</td>\n",
       "      <td>...</td>\n",
       "      <td>...</td>\n",
       "    </tr>\n",
       "    <tr>\n",
       "      <th>57495456-48525056575193</th>\n",
       "      <td>1</td>\n",
       "      <td>3</td>\n",
       "      <td>0</td>\n",
       "      <td>3178.0</td>\n",
       "      <td>1.00</td>\n",
       "      <td>3</td>\n",
       "      <td>0.0</td>\n",
       "    </tr>\n",
       "    <tr>\n",
       "      <th>57505449-54565157515496</th>\n",
       "      <td>1</td>\n",
       "      <td>0</td>\n",
       "      <td>2</td>\n",
       "      <td>NaN</td>\n",
       "      <td>1.00</td>\n",
       "      <td>2</td>\n",
       "      <td>2.0</td>\n",
       "    </tr>\n",
       "    <tr>\n",
       "      <th>57545653-57554953575092</th>\n",
       "      <td>1</td>\n",
       "      <td>0</td>\n",
       "      <td>25</td>\n",
       "      <td>NaN</td>\n",
       "      <td>1.04</td>\n",
       "      <td>26</td>\n",
       "      <td>25.0</td>\n",
       "    </tr>\n",
       "    <tr>\n",
       "      <th>57545657-49575257555799</th>\n",
       "      <td>1</td>\n",
       "      <td>2</td>\n",
       "      <td>1</td>\n",
       "      <td>1784.0</td>\n",
       "      <td>1.00</td>\n",
       "      <td>3</td>\n",
       "      <td>1.0</td>\n",
       "    </tr>\n",
       "    <tr>\n",
       "      <th>71764848-485149524951G3</th>\n",
       "      <td>1</td>\n",
       "      <td>0</td>\n",
       "      <td>2</td>\n",
       "      <td>NaN</td>\n",
       "      <td>0.00</td>\n",
       "      <td>0</td>\n",
       "      <td>2.0</td>\n",
       "    </tr>\n",
       "  </tbody>\n",
       "</table>\n",
       "<p>105109 rows × 7 columns</p>\n",
       "</div>"
      ],
      "text/plain": [
       "                         total_orders  delivered_orders  \\\n",
       "Client_ID                                                 \n",
       "32555749-545749525150 .             1                 5   \n",
       "55494851-56495152535476             1                 1   \n",
       "55505353-48575248535072             1                 1   \n",
       "55515651-54485252545773             1                 0   \n",
       "55525353-53535353565678             1                 0   \n",
       "...                               ...               ...   \n",
       "57495456-48525056575193             1                 3   \n",
       "57505449-54565157515496             1                 0   \n",
       "57545653-57554953575092             1                 0   \n",
       "57545657-49575257555799             1                 2   \n",
       "71764848-485149524951G3             1                 0   \n",
       "\n",
       "                         cancelled_or_returned  avg_bill_delivered  \\\n",
       "Client_ID                                                            \n",
       "32555749-545749525150 .                      0              1088.0   \n",
       "55494851-56495152535476                      0              1630.0   \n",
       "55505353-48575248535072                      0              7966.0   \n",
       "55515651-54485252545773                      1                 NaN   \n",
       "55525353-53535353565678                      1                 NaN   \n",
       "...                                        ...                 ...   \n",
       "57495456-48525056575193                      0              3178.0   \n",
       "57505449-54565157515496                      2                 NaN   \n",
       "57545653-57554953575092                     25                 NaN   \n",
       "57545657-49575257555799                      1              1784.0   \n",
       "71764848-485149524951G3                      2                 NaN   \n",
       "\n",
       "                         avg_items_per_order  total_items  prop_cancelled  \n",
       "Client_ID                                                                  \n",
       "32555749-545749525150 .                 1.00            5             0.0  \n",
       "55494851-56495152535476                 1.00            1             0.0  \n",
       "55505353-48575248535072                 1.00            1             0.0  \n",
       "55515651-54485252545773                 1.00            1             1.0  \n",
       "55525353-53535353565678                 1.00            1             1.0  \n",
       "...                                      ...          ...             ...  \n",
       "57495456-48525056575193                 1.00            3             0.0  \n",
       "57505449-54565157515496                 1.00            2             2.0  \n",
       "57545653-57554953575092                 1.04           26            25.0  \n",
       "57545657-49575257555799                 1.00            3             1.0  \n",
       "71764848-485149524951G3                 0.00            0             2.0  \n",
       "\n",
       "[105109 rows x 7 columns]"
      ]
     },
     "execution_count": 7,
     "metadata": {},
     "output_type": "execute_result"
    }
   ],
   "source": [
    "def outlier_filter(df, cols, k=1.0):\n",
    "    P1 = df[cols].quantile(0.10)\n",
    "    P2 = df[cols].quantile(0.90)\n",
    "    IPR = P2 - P1                       # inter-percentile range\n",
    "\n",
    "    lower = P1 - k * IPR\n",
    "    upper = P2 + k * IPR\n",
    "\n",
    "    keep_mask = ~((df[cols] < lower) | (df[cols] > upper)).any(axis=1)\n",
    "    return keep_mask\n",
    "\n",
    "\n",
    "metrics_for_outliers = [\n",
    "    \"avg_bill_delivered\",     # unusually high average receipt\n",
    "    \"avg_items_per_order\",    # huge baskets\n",
    "    \"total_orders\",           # heavy buyers\n",
    "]\n",
    "mask_keep = outlier_filter(client_base, metrics_for_outliers, k=1) #the bigger the k, the less clients are dropped\n",
    "print(f\"Removed {(~mask_keep).sum():,} extreme-behaviour clients \"\n",
    "      f\"({(~mask_keep).mean():.2%} of all)\")\n",
    "\n",
    "client_base = client_base[mask_keep] ; client_base"
   ]
  },
  {
   "cell_type": "code",
   "execution_count": 8,
   "id": "636e6264",
   "metadata": {},
   "outputs": [
    {
     "data": {
      "text/html": [
       "<div>\n",
       "<style scoped>\n",
       "    .dataframe tbody tr th:only-of-type {\n",
       "        vertical-align: middle;\n",
       "    }\n",
       "\n",
       "    .dataframe tbody tr th {\n",
       "        vertical-align: top;\n",
       "    }\n",
       "\n",
       "    .dataframe thead th {\n",
       "        text-align: right;\n",
       "    }\n",
       "</style>\n",
       "<table border=\"1\" class=\"dataframe\">\n",
       "  <thead>\n",
       "    <tr style=\"text-align: right;\">\n",
       "      <th></th>\n",
       "      <th>total_orders</th>\n",
       "      <th>delivered_orders</th>\n",
       "      <th>cancelled_or_returned</th>\n",
       "      <th>avg_bill_delivered</th>\n",
       "      <th>avg_items_per_order</th>\n",
       "      <th>total_items</th>\n",
       "      <th>prop_cancelled</th>\n",
       "      <th>Item_Group_ДЕТСКОЕ ПИТАНИЕ</th>\n",
       "      <th>Item_Group_ЖЕНСКИЕ ШТУЧКИ</th>\n",
       "      <th>Item_Group_ИГРУШКИ</th>\n",
       "      <th>Item_Group_КАНЦТОВАРЫ, КНИГИ, ДИСКИ</th>\n",
       "      <th>Item_Group_КОСМЕТИКА/ГИГИЕНА</th>\n",
       "      <th>Item_Group_КРУПНОГАБАРИТНЫЙ ТОВАР</th>\n",
       "      <th>Item_Group_ОБУВЬ</th>\n",
       "      <th>Item_Group_ПОДГУЗНИКИ</th>\n",
       "      <th>Item_Group_СОПУТСТВУЮЩИЕ ТОВАРЫ</th>\n",
       "      <th>Item_Group_ТЕКСТИЛЬ, ТРИКОТАЖ</th>\n",
       "      <th>Item_Group_ТЕХНИКА И ТОВАРЫ ДЛЯ ДОМА</th>\n",
       "      <th>Item_Group_ТОВАРЫ ДЛЯ ЖИВОТНЫХ</th>\n",
       "      <th>Item_Group_ТОВАРЫ ДЛЯ КОРМЛЕНИЯ</th>\n",
       "    </tr>\n",
       "    <tr>\n",
       "      <th>Client_ID</th>\n",
       "      <th></th>\n",
       "      <th></th>\n",
       "      <th></th>\n",
       "      <th></th>\n",
       "      <th></th>\n",
       "      <th></th>\n",
       "      <th></th>\n",
       "      <th></th>\n",
       "      <th></th>\n",
       "      <th></th>\n",
       "      <th></th>\n",
       "      <th></th>\n",
       "      <th></th>\n",
       "      <th></th>\n",
       "      <th></th>\n",
       "      <th></th>\n",
       "      <th></th>\n",
       "      <th></th>\n",
       "      <th></th>\n",
       "      <th></th>\n",
       "    </tr>\n",
       "  </thead>\n",
       "  <tbody>\n",
       "    <tr>\n",
       "      <th>55494851-56495152535476</th>\n",
       "      <td>1</td>\n",
       "      <td>1</td>\n",
       "      <td>0</td>\n",
       "      <td>1630.0</td>\n",
       "      <td>1.0</td>\n",
       "      <td>1</td>\n",
       "      <td>0.0</td>\n",
       "      <td>0</td>\n",
       "      <td>0</td>\n",
       "      <td>1.0</td>\n",
       "      <td>0</td>\n",
       "      <td>0</td>\n",
       "      <td>0</td>\n",
       "      <td>0</td>\n",
       "      <td>0</td>\n",
       "      <td>0</td>\n",
       "      <td>0</td>\n",
       "      <td>0</td>\n",
       "      <td>0</td>\n",
       "      <td>0</td>\n",
       "    </tr>\n",
       "    <tr>\n",
       "      <th>55505353-48575248535072</th>\n",
       "      <td>1</td>\n",
       "      <td>1</td>\n",
       "      <td>0</td>\n",
       "      <td>7966.0</td>\n",
       "      <td>1.0</td>\n",
       "      <td>1</td>\n",
       "      <td>0.0</td>\n",
       "      <td>0</td>\n",
       "      <td>0</td>\n",
       "      <td>0</td>\n",
       "      <td>0</td>\n",
       "      <td>0</td>\n",
       "      <td>0</td>\n",
       "      <td>0</td>\n",
       "      <td>0</td>\n",
       "      <td>0</td>\n",
       "      <td>0</td>\n",
       "      <td>0</td>\n",
       "      <td>0</td>\n",
       "      <td>1.0</td>\n",
       "    </tr>\n",
       "    <tr>\n",
       "      <th>55515651-54485252545773</th>\n",
       "      <td>1</td>\n",
       "      <td>0</td>\n",
       "      <td>1</td>\n",
       "      <td>0.0</td>\n",
       "      <td>1.0</td>\n",
       "      <td>1</td>\n",
       "      <td>1.0</td>\n",
       "      <td>0</td>\n",
       "      <td>0</td>\n",
       "      <td>1.0</td>\n",
       "      <td>0</td>\n",
       "      <td>0</td>\n",
       "      <td>0</td>\n",
       "      <td>0</td>\n",
       "      <td>0</td>\n",
       "      <td>0</td>\n",
       "      <td>0</td>\n",
       "      <td>0</td>\n",
       "      <td>0</td>\n",
       "      <td>0</td>\n",
       "    </tr>\n",
       "    <tr>\n",
       "      <th>55525353-53535353565678</th>\n",
       "      <td>1</td>\n",
       "      <td>0</td>\n",
       "      <td>1</td>\n",
       "      <td>0.0</td>\n",
       "      <td>1.0</td>\n",
       "      <td>1</td>\n",
       "      <td>1.0</td>\n",
       "      <td>0</td>\n",
       "      <td>0</td>\n",
       "      <td>1.0</td>\n",
       "      <td>0</td>\n",
       "      <td>0</td>\n",
       "      <td>0</td>\n",
       "      <td>0</td>\n",
       "      <td>0</td>\n",
       "      <td>0</td>\n",
       "      <td>0</td>\n",
       "      <td>0</td>\n",
       "      <td>0</td>\n",
       "      <td>0</td>\n",
       "    </tr>\n",
       "    <tr>\n",
       "      <th>55525453-54485455535276</th>\n",
       "      <td>1</td>\n",
       "      <td>0</td>\n",
       "      <td>1</td>\n",
       "      <td>0.0</td>\n",
       "      <td>1.0</td>\n",
       "      <td>1</td>\n",
       "      <td>1.0</td>\n",
       "      <td>0</td>\n",
       "      <td>0</td>\n",
       "      <td>0</td>\n",
       "      <td>0</td>\n",
       "      <td>0</td>\n",
       "      <td>1.0</td>\n",
       "      <td>0</td>\n",
       "      <td>0</td>\n",
       "      <td>0</td>\n",
       "      <td>0</td>\n",
       "      <td>0</td>\n",
       "      <td>0</td>\n",
       "      <td>0</td>\n",
       "    </tr>\n",
       "  </tbody>\n",
       "</table>\n",
       "</div>"
      ],
      "text/plain": [
       "                         total_orders  delivered_orders  \\\n",
       "Client_ID                                                 \n",
       "55494851-56495152535476             1                 1   \n",
       "55505353-48575248535072             1                 1   \n",
       "55515651-54485252545773             1                 0   \n",
       "55525353-53535353565678             1                 0   \n",
       "55525453-54485455535276             1                 0   \n",
       "\n",
       "                         cancelled_or_returned  avg_bill_delivered  \\\n",
       "Client_ID                                                            \n",
       "55494851-56495152535476                      0              1630.0   \n",
       "55505353-48575248535072                      0              7966.0   \n",
       "55515651-54485252545773                      1                 0.0   \n",
       "55525353-53535353565678                      1                 0.0   \n",
       "55525453-54485455535276                      1                 0.0   \n",
       "\n",
       "                         avg_items_per_order  total_items  prop_cancelled  \\\n",
       "Client_ID                                                                   \n",
       "55494851-56495152535476                  1.0            1             0.0   \n",
       "55505353-48575248535072                  1.0            1             0.0   \n",
       "55515651-54485252545773                  1.0            1             1.0   \n",
       "55525353-53535353565678                  1.0            1             1.0   \n",
       "55525453-54485455535276                  1.0            1             1.0   \n",
       "\n",
       "                         Item_Group_ДЕТСКОЕ ПИТАНИЕ  \\\n",
       "Client_ID                                             \n",
       "55494851-56495152535476                           0   \n",
       "55505353-48575248535072                           0   \n",
       "55515651-54485252545773                           0   \n",
       "55525353-53535353565678                           0   \n",
       "55525453-54485455535276                           0   \n",
       "\n",
       "                         Item_Group_ЖЕНСКИЕ ШТУЧКИ  Item_Group_ИГРУШКИ  \\\n",
       "Client_ID                                                                \n",
       "55494851-56495152535476                          0                 1.0   \n",
       "55505353-48575248535072                          0                   0   \n",
       "55515651-54485252545773                          0                 1.0   \n",
       "55525353-53535353565678                          0                 1.0   \n",
       "55525453-54485455535276                          0                   0   \n",
       "\n",
       "                         Item_Group_КАНЦТОВАРЫ, КНИГИ, ДИСКИ  \\\n",
       "Client_ID                                                      \n",
       "55494851-56495152535476                                    0   \n",
       "55505353-48575248535072                                    0   \n",
       "55515651-54485252545773                                    0   \n",
       "55525353-53535353565678                                    0   \n",
       "55525453-54485455535276                                    0   \n",
       "\n",
       "                         Item_Group_КОСМЕТИКА/ГИГИЕНА  \\\n",
       "Client_ID                                               \n",
       "55494851-56495152535476                             0   \n",
       "55505353-48575248535072                             0   \n",
       "55515651-54485252545773                             0   \n",
       "55525353-53535353565678                             0   \n",
       "55525453-54485455535276                             0   \n",
       "\n",
       "                         Item_Group_КРУПНОГАБАРИТНЫЙ ТОВАР  Item_Group_ОБУВЬ  \\\n",
       "Client_ID                                                                      \n",
       "55494851-56495152535476                                  0                 0   \n",
       "55505353-48575248535072                                  0                 0   \n",
       "55515651-54485252545773                                  0                 0   \n",
       "55525353-53535353565678                                  0                 0   \n",
       "55525453-54485455535276                                1.0                 0   \n",
       "\n",
       "                         Item_Group_ПОДГУЗНИКИ  \\\n",
       "Client_ID                                        \n",
       "55494851-56495152535476                      0   \n",
       "55505353-48575248535072                      0   \n",
       "55515651-54485252545773                      0   \n",
       "55525353-53535353565678                      0   \n",
       "55525453-54485455535276                      0   \n",
       "\n",
       "                         Item_Group_СОПУТСТВУЮЩИЕ ТОВАРЫ  \\\n",
       "Client_ID                                                  \n",
       "55494851-56495152535476                                0   \n",
       "55505353-48575248535072                                0   \n",
       "55515651-54485252545773                                0   \n",
       "55525353-53535353565678                                0   \n",
       "55525453-54485455535276                                0   \n",
       "\n",
       "                         Item_Group_ТЕКСТИЛЬ, ТРИКОТАЖ  \\\n",
       "Client_ID                                                \n",
       "55494851-56495152535476                              0   \n",
       "55505353-48575248535072                              0   \n",
       "55515651-54485252545773                              0   \n",
       "55525353-53535353565678                              0   \n",
       "55525453-54485455535276                              0   \n",
       "\n",
       "                         Item_Group_ТЕХНИКА И ТОВАРЫ ДЛЯ ДОМА  \\\n",
       "Client_ID                                                       \n",
       "55494851-56495152535476                                     0   \n",
       "55505353-48575248535072                                     0   \n",
       "55515651-54485252545773                                     0   \n",
       "55525353-53535353565678                                     0   \n",
       "55525453-54485455535276                                     0   \n",
       "\n",
       "                         Item_Group_ТОВАРЫ ДЛЯ ЖИВОТНЫХ  \\\n",
       "Client_ID                                                 \n",
       "55494851-56495152535476                               0   \n",
       "55505353-48575248535072                               0   \n",
       "55515651-54485252545773                               0   \n",
       "55525353-53535353565678                               0   \n",
       "55525453-54485455535276                               0   \n",
       "\n",
       "                         Item_Group_ТОВАРЫ ДЛЯ КОРМЛЕНИЯ  \n",
       "Client_ID                                                 \n",
       "55494851-56495152535476                                0  \n",
       "55505353-48575248535072                              1.0  \n",
       "55515651-54485252545773                                0  \n",
       "55525353-53535353565678                                0  \n",
       "55525453-54485455535276                                0  "
      ]
     },
     "execution_count": 8,
     "metadata": {},
     "output_type": "execute_result"
    }
   ],
   "source": [
    "ohe = OneHotEncoder(handle_unknown=\"ignore\", sparse_output=True)\n",
    "item_grp_ohe = ohe.fit_transform(df[[\"Item_Group\"]])\n",
    "item_grp_df = (pd.DataFrame.sparse.from_spmatrix(item_grp_ohe, index=df[\"Client_ID\"], columns=ohe.get_feature_names_out()).groupby(level=0).sum().clip(upper=1))\n",
    "\n",
    "features = client_base.join(item_grp_df, how=\"left\").fillna(0)\n",
    "features.drop(index=features.index[0], axis=0, inplace=True)\n",
    "features.head()"
   ]
  },
  {
   "cell_type": "code",
   "execution_count": 9,
   "id": "bb8c9a78",
   "metadata": {},
   "outputs": [],
   "source": [
    "numeric_cols = client_base.columns.tolist()\n",
    "binary_item_cols = item_grp_df.columns.tolist()\n",
    "\n",
    "preproc = ColumnTransformer(transformers=[(\"num\", StandardScaler(), numeric_cols), (\"bin\", \"passthrough\", binary_item_cols)])\n",
    "X = preproc.fit_transform(features)"
   ]
  },
  {
   "cell_type": "code",
   "execution_count": 13,
   "id": "33ae18b5",
   "metadata": {},
   "outputs": [
    {
     "data": {
      "image/png": "[encoded data removed]",
      "text/plain": [
       "<Figure size 640x480 with 1 Axes>"
      ]
     },
     "metadata": {},
     "output_type": "display_data"
    },
    {
     "data": {
      "image/png": "[encoded data removed]",
      "text/plain": [
       "<Figure size 640x480 with 1 Axes>"
      ]
     },
     "metadata": {},
     "output_type": "display_data"
    }
   ],
   "source": [
    "# K-Means\n",
    "k_range = range(3, 15)\n",
    "inertias, sils = [], []\n",
    "\n",
    "for k in k_range:\n",
    "    km = KMeans(n_clusters=k, random_state=42, n_init=\"auto\").fit(X)\n",
    "    labels = km.labels_\n",
    "    inertias.append(km.inertia_)\n",
    "    sils.append(silhouette_score(X, labels))\n",
    "\n",
    "plt.figure()\n",
    "plt.plot(k_range, inertias, marker=\"o\")\n",
    "plt.title(\"Elbow diagram – KMeans\")\n",
    "plt.xlabel(\"k\"); plt.ylabel(\"Inertia\")\n",
    "plt.show()\n",
    "\n",
    "plt.figure()\n",
    "plt.plot(k_range, sils, marker=\"o\")\n",
    "plt.title(\"Silhouette vs k (KMeans)\")\n",
    "plt.xlabel(\"k\"); plt.ylabel(\"Silhouette\")\n",
    "plt.show()"
   ]
  },
  {
   "cell_type": "code",
   "execution_count": null,
   "id": "1935af5b",
   "metadata": {},
   "outputs": [
    {
     "name": "stdout",
     "output_type": "stream",
     "text": [
      "Selected k for K-Means: 6\n"
     ]
    }
   ],
   "source": [
    "best_k = int(pd.Series(sils, index=k_range).idxmin())\n",
    "# best_k = 6\n",
    "print(f\"Selected k for K-Means: {best_k}\")\n",
    "\n",
    "kmeans_final = KMeans(n_clusters=best_k, n_init=\"auto\", random_state=42).fit(X)\n",
    "features[\"cluster_km\"] = kmeans_final.labels_"
   ]
  },
  {
   "cell_type": "code",
   "execution_count": 16,
   "id": "eef6f686",
   "metadata": {},
   "outputs": [
    {
     "data": {
      "image/png": "[encoded data removed]",
      "text/plain": [
       "<Figure size 640x480 with 1 Axes>"
      ]
     },
     "metadata": {},
     "output_type": "display_data"
    },
    {
     "name": "stdout",
     "output_type": "stream",
     "text": [
      "Selected 11 components for Gaussian Mixture\n"
     ]
    }
   ],
   "source": [
    "bic, gm_models = [], []\n",
    "for k in k_range:\n",
    "    gm = GaussianMixture(n_components=k, covariance_type=\"full\", random_state=42).fit(X.toarray() if hasattr(X, \"toarray\") else X)\n",
    "    bic.append(gm.bic(X))\n",
    "    gm_models.append(gm)\n",
    "\n",
    "plt.figure()\n",
    "plt.plot(k_range, bic, marker=\"o\")\n",
    "plt.title(\"BIC vs components (Gaussian Mixture)\")\n",
    "plt.xlabel(\"n_components\"); plt.ylabel(\"BIC\")\n",
    "plt.show()\n",
    "\n",
    "best_idx = int(np.argmin(bic))\n",
    "gm_best = gm_models[best_idx]\n",
    "features[\"cluster_gm\"] = gm_best.predict(X)\n",
    "print(f\"Selected {k_range[best_idx]} components for Gaussian Mixture\")"
   ]
  },
  {
   "cell_type": "code",
   "execution_count": null,
   "id": "cab7521b",
   "metadata": {},
   "outputs": [],
   "source": [
    "eps_vals = np.linspace(1.4, 2.0, 3)\n",
    "min_samp_vals = [5, 10]\n",
    "results = []\n",
    "\n",
    "X_dense = (X.toarray() if hasattr(X, \"toarray\") else X).astype(np.float32)\n",
    "\n",
    "for eps in eps_vals:\n",
    "    for m in min_samp_vals:\n",
    "        db = DBSCAN(eps=eps, min_samples=m).fit(X_dense)\n",
    "        labels = db.labels_\n",
    "        if (labels != -1).sum() < 2:\n",
    "            continue\n",
    "        sil = silhouette_score(X_dense, labels, sample_size=10000, random_state=42)\n",
    "        dbs = davies_bouldin_score(X_dense, labels)\n",
    "        results.append({\"eps\": eps, \"min_samples\": m, \"silhouette\": sil, \"db_index\": dbs})\n",
    "\n",
    "dbscan_results = pd.DataFrame(results).sort_values(\"silhouette\", ascending=False)\n",
    "display(dbscan_results.head())\n",
    "\n",
    "# Fit best DBSCAN\n",
    "best = dbscan_results.iloc[0]\n",
    "dbscan_final = DBSCAN(eps=best.eps, min_samples=int(best.min_samples)).fit(X)\n",
    "features[\"cluster_db\"] = dbscan_final.labels_\n",
    "print(f\"DBSCAN chosen: eps={best.eps}, min_samples={int(best.min_samples)}\")"
   ]
  },
  {
   "cell_type": "code",
   "execution_count": 18,
   "id": "6653fde6",
   "metadata": {},
   "outputs": [
    {
     "data": {
      "text/html": [
       "<div>\n",
       "<style scoped>\n",
       "    .dataframe tbody tr th:only-of-type {\n",
       "        vertical-align: middle;\n",
       "    }\n",
       "\n",
       "    .dataframe tbody tr th {\n",
       "        vertical-align: top;\n",
       "    }\n",
       "\n",
       "    .dataframe thead th {\n",
       "        text-align: right;\n",
       "    }\n",
       "</style>\n",
       "<table border=\"1\" class=\"dataframe\">\n",
       "  <thead>\n",
       "    <tr style=\"text-align: right;\">\n",
       "      <th></th>\n",
       "      <th>n_clusters</th>\n",
       "      <th>silhouette</th>\n",
       "      <th>davies_bouldin</th>\n",
       "    </tr>\n",
       "  </thead>\n",
       "  <tbody>\n",
       "    <tr>\n",
       "      <th>KMeans</th>\n",
       "      <td>6.0</td>\n",
       "      <td>0.163524</td>\n",
       "      <td>1.494176</td>\n",
       "    </tr>\n",
       "    <tr>\n",
       "      <th>GaussMix</th>\n",
       "      <td>11.0</td>\n",
       "      <td>0.040234</td>\n",
       "      <td>3.019058</td>\n",
       "    </tr>\n",
       "  </tbody>\n",
       "</table>\n",
       "</div>"
      ],
      "text/plain": [
       "          n_clusters  silhouette  davies_bouldin\n",
       "KMeans           6.0    0.163524        1.494176\n",
       "GaussMix        11.0    0.040234        3.019058"
      ]
     },
     "metadata": {},
     "output_type": "display_data"
    }
   ],
   "source": [
    "def scores(X, labels):\n",
    "    return {\n",
    "        \"n_clusters\": len(set(labels)) - (1 if -1 in labels else 0),\n",
    "        \"silhouette\": silhouette_score(X, labels),\n",
    "        \"davies_bouldin\": davies_bouldin_score(X, labels)}\n",
    "\n",
    "summary = pd.DataFrame({\n",
    "    \"KMeans\": scores(X, features[\"cluster_km\"]),\n",
    "    \"GaussMix\": scores(X, features[\"cluster_gm\"]),\n",
    "    # \"DBSCAN\": scores(X_dense, features[\"cluster_db\"])\n",
    "    }).T\n",
    "\n",
    "display(summary)"
   ]
  },
  {
   "cell_type": "code",
   "execution_count": 19,
   "id": "8ed08189",
   "metadata": {},
   "outputs": [],
   "source": [
    "import matplotlib as mpl\n",
    "blue_cmap = mpl.colormaps.get_cmap(\"Blues\")\n",
    "teal_cmap = mpl.colormaps.get_cmap(\"PuBuGn\")\n",
    "\n",
    "def style_kpi(df):\n",
    "    pct_cols = [\"Revenue %\", \"Orders %\", \"Clients %\"]\n",
    "    return (\n",
    "        df.style\n",
    "          .format({c:\"{:.2f}%\" for c in pct_cols} |\n",
    "                  {\"Avg_ticket\":\"{:,.0f} ₽\", \"Avg_items\":\"{:,.2f}\"})\n",
    "          .background_gradient(cmap=blue_cmap, subset=pct_cols)\n",
    "          .background_gradient(cmap=teal_cmap.reversed(), subset=[\"Avg_ticket\", \"Avg_items\"])\n",
    "          .highlight_max(color=\"#c6dbef\", axis=0, subset=pct_cols))\n",
    "\n",
    "def style_mix(df):\n",
    "    return (\n",
    "        df.style\n",
    "          .format(\"{:.2f}%\")\n",
    "          .background_gradient(cmap=blue_cmap)\n",
    "          .highlight_max(color=\"#c6dbef\", axis=1)\n",
    "          .highlight_max(color=\"#c6dbef\", axis=0, subset=[\"Clients %\"]))"
   ]
  },
  {
   "cell_type": "code",
   "execution_count": 20,
   "id": "0a7133f6",
   "metadata": {},
   "outputs": [
    {
     "data": {
      "text/html": [
       "<style type=\"text/css\">\n",
       "#T_f4473_row0_col0, #T_f4473_row1_col2, #T_f4473_row5_col1, #T_f4473_row5_col2 {\n",
       "  background-color: #f7fbff;\n",
       "  color: #000000;\n",
       "}\n",
       "#T_f4473_row0_col1, #T_f4473_row0_col2 {\n",
       "  background-color: #99c7e0;\n",
       "  color: #000000;\n",
       "}\n",
       "#T_f4473_row0_col3 {\n",
       "  background-color: #02818a;\n",
       "  color: #f1f1f1;\n",
       "}\n",
       "#T_f4473_row0_col4, #T_f4473_row4_col3 {\n",
       "  background-color: #014636;\n",
       "  color: #f1f1f1;\n",
       "}\n",
       "#T_f4473_row1_col0, #T_f4473_row4_col1, #T_f4473_row4_col2 {\n",
       "  background-color: #08306b;\n",
       "  color: #f1f1f1;\n",
       "  background-color: #c6dbef;\n",
       "}\n",
       "#T_f4473_row1_col1 {\n",
       "  background-color: #f2f7fd;\n",
       "  color: #000000;\n",
       "}\n",
       "#T_f4473_row1_col3 {\n",
       "  background-color: #86b3d5;\n",
       "  color: #000000;\n",
       "}\n",
       "#T_f4473_row1_col4, #T_f4473_row3_col3 {\n",
       "  background-color: #fff7fb;\n",
       "  color: #000000;\n",
       "}\n",
       "#T_f4473_row2_col0 {\n",
       "  background-color: #1e6db2;\n",
       "  color: #f1f1f1;\n",
       "}\n",
       "#T_f4473_row2_col1 {\n",
       "  background-color: #5da5d1;\n",
       "  color: #f1f1f1;\n",
       "}\n",
       "#T_f4473_row2_col2 {\n",
       "  background-color: #d3e3f3;\n",
       "  color: #000000;\n",
       "}\n",
       "#T_f4473_row2_col3 {\n",
       "  background-color: #016c59;\n",
       "  color: #f1f1f1;\n",
       "}\n",
       "#T_f4473_row2_col4 {\n",
       "  background-color: #3e94c3;\n",
       "  color: #f1f1f1;\n",
       "}\n",
       "#T_f4473_row3_col0 {\n",
       "  background-color: #92c4de;\n",
       "  color: #000000;\n",
       "}\n",
       "#T_f4473_row3_col1 {\n",
       "  background-color: #d9e8f5;\n",
       "  color: #000000;\n",
       "}\n",
       "#T_f4473_row3_col2 {\n",
       "  background-color: #d7e6f5;\n",
       "  color: #000000;\n",
       "}\n",
       "#T_f4473_row3_col4 {\n",
       "  background-color: #13869b;\n",
       "  color: #f1f1f1;\n",
       "}\n",
       "#T_f4473_row4_col0 {\n",
       "  background-color: #6fb0d7;\n",
       "  color: #f1f1f1;\n",
       "}\n",
       "#T_f4473_row4_col4 {\n",
       "  background-color: #238bac;\n",
       "  color: #f1f1f1;\n",
       "}\n",
       "#T_f4473_row5_col0 {\n",
       "  background-color: #3d8dc4;\n",
       "  color: #f1f1f1;\n",
       "}\n",
       "#T_f4473_row5_col3 {\n",
       "  background-color: #ece2f0;\n",
       "  color: #000000;\n",
       "}\n",
       "#T_f4473_row5_col4 {\n",
       "  background-color: #338fbd;\n",
       "  color: #f1f1f1;\n",
       "}\n",
       "</style>\n",
       "<table id=\"T_f4473\">\n",
       "  <thead>\n",
       "    <tr>\n",
       "      <th class=\"blank level0\" >&nbsp;</th>\n",
       "      <th id=\"T_f4473_level0_col0\" class=\"col_heading level0 col0\" >Revenue %</th>\n",
       "      <th id=\"T_f4473_level0_col1\" class=\"col_heading level0 col1\" >Orders %</th>\n",
       "      <th id=\"T_f4473_level0_col2\" class=\"col_heading level0 col2\" >Clients %</th>\n",
       "      <th id=\"T_f4473_level0_col3\" class=\"col_heading level0 col3\" >Avg_ticket</th>\n",
       "      <th id=\"T_f4473_level0_col4\" class=\"col_heading level0 col4\" >Avg_items</th>\n",
       "    </tr>\n",
       "    <tr>\n",
       "      <th class=\"index_name level0\" >cluster_km</th>\n",
       "      <th class=\"blank col0\" >&nbsp;</th>\n",
       "      <th class=\"blank col1\" >&nbsp;</th>\n",
       "      <th class=\"blank col2\" >&nbsp;</th>\n",
       "      <th class=\"blank col3\" >&nbsp;</th>\n",
       "      <th class=\"blank col4\" >&nbsp;</th>\n",
       "    </tr>\n",
       "  </thead>\n",
       "  <tbody>\n",
       "    <tr>\n",
       "      <th id=\"T_f4473_level0_row0\" class=\"row_heading level0 row0\" >0</th>\n",
       "      <td id=\"T_f4473_row0_col0\" class=\"data row0 col0\" >10.90%</td>\n",
       "      <td id=\"T_f4473_row0_col1\" class=\"data row0 col1\" >18.15%</td>\n",
       "      <td id=\"T_f4473_row0_col2\" class=\"data row0 col2\" >21.75%</td>\n",
       "      <td id=\"T_f4473_row0_col3\" class=\"data row0 col3\" >3,295 ₽</td>\n",
       "      <td id=\"T_f4473_row0_col4\" class=\"data row0 col4\" >0.91</td>\n",
       "    </tr>\n",
       "    <tr>\n",
       "      <th id=\"T_f4473_level0_row1\" class=\"row_heading level0 row1\" >1</th>\n",
       "      <td id=\"T_f4473_row1_col0\" class=\"data row1 col0\" >21.38%</td>\n",
       "      <td id=\"T_f4473_row1_col1\" class=\"data row1 col1\" >3.86%</td>\n",
       "      <td id=\"T_f4473_row1_col2\" class=\"data row1 col2\" >2.04%</td>\n",
       "      <td id=\"T_f4473_row1_col3\" class=\"data row1 col3\" >4,763 ₽</td>\n",
       "      <td id=\"T_f4473_row1_col4\" class=\"data row1 col4\" >1.67</td>\n",
       "    </tr>\n",
       "    <tr>\n",
       "      <th id=\"T_f4473_level0_row2\" class=\"row_heading level0 row2\" >2</th>\n",
       "      <td id=\"T_f4473_row2_col0\" class=\"data row2 col0\" >18.90%</td>\n",
       "      <td id=\"T_f4473_row2_col1\" class=\"data row2 col1\" >24.17%</td>\n",
       "      <td id=\"T_f4473_row2_col2\" class=\"data row2 col2\" >11.33%</td>\n",
       "      <td id=\"T_f4473_row2_col3\" class=\"data row2 col3\" >2,699 ₽</td>\n",
       "      <td id=\"T_f4473_row2_col4\" class=\"data row2 col4\" >1.21</td>\n",
       "    </tr>\n",
       "    <tr>\n",
       "      <th id=\"T_f4473_level0_row3\" class=\"row_heading level0 row3\" >3</th>\n",
       "      <td id=\"T_f4473_row3_col0\" class=\"data row3 col0\" >15.13%</td>\n",
       "      <td id=\"T_f4473_row3_col1\" class=\"data row3 col1\" >8.63%</td>\n",
       "      <td id=\"T_f4473_row3_col2\" class=\"data row3 col2\" >10.27%</td>\n",
       "      <td id=\"T_f4473_row3_col3\" class=\"data row3 col3\" >6,873 ₽</td>\n",
       "      <td id=\"T_f4473_row3_col4\" class=\"data row3 col4\" >1.13</td>\n",
       "    </tr>\n",
       "    <tr>\n",
       "      <th id=\"T_f4473_level0_row4\" class=\"row_heading level0 row4\" >4</th>\n",
       "      <td id=\"T_f4473_row4_col0\" class=\"data row4 col0\" >16.05%</td>\n",
       "      <td id=\"T_f4473_row4_col1\" class=\"data row4 col1\" >42.49%</td>\n",
       "      <td id=\"T_f4473_row4_col2\" class=\"data row4 col2\" >52.63%</td>\n",
       "      <td id=\"T_f4473_row4_col3\" class=\"data row4 col3\" >2,083 ₽</td>\n",
       "      <td id=\"T_f4473_row4_col4\" class=\"data row4 col4\" >1.16</td>\n",
       "    </tr>\n",
       "    <tr>\n",
       "      <th id=\"T_f4473_level0_row5\" class=\"row_heading level0 row5\" >5</th>\n",
       "      <td id=\"T_f4473_row5_col0\" class=\"data row5 col0\" >17.65%</td>\n",
       "      <td id=\"T_f4473_row5_col1\" class=\"data row5 col1\" >2.70%</td>\n",
       "      <td id=\"T_f4473_row5_col2\" class=\"data row5 col2\" >1.98%</td>\n",
       "      <td id=\"T_f4473_row5_col3\" class=\"data row5 col3\" >6,264 ₽</td>\n",
       "      <td id=\"T_f4473_row5_col4\" class=\"data row5 col4\" >1.19</td>\n",
       "    </tr>\n",
       "  </tbody>\n",
       "</table>\n"
      ],
      "text/plain": [
       "<pandas.io.formats.style.Styler at 0x193128e0a90>"
      ]
     },
     "metadata": {},
     "output_type": "display_data"
    }
   ],
   "source": [
    "df_prof = df.merge(features[\"cluster_km\"], left_on=\"Client_ID\", right_index=True)\n",
    "tot_revenue = df_prof[\"Final_Order_Sum\"].sum()\n",
    "tot_orders  = df_prof[\"Order_ID\"].nunique()\n",
    "tot_clients = features.shape[0]          \n",
    "\n",
    "cluster_kpi = (\n",
    "    df_prof.groupby(\"cluster_km\")\n",
    "            .agg(\n",
    "                Revenue_sum  = (\"Final_Order_Sum\", \"sum\"),\n",
    "                Orders_cnt   = (\"Order_ID\", \"nunique\"),\n",
    "                Avg_ticket   = (\"Final_Order_Sum\", \"mean\"),\n",
    "                Avg_items    = (\"Amount\", \"mean\")))\n",
    "\n",
    "cluster_kpi[\"Revenue %\"] = 100 * cluster_kpi[\"Revenue_sum\"] / tot_revenue\n",
    "cluster_kpi[\"Orders %\"]  = 100 * cluster_kpi[\"Orders_cnt\"]  / tot_orders\n",
    "cluster_kpi[\"Clients %\"] = (100 * features[\"cluster_km\"].value_counts(normalize=True).sort_index())\n",
    "\n",
    "cluster_kpi = cluster_kpi[[\"Revenue %\", \"Orders %\", \"Clients %\", \"Avg_ticket\", \"Avg_items\"]].round(2)\n",
    "display(style_kpi(cluster_kpi))"
   ]
  },
  {
   "cell_type": "code",
   "execution_count": 21,
   "id": "6e0529da",
   "metadata": {},
   "outputs": [
    {
     "data": {
      "text/html": [
       "<style type=\"text/css\">\n",
       "#T_5ca76_row0_col0, #T_5ca76_row0_col1, #T_5ca76_row0_col3, #T_5ca76_row0_col4, #T_5ca76_row0_col8, #T_5ca76_row0_col11, #T_5ca76_row0_col12, #T_5ca76_row1_col2, #T_5ca76_row1_col5, #T_5ca76_row1_col6, #T_5ca76_row1_col9, #T_5ca76_row1_col10, #T_5ca76_row1_col13, #T_5ca76_row3_col10, #T_5ca76_row5_col7, #T_5ca76_row5_col13 {\n",
       "  background-color: #f7fbff;\n",
       "  color: #000000;\n",
       "}\n",
       "#T_5ca76_row0_col2 {\n",
       "  background-color: #c4daee;\n",
       "  color: #000000;\n",
       "}\n",
       "#T_5ca76_row0_col5 {\n",
       "  background-color: #084285;\n",
       "  color: #f1f1f1;\n",
       "}\n",
       "#T_5ca76_row0_col6, #T_5ca76_row0_col10, #T_5ca76_row1_col1, #T_5ca76_row1_col4, #T_5ca76_row1_col11, #T_5ca76_row2_col10, #T_5ca76_row3_col12, #T_5ca76_row4_col2, #T_5ca76_row4_col7, #T_5ca76_row4_col10, #T_5ca76_row5_col3, #T_5ca76_row5_col8, #T_5ca76_row5_col10 {\n",
       "  background-color: #08306b;\n",
       "  color: #f1f1f1;\n",
       "}\n",
       "#T_5ca76_row0_col7 {\n",
       "  background-color: #f2f7fd;\n",
       "  color: #000000;\n",
       "}\n",
       "#T_5ca76_row0_col9 {\n",
       "  background-color: #1e6db2;\n",
       "  color: #f1f1f1;\n",
       "  background-color: #c6dbef;\n",
       "}\n",
       "#T_5ca76_row0_col13, #T_5ca76_row2_col2 {\n",
       "  background-color: #99c7e0;\n",
       "  color: #000000;\n",
       "}\n",
       "#T_5ca76_row1_col0, #T_5ca76_row3_col5, #T_5ca76_row5_col9 {\n",
       "  background-color: #08306b;\n",
       "  color: #f1f1f1;\n",
       "  background-color: #c6dbef;\n",
       "}\n",
       "#T_5ca76_row1_col3 {\n",
       "  background-color: #206fb4;\n",
       "  color: #f1f1f1;\n",
       "}\n",
       "#T_5ca76_row1_col7 {\n",
       "  background-color: #c3daee;\n",
       "  color: #000000;\n",
       "}\n",
       "#T_5ca76_row1_col8 {\n",
       "  background-color: #c7dbef;\n",
       "  color: #000000;\n",
       "}\n",
       "#T_5ca76_row1_col12 {\n",
       "  background-color: #4e9acb;\n",
       "  color: #f1f1f1;\n",
       "}\n",
       "#T_5ca76_row2_col0 {\n",
       "  background-color: #bcd7eb;\n",
       "  color: #000000;\n",
       "}\n",
       "#T_5ca76_row2_col1 {\n",
       "  background-color: #6aaed6;\n",
       "  color: #f1f1f1;\n",
       "}\n",
       "#T_5ca76_row2_col3 {\n",
       "  background-color: #519ccc;\n",
       "  color: #f1f1f1;\n",
       "}\n",
       "#T_5ca76_row2_col4 {\n",
       "  background-color: #1764ab;\n",
       "  color: #f1f1f1;\n",
       "}\n",
       "#T_5ca76_row2_col5 {\n",
       "  background-color: #cbdef1;\n",
       "  color: #000000;\n",
       "}\n",
       "#T_5ca76_row2_col6 {\n",
       "  background-color: #caddf0;\n",
       "  color: #000000;\n",
       "}\n",
       "#T_5ca76_row2_col7 {\n",
       "  background-color: #0d57a1;\n",
       "  color: #f1f1f1;\n",
       "}\n",
       "#T_5ca76_row2_col8 {\n",
       "  background-color: #85bcdc;\n",
       "  color: #000000;\n",
       "}\n",
       "#T_5ca76_row2_col9 {\n",
       "  background-color: #9fcae1;\n",
       "  color: #000000;\n",
       "  background-color: #c6dbef;\n",
       "}\n",
       "#T_5ca76_row2_col11 {\n",
       "  background-color: #4090c5;\n",
       "  color: #f1f1f1;\n",
       "}\n",
       "#T_5ca76_row2_col12 {\n",
       "  background-color: #084d96;\n",
       "  color: #f1f1f1;\n",
       "}\n",
       "#T_5ca76_row2_col13 {\n",
       "  background-color: #d3e3f3;\n",
       "  color: #000000;\n",
       "}\n",
       "#T_5ca76_row3_col0 {\n",
       "  background-color: #e2edf8;\n",
       "  color: #000000;\n",
       "}\n",
       "#T_5ca76_row3_col1 {\n",
       "  background-color: #82bbdb;\n",
       "  color: #000000;\n",
       "}\n",
       "#T_5ca76_row3_col2 {\n",
       "  background-color: #7cb7da;\n",
       "  color: #000000;\n",
       "}\n",
       "#T_5ca76_row3_col3 {\n",
       "  background-color: #cadef0;\n",
       "  color: #000000;\n",
       "}\n",
       "#T_5ca76_row3_col4 {\n",
       "  background-color: #4191c6;\n",
       "  color: #f1f1f1;\n",
       "}\n",
       "#T_5ca76_row3_col6 {\n",
       "  background-color: #d9e7f5;\n",
       "  color: #000000;\n",
       "}\n",
       "#T_5ca76_row3_col7 {\n",
       "  background-color: #a8cee4;\n",
       "  color: #000000;\n",
       "}\n",
       "#T_5ca76_row3_col8 {\n",
       "  background-color: #2171b5;\n",
       "  color: #f1f1f1;\n",
       "}\n",
       "#T_5ca76_row3_col9 {\n",
       "  background-color: #abd0e6;\n",
       "  color: #000000;\n",
       "}\n",
       "#T_5ca76_row3_col11 {\n",
       "  background-color: #b2d2e8;\n",
       "  color: #000000;\n",
       "}\n",
       "#T_5ca76_row3_col13 {\n",
       "  background-color: #d7e6f5;\n",
       "  color: #000000;\n",
       "}\n",
       "#T_5ca76_row4_col0 {\n",
       "  background-color: #d6e6f4;\n",
       "  color: #000000;\n",
       "}\n",
       "#T_5ca76_row4_col1, #T_5ca76_row4_col5 {\n",
       "  background-color: #bdd7ec;\n",
       "  color: #000000;\n",
       "}\n",
       "#T_5ca76_row4_col3 {\n",
       "  background-color: #3e8ec4;\n",
       "  color: #f1f1f1;\n",
       "}\n",
       "#T_5ca76_row4_col4 {\n",
       "  background-color: #5ca4d0;\n",
       "  color: #f1f1f1;\n",
       "}\n",
       "#T_5ca76_row4_col6 {\n",
       "  background-color: #d4e4f4;\n",
       "  color: #000000;\n",
       "}\n",
       "#T_5ca76_row4_col8 {\n",
       "  background-color: #3282be;\n",
       "  color: #f1f1f1;\n",
       "}\n",
       "#T_5ca76_row4_col9, #T_5ca76_row5_col0, #T_5ca76_row5_col11 {\n",
       "  background-color: #d1e2f3;\n",
       "  color: #000000;\n",
       "}\n",
       "#T_5ca76_row4_col11 {\n",
       "  background-color: #084387;\n",
       "  color: #f1f1f1;\n",
       "}\n",
       "#T_5ca76_row4_col12 {\n",
       "  background-color: #2b7bba;\n",
       "  color: #f1f1f1;\n",
       "}\n",
       "#T_5ca76_row4_col13 {\n",
       "  background-color: #08306b;\n",
       "  color: #f1f1f1;\n",
       "  background-color: #c6dbef;\n",
       "  background-color: #c6dbef;\n",
       "}\n",
       "#T_5ca76_row5_col1 {\n",
       "  background-color: #4695c8;\n",
       "  color: #f1f1f1;\n",
       "}\n",
       "#T_5ca76_row5_col2 {\n",
       "  background-color: #aacfe5;\n",
       "  color: #000000;\n",
       "}\n",
       "#T_5ca76_row5_col4 {\n",
       "  background-color: #68acd5;\n",
       "  color: #f1f1f1;\n",
       "}\n",
       "#T_5ca76_row5_col5 {\n",
       "  background-color: #f4f9fe;\n",
       "  color: #000000;\n",
       "}\n",
       "#T_5ca76_row5_col6 {\n",
       "  background-color: #3989c1;\n",
       "  color: #f1f1f1;\n",
       "}\n",
       "#T_5ca76_row5_col12 {\n",
       "  background-color: #b7d4ea;\n",
       "  color: #000000;\n",
       "}\n",
       "</style>\n",
       "<table id=\"T_5ca76\">\n",
       "  <thead>\n",
       "    <tr>\n",
       "      <th class=\"index_name level0\" >Item_Group</th>\n",
       "      <th id=\"T_5ca76_level0_col0\" class=\"col_heading level0 col0\" >ДЕТСКОЕ ПИТАНИЕ</th>\n",
       "      <th id=\"T_5ca76_level0_col1\" class=\"col_heading level0 col1\" >ЖЕНСКИЕ ШТУЧКИ</th>\n",
       "      <th id=\"T_5ca76_level0_col2\" class=\"col_heading level0 col2\" >ИГРУШКИ</th>\n",
       "      <th id=\"T_5ca76_level0_col3\" class=\"col_heading level0 col3\" >КАНЦТОВАРЫ, КНИГИ, ДИСКИ</th>\n",
       "      <th id=\"T_5ca76_level0_col4\" class=\"col_heading level0 col4\" >КОСМЕТИКА/ГИГИЕНА</th>\n",
       "      <th id=\"T_5ca76_level0_col5\" class=\"col_heading level0 col5\" >КРУПНОГАБАРИТНЫЙ ТОВАР</th>\n",
       "      <th id=\"T_5ca76_level0_col6\" class=\"col_heading level0 col6\" >ОБУВЬ</th>\n",
       "      <th id=\"T_5ca76_level0_col7\" class=\"col_heading level0 col7\" >ПОДГУЗНИКИ</th>\n",
       "      <th id=\"T_5ca76_level0_col8\" class=\"col_heading level0 col8\" >СОПУТСТВУЮЩИЕ ТОВАРЫ</th>\n",
       "      <th id=\"T_5ca76_level0_col9\" class=\"col_heading level0 col9\" >ТЕКСТИЛЬ, ТРИКОТАЖ</th>\n",
       "      <th id=\"T_5ca76_level0_col10\" class=\"col_heading level0 col10\" >ТЕХНИКА И ТОВАРЫ ДЛЯ ДОМА</th>\n",
       "      <th id=\"T_5ca76_level0_col11\" class=\"col_heading level0 col11\" >ТОВАРЫ ДЛЯ ЖИВОТНЫХ</th>\n",
       "      <th id=\"T_5ca76_level0_col12\" class=\"col_heading level0 col12\" >ТОВАРЫ ДЛЯ КОРМЛЕНИЯ</th>\n",
       "      <th id=\"T_5ca76_level0_col13\" class=\"col_heading level0 col13\" >Clients %</th>\n",
       "    </tr>\n",
       "    <tr>\n",
       "      <th class=\"index_name level0\" >cluster_km</th>\n",
       "      <th class=\"blank col0\" >&nbsp;</th>\n",
       "      <th class=\"blank col1\" >&nbsp;</th>\n",
       "      <th class=\"blank col2\" >&nbsp;</th>\n",
       "      <th class=\"blank col3\" >&nbsp;</th>\n",
       "      <th class=\"blank col4\" >&nbsp;</th>\n",
       "      <th class=\"blank col5\" >&nbsp;</th>\n",
       "      <th class=\"blank col6\" >&nbsp;</th>\n",
       "      <th class=\"blank col7\" >&nbsp;</th>\n",
       "      <th class=\"blank col8\" >&nbsp;</th>\n",
       "      <th class=\"blank col9\" >&nbsp;</th>\n",
       "      <th class=\"blank col10\" >&nbsp;</th>\n",
       "      <th class=\"blank col11\" >&nbsp;</th>\n",
       "      <th class=\"blank col12\" >&nbsp;</th>\n",
       "      <th class=\"blank col13\" >&nbsp;</th>\n",
       "    </tr>\n",
       "  </thead>\n",
       "  <tbody>\n",
       "    <tr>\n",
       "      <th id=\"T_5ca76_level0_row0\" class=\"row_heading level0 row0\" >0</th>\n",
       "      <td id=\"T_5ca76_row0_col0\" class=\"data row0 col0\" >1.39%</td>\n",
       "      <td id=\"T_5ca76_row0_col1\" class=\"data row0 col1\" >0.04%</td>\n",
       "      <td id=\"T_5ca76_row0_col2\" class=\"data row0 col2\" >13.88%</td>\n",
       "      <td id=\"T_5ca76_row0_col3\" class=\"data row0 col3\" >1.84%</td>\n",
       "      <td id=\"T_5ca76_row0_col4\" class=\"data row0 col4\" >1.86%</td>\n",
       "      <td id=\"T_5ca76_row0_col5\" class=\"data row0 col5\" >23.59%</td>\n",
       "      <td id=\"T_5ca76_row0_col6\" class=\"data row0 col6\" >18.93%</td>\n",
       "      <td id=\"T_5ca76_row0_col7\" class=\"data row0 col7\" >3.48%</td>\n",
       "      <td id=\"T_5ca76_row0_col8\" class=\"data row0 col8\" >0.11%</td>\n",
       "      <td id=\"T_5ca76_row0_col9\" class=\"data row0 col9\" >32.27%</td>\n",
       "      <td id=\"T_5ca76_row0_col10\" class=\"data row0 col10\" >0.01%</td>\n",
       "      <td id=\"T_5ca76_row0_col11\" class=\"data row0 col11\" >0.20%</td>\n",
       "      <td id=\"T_5ca76_row0_col12\" class=\"data row0 col12\" >2.41%</td>\n",
       "      <td id=\"T_5ca76_row0_col13\" class=\"data row0 col13\" >21.75%</td>\n",
       "    </tr>\n",
       "    <tr>\n",
       "      <th id=\"T_5ca76_level0_row1\" class=\"row_heading level0 row1\" >1</th>\n",
       "      <td id=\"T_5ca76_row1_col0\" class=\"data row1 col0\" >47.76%</td>\n",
       "      <td id=\"T_5ca76_row1_col1\" class=\"data row1 col1\" >0.22%</td>\n",
       "      <td id=\"T_5ca76_row1_col2\" class=\"data row1 col2\" >9.08%</td>\n",
       "      <td id=\"T_5ca76_row1_col3\" class=\"data row1 col3\" >4.27%</td>\n",
       "      <td id=\"T_5ca76_row1_col4\" class=\"data row1 col4\" >12.97%</td>\n",
       "      <td id=\"T_5ca76_row1_col5\" class=\"data row1 col5\" >1.40%</td>\n",
       "      <td id=\"T_5ca76_row1_col6\" class=\"data row1 col6\" >1.08%</td>\n",
       "      <td id=\"T_5ca76_row1_col7\" class=\"data row1 col7\" >6.42%</td>\n",
       "      <td id=\"T_5ca76_row1_col8\" class=\"data row1 col8\" >0.15%</td>\n",
       "      <td id=\"T_5ca76_row1_col9\" class=\"data row1 col9\" >10.19%</td>\n",
       "      <td id=\"T_5ca76_row1_col10\" class=\"data row1 col10\" >0.00%</td>\n",
       "      <td id=\"T_5ca76_row1_col11\" class=\"data row1 col11\" >1.28%</td>\n",
       "      <td id=\"T_5ca76_row1_col12\" class=\"data row1 col12\" >5.19%</td>\n",
       "      <td id=\"T_5ca76_row1_col13\" class=\"data row1 col13\" >2.04%</td>\n",
       "    </tr>\n",
       "    <tr>\n",
       "      <th id=\"T_5ca76_level0_row2\" class=\"row_heading level0 row2\" >2</th>\n",
       "      <td id=\"T_5ca76_row2_col0\" class=\"data row2 col0\" >14.53%</td>\n",
       "      <td id=\"T_5ca76_row2_col1\" class=\"data row2 col1\" >0.13%</td>\n",
       "      <td id=\"T_5ca76_row2_col2\" class=\"data row2 col2\" >16.33%</td>\n",
       "      <td id=\"T_5ca76_row2_col3\" class=\"data row2 col3\" >3.70%</td>\n",
       "      <td id=\"T_5ca76_row2_col4\" class=\"data row2 col4\" >10.75%</td>\n",
       "      <td id=\"T_5ca76_row2_col5\" class=\"data row2 col5\" >6.75%</td>\n",
       "      <td id=\"T_5ca76_row2_col6\" class=\"data row2 col6\" >5.25%</td>\n",
       "      <td id=\"T_5ca76_row2_col7\" class=\"data row2 col7\" >13.84%</td>\n",
       "      <td id=\"T_5ca76_row2_col8\" class=\"data row2 col8\" >0.18%</td>\n",
       "      <td id=\"T_5ca76_row2_col9\" class=\"data row2 col9\" >21.04%</td>\n",
       "      <td id=\"T_5ca76_row2_col10\" class=\"data row2 col10\" >0.01%</td>\n",
       "      <td id=\"T_5ca76_row2_col11\" class=\"data row2 col11\" >0.88%</td>\n",
       "      <td id=\"T_5ca76_row2_col12\" class=\"data row2 col12\" >6.61%</td>\n",
       "      <td id=\"T_5ca76_row2_col13\" class=\"data row2 col13\" >11.33%</td>\n",
       "    </tr>\n",
       "    <tr>\n",
       "      <th id=\"T_5ca76_level0_row3\" class=\"row_heading level0 row3\" >3</th>\n",
       "      <td id=\"T_5ca76_row3_col0\" class=\"data row3 col0\" >6.43%</td>\n",
       "      <td id=\"T_5ca76_row3_col1\" class=\"data row3 col1\" >0.12%</td>\n",
       "      <td id=\"T_5ca76_row3_col2\" class=\"data row3 col2\" >17.68%</td>\n",
       "      <td id=\"T_5ca76_row3_col3\" class=\"data row3 col3\" >2.57%</td>\n",
       "      <td id=\"T_5ca76_row3_col4\" class=\"data row3 col4\" >8.84%</td>\n",
       "      <td id=\"T_5ca76_row3_col5\" class=\"data row3 col5\" >25.26%</td>\n",
       "      <td id=\"T_5ca76_row3_col6\" class=\"data row3 col6\" >3.81%</td>\n",
       "      <td id=\"T_5ca76_row3_col7\" class=\"data row3 col7\" >7.49%</td>\n",
       "      <td id=\"T_5ca76_row3_col8\" class=\"data row3 col8\" >0.23%</td>\n",
       "      <td id=\"T_5ca76_row3_col9\" class=\"data row3 col9\" >19.89%</td>\n",
       "      <td id=\"T_5ca76_row3_col10\" class=\"data row3 col10\" >0.00%</td>\n",
       "      <td id=\"T_5ca76_row3_col11\" class=\"data row3 col11\" >0.54%</td>\n",
       "      <td id=\"T_5ca76_row3_col12\" class=\"data row3 col12\" >7.14%</td>\n",
       "      <td id=\"T_5ca76_row3_col13\" class=\"data row3 col13\" >10.27%</td>\n",
       "    </tr>\n",
       "    <tr>\n",
       "      <th id=\"T_5ca76_level0_row4\" class=\"row_heading level0 row4\" >4</th>\n",
       "      <td id=\"T_5ca76_row4_col0\" class=\"data row4 col0\" >9.17%</td>\n",
       "      <td id=\"T_5ca76_row4_col1\" class=\"data row4 col1\" >0.09%</td>\n",
       "      <td id=\"T_5ca76_row4_col2\" class=\"data row4 col2\" >27.80%</td>\n",
       "      <td id=\"T_5ca76_row4_col3\" class=\"data row4 col3\" >3.89%</td>\n",
       "      <td id=\"T_5ca76_row4_col4\" class=\"data row4 col4\" >7.91%</td>\n",
       "      <td id=\"T_5ca76_row4_col5\" class=\"data row4 col5\" >8.11%</td>\n",
       "      <td id=\"T_5ca76_row4_col6\" class=\"data row4 col6\" >4.27%</td>\n",
       "      <td id=\"T_5ca76_row4_col7\" class=\"data row4 col7\" >15.71%</td>\n",
       "      <td id=\"T_5ca76_row4_col8\" class=\"data row4 col8\" >0.22%</td>\n",
       "      <td id=\"T_5ca76_row4_col9\" class=\"data row4 col9\" >15.83%</td>\n",
       "      <td id=\"T_5ca76_row4_col10\" class=\"data row4 col10\" >0.01%</td>\n",
       "      <td id=\"T_5ca76_row4_col11\" class=\"data row4 col11\" >1.20%</td>\n",
       "      <td id=\"T_5ca76_row4_col12\" class=\"data row4 col12\" >5.78%</td>\n",
       "      <td id=\"T_5ca76_row4_col13\" class=\"data row4 col13\" >52.63%</td>\n",
       "    </tr>\n",
       "    <tr>\n",
       "      <th id=\"T_5ca76_level0_row5\" class=\"row_heading level0 row5\" >5</th>\n",
       "      <td id=\"T_5ca76_row5_col0\" class=\"data row5 col0\" >10.36%</td>\n",
       "      <td id=\"T_5ca76_row5_col1\" class=\"data row5 col1\" >0.15%</td>\n",
       "      <td id=\"T_5ca76_row5_col2\" class=\"data row5 col2\" >15.40%</td>\n",
       "      <td id=\"T_5ca76_row5_col3\" class=\"data row5 col3\" >5.05%</td>\n",
       "      <td id=\"T_5ca76_row5_col4\" class=\"data row5 col4\" >7.52%</td>\n",
       "      <td id=\"T_5ca76_row5_col5\" class=\"data row5 col5\" >1.86%</td>\n",
       "      <td id=\"T_5ca76_row5_col6\" class=\"data row5 col6\" >12.86%</td>\n",
       "      <td id=\"T_5ca76_row5_col7\" class=\"data row5 col7\" >3.13%</td>\n",
       "      <td id=\"T_5ca76_row5_col8\" class=\"data row5 col8\" >0.27%</td>\n",
       "      <td id=\"T_5ca76_row5_col9\" class=\"data row5 col9\" >39.17%</td>\n",
       "      <td id=\"T_5ca76_row5_col10\" class=\"data row5 col10\" >0.01%</td>\n",
       "      <td id=\"T_5ca76_row5_col11\" class=\"data row5 col11\" >0.41%</td>\n",
       "      <td id=\"T_5ca76_row5_col12\" class=\"data row5 col12\" >3.83%</td>\n",
       "      <td id=\"T_5ca76_row5_col13\" class=\"data row5 col13\" >1.98%</td>\n",
       "    </tr>\n",
       "  </tbody>\n",
       "</table>\n"
      ],
      "text/plain": [
       "<pandas.io.formats.style.Styler at 0x19351989a50>"
      ]
     },
     "metadata": {},
     "output_type": "display_data"
    }
   ],
   "source": [
    "rev_mix = (df_prof.groupby([\"cluster_km\", \"Item_Group\"])[\"Final_Order_Sum\"].sum().unstack(fill_value=0))\n",
    "\n",
    "rev_mix_pct = (rev_mix.div(rev_mix.sum(axis=1), axis=0) * 100).round(2)\n",
    "rev_mix_pct[\"Clients %\"] = cluster_kpi[\"Clients %\"]\n",
    "\n",
    "display(style_mix(rev_mix_pct))"
   ]
  },
  {
   "cell_type": "code",
   "execution_count": 29,
   "id": "79ff9ad4",
   "metadata": {},
   "outputs": [
    {
     "data": {
      "application/vnd.plotly.v1+json": {
       "config": {
        "plotlyServerURL": "https://plot.ly"
       },
       "data": [
        {
         "coloraxis": "coloraxis",
         "hovertemplate": "Item group: %{x}<br>Cluster: %{y}<br>% of revenue: %{z}<extra></extra>",
         "name": "0",
         "texttemplate": "%{z:.1f}",
         "type": "heatmap",
         "x": [
          "ДЕТСКОЕ ПИТАНИЕ",
          "ЖЕНСКИЕ ШТУЧКИ",
          "ИГРУШКИ",
          "КАНЦТОВАРЫ, КНИГИ, ДИСКИ",
          "КОСМЕТИКА/ГИГИЕНА",
          "КРУПНОГАБАРИТНЫЙ ТОВАР",
          "ОБУВЬ",
          "ПОДГУЗНИКИ",
          "СОПУТСТВУЮЩИЕ ТОВАРЫ",
          "ТЕКСТИЛЬ, ТРИКОТАЖ",
          "ТЕХНИКА И ТОВАРЫ ДЛЯ ДОМА",
          "ТОВАРЫ ДЛЯ ЖИВОТНЫХ",
          "ТОВАРЫ ДЛЯ КОРМЛЕНИЯ"
         ],
         "xaxis": "x",
         "y": [
          0,
          1,
          2,
          3,
          4,
          5
         ],
         "yaxis": "y",
         "z": [
          [
           1.39,
           0.04,
           13.88,
           1.84,
           1.86,
           23.59,
           18.93,
           3.48,
           0.11,
           32.27,
           0.01,
           0.2,
           2.41
          ],
          [
           47.76,
           0.22,
           9.08,
           4.27,
           12.97,
           1.4,
           1.08,
           6.42,
           0.15,
           10.19,
           0,
           1.28,
           5.19
          ],
          [
           14.53,
           0.13,
           16.33,
           3.7,
           10.75,
           6.75,
           5.25,
           13.84,
           0.18,
           21.04,
           0.01,
           0.88,
           6.61
          ],
          [
           6.43,
           0.12,
           17.68,
           2.57,
           8.84,
           25.26,
           3.81,
           7.49,
           0.23,
           19.89,
           0,
           0.54,
           7.14
          ],
          [
           9.17,
           0.09,
           27.8,
           3.89,
           7.91,
           8.11,
           4.27,
           15.71,
           0.22,
           15.83,
           0.01,
           1.2,
           5.78
          ],
          [
           10.36,
           0.15,
           15.4,
           5.05,
           7.52,
           1.86,
           12.86,
           3.13,
           0.27,
           39.17,
           0.01,
           0.41,
           3.83
          ]
         ]
        }
       ],
       "layout": {
        "coloraxis": {
         "colorbar": {
          "title": {
           "text": "% of revenue"
          }
         },
         "colorscale": [
          [
           0,
           "rgb(247,251,255)"
          ],
          [
           0.125,
           "rgb(222,235,247)"
          ],
          [
           0.25,
           "rgb(198,219,239)"
          ],
          [
           0.375,
           "rgb(158,202,225)"
          ],
          [
           0.5,
           "rgb(107,174,214)"
          ],
          [
           0.625,
           "rgb(66,146,198)"
          ],
          [
           0.75,
           "rgb(33,113,181)"
          ],
          [
           0.875,
           "rgb(8,81,156)"
          ],
          [
           1,
           "rgb(8,48,107)"
          ]
         ]
        },
        "margin": {
         "t": 60
        },
        "template": {
         "data": {
          "bar": [
           {
            "error_x": {
             "color": "#2a3f5f"
            },
            "error_y": {
             "color": "#2a3f5f"
            },
            "marker": {
             "line": {
              "color": "#E5ECF6",
              "width": 0.5
             },
             "pattern": {
              "fillmode": "overlay",
              "size": 10,
              "solidity": 0.2
             }
            },
            "type": "bar"
           }
          ],
          "barpolar": [
           {
            "marker": {
             "line": {
              "color": "#E5ECF6",
              "width": 0.5
             },
             "pattern": {
              "fillmode": "overlay",
              "size": 10,
              "solidity": 0.2
             }
            },
            "type": "barpolar"
           }
          ],
          "carpet": [
           {
            "aaxis": {
             "endlinecolor": "#2a3f5f",
             "gridcolor": "white",
             "linecolor": "white",
             "minorgridcolor": "white",
             "startlinecolor": "#2a3f5f"
            },
            "baxis": {
             "endlinecolor": "#2a3f5f",
             "gridcolor": "white",
             "linecolor": "white",
             "minorgridcolor": "white",
             "startlinecolor": "#2a3f5f"
            },
            "type": "carpet"
           }
          ],
          "choropleth": [
           {
            "colorbar": {
             "outlinewidth": 0,
             "ticks": ""
            },
            "type": "choropleth"
           }
          ],
          "contour": [
           {
            "colorbar": {
             "outlinewidth": 0,
             "ticks": ""
            },
            "colorscale": [
             [
              0,
              "#0d0887"
             ],
             [
              0.1111111111111111,
              "#46039f"
             ],
             [
              0.2222222222222222,
              "#7201a8"
             ],
             [
              0.3333333333333333,
              "#9c179e"
             ],
             [
              0.4444444444444444,
              "#bd3786"
             ],
             [
              0.5555555555555556,
              "#d8576b"
             ],
             [
              0.6666666666666666,
              "#ed7953"
             ],
             [
              0.7777777777777778,
              "#fb9f3a"
             ],
             [
              0.8888888888888888,
              "#fdca26"
             ],
             [
              1,
              "#f0f921"
             ]
            ],
            "type": "contour"
           }
          ],
          "contourcarpet": [
           {
            "colorbar": {
             "outlinewidth": 0,
             "ticks": ""
            },
            "type": "contourcarpet"
           }
          ],
          "heatmap": [
           {
            "colorbar": {
             "outlinewidth": 0,
             "ticks": ""
            },
            "colorscale": [
             [
              0,
              "#0d0887"
             ],
             [
              0.1111111111111111,
              "#46039f"
             ],
             [
              0.2222222222222222,
              "#7201a8"
             ],
             [
              0.3333333333333333,
              "#9c179e"
             ],
             [
              0.4444444444444444,
              "#bd3786"
             ],
             [
              0.5555555555555556,
              "#d8576b"
             ],
             [
              0.6666666666666666,
              "#ed7953"
             ],
             [
              0.7777777777777778,
              "#fb9f3a"
             ],
             [
              0.8888888888888888,
              "#fdca26"
             ],
             [
              1,
              "#f0f921"
             ]
            ],
            "type": "heatmap"
           }
          ],
          "heatmapgl": [
           {
            "colorbar": {
             "outlinewidth": 0,
             "ticks": ""
            },
            "colorscale": [
             [
              0,
              "#0d0887"
             ],
             [
              0.1111111111111111,
              "#46039f"
             ],
             [
              0.2222222222222222,
              "#7201a8"
             ],
             [
              0.3333333333333333,
              "#9c179e"
             ],
             [
              0.4444444444444444,
              "#bd3786"
             ],
             [
              0.5555555555555556,
              "#d8576b"
             ],
             [
              0.6666666666666666,
              "#ed7953"
             ],
             [
              0.7777777777777778,
              "#fb9f3a"
             ],
             [
              0.8888888888888888,
              "#fdca26"
             ],
             [
              1,
              "#f0f921"
             ]
            ],
            "type": "heatmapgl"
           }
          ],
          "histogram": [
           {
            "marker": {
             "pattern": {
              "fillmode": "overlay",
              "size": 10,
              "solidity": 0.2
             }
            },
            "type": "histogram"
           }
          ],
          "histogram2d": [
           {
            "colorbar": {
             "outlinewidth": 0,
             "ticks": ""
            },
            "colorscale": [
             [
              0,
              "#0d0887"
             ],
             [
              0.1111111111111111,
              "#46039f"
             ],
             [
              0.2222222222222222,
              "#7201a8"
             ],
             [
              0.3333333333333333,
              "#9c179e"
             ],
             [
              0.4444444444444444,
              "#bd3786"
             ],
             [
              0.5555555555555556,
              "#d8576b"
             ],
             [
              0.6666666666666666,
              "#ed7953"
             ],
             [
              0.7777777777777778,
              "#fb9f3a"
             ],
             [
              0.8888888888888888,
              "#fdca26"
             ],
             [
              1,
              "#f0f921"
             ]
            ],
            "type": "histogram2d"
           }
          ],
          "histogram2dcontour": [
           {
            "colorbar": {
             "outlinewidth": 0,
             "ticks": ""
            },
            "colorscale": [
             [
              0,
              "#0d0887"
             ],
             [
              0.1111111111111111,
              "#46039f"
             ],
             [
              0.2222222222222222,
              "#7201a8"
             ],
             [
              0.3333333333333333,
              "#9c179e"
             ],
             [
              0.4444444444444444,
              "#bd3786"
             ],
             [
              0.5555555555555556,
              "#d8576b"
             ],
             [
              0.6666666666666666,
              "#ed7953"
             ],
             [
              0.7777777777777778,
              "#fb9f3a"
             ],
             [
              0.8888888888888888,
              "#fdca26"
             ],
             [
              1,
              "#f0f921"
             ]
            ],
            "type": "histogram2dcontour"
           }
          ],
          "mesh3d": [
           {
            "colorbar": {
             "outlinewidth": 0,
             "ticks": ""
            },
            "type": "mesh3d"
           }
          ],
          "parcoords": [
           {
            "line": {
             "colorbar": {
              "outlinewidth": 0,
              "ticks": ""
             }
            },
            "type": "parcoords"
           }
          ],
          "pie": [
           {
            "automargin": true,
            "type": "pie"
           }
          ],
          "scatter": [
           {
            "fillpattern": {
             "fillmode": "overlay",
             "size": 10,
             "solidity": 0.2
            },
            "type": "scatter"
           }
          ],
          "scatter3d": [
           {
            "line": {
             "colorbar": {
              "outlinewidth": 0,
              "ticks": ""
             }
            },
            "marker": {
             "colorbar": {
              "outlinewidth": 0,
              "ticks": ""
             }
            },
            "type": "scatter3d"
           }
          ],
          "scattercarpet": [
           {
            "marker": {
             "colorbar": {
              "outlinewidth": 0,
              "ticks": ""
             }
            },
            "type": "scattercarpet"
           }
          ],
          "scattergeo": [
           {
            "marker": {
             "colorbar": {
              "outlinewidth": 0,
              "ticks": ""
             }
            },
            "type": "scattergeo"
           }
          ],
          "scattergl": [
           {
            "marker": {
             "colorbar": {
              "outlinewidth": 0,
              "ticks": ""
             }
            },
            "type": "scattergl"
           }
          ],
          "scattermapbox": [
           {
            "marker": {
             "colorbar": {
              "outlinewidth": 0,
              "ticks": ""
             }
            },
            "type": "scattermapbox"
           }
          ],
          "scatterpolar": [
           {
            "marker": {
             "colorbar": {
              "outlinewidth": 0,
              "ticks": ""
             }
            },
            "type": "scatterpolar"
           }
          ],
          "scatterpolargl": [
           {
            "marker": {
             "colorbar": {
              "outlinewidth": 0,
              "ticks": ""
             }
            },
            "type": "scatterpolargl"
           }
          ],
          "scatterternary": [
           {
            "marker": {
             "colorbar": {
              "outlinewidth": 0,
              "ticks": ""
             }
            },
            "type": "scatterternary"
           }
          ],
          "surface": [
           {
            "colorbar": {
             "outlinewidth": 0,
             "ticks": ""
            },
            "colorscale": [
             [
              0,
              "#0d0887"
             ],
             [
              0.1111111111111111,
              "#46039f"
             ],
             [
              0.2222222222222222,
              "#7201a8"
             ],
             [
              0.3333333333333333,
              "#9c179e"
             ],
             [
              0.4444444444444444,
              "#bd3786"
             ],
             [
              0.5555555555555556,
              "#d8576b"
             ],
             [
              0.6666666666666666,
              "#ed7953"
             ],
             [
              0.7777777777777778,
              "#fb9f3a"
             ],
             [
              0.8888888888888888,
              "#fdca26"
             ],
             [
              1,
              "#f0f921"
             ]
            ],
            "type": "surface"
           }
          ],
          "table": [
           {
            "cells": {
             "fill": {
              "color": "#EBF0F8"
             },
             "line": {
              "color": "white"
             }
            },
            "header": {
             "fill": {
              "color": "#C8D4E3"
             },
             "line": {
              "color": "white"
             }
            },
            "type": "table"
           }
          ]
         },
         "layout": {
          "annotationdefaults": {
           "arrowcolor": "#2a3f5f",
           "arrowhead": 0,
           "arrowwidth": 1
          },
          "autotypenumbers": "strict",
          "coloraxis": {
           "colorbar": {
            "outlinewidth": 0,
            "ticks": ""
           }
          },
          "colorscale": {
           "diverging": [
            [
             0,
             "#8e0152"
            ],
            [
             0.1,
             "#c51b7d"
            ],
            [
             0.2,
             "#de77ae"
            ],
            [
             0.3,
             "#f1b6da"
            ],
            [
             0.4,
             "#fde0ef"
            ],
            [
             0.5,
             "#f7f7f7"
            ],
            [
             0.6,
             "#e6f5d0"
            ],
            [
             0.7,
             "#b8e186"
            ],
            [
             0.8,
             "#7fbc41"
            ],
            [
             0.9,
             "#4d9221"
            ],
            [
             1,
             "#276419"
            ]
           ],
           "sequential": [
            [
             0,
             "#0d0887"
            ],
            [
             0.1111111111111111,
             "#46039f"
            ],
            [
             0.2222222222222222,
             "#7201a8"
            ],
            [
             0.3333333333333333,
             "#9c179e"
            ],
            [
             0.4444444444444444,
             "#bd3786"
            ],
            [
             0.5555555555555556,
             "#d8576b"
            ],
            [
             0.6666666666666666,
             "#ed7953"
            ],
            [
             0.7777777777777778,
             "#fb9f3a"
            ],
            [
             0.8888888888888888,
             "#fdca26"
            ],
            [
             1,
             "#f0f921"
            ]
           ],
           "sequentialminus": [
            [
             0,
             "#0d0887"
            ],
            [
             0.1111111111111111,
             "#46039f"
            ],
            [
             0.2222222222222222,
             "#7201a8"
            ],
            [
             0.3333333333333333,
             "#9c179e"
            ],
            [
             0.4444444444444444,
             "#bd3786"
            ],
            [
             0.5555555555555556,
             "#d8576b"
            ],
            [
             0.6666666666666666,
             "#ed7953"
            ],
            [
             0.7777777777777778,
             "#fb9f3a"
            ],
            [
             0.8888888888888888,
             "#fdca26"
            ],
            [
             1,
             "#f0f921"
            ]
           ]
          },
          "colorway": [
           "#636efa",
           "#EF553B",
           "#00cc96",
           "#ab63fa",
           "#FFA15A",
           "#19d3f3",
           "#FF6692",
           "#B6E880",
           "#FF97FF",
           "#FECB52"
          ],
          "font": {
           "color": "#2a3f5f"
          },
          "geo": {
           "bgcolor": "white",
           "lakecolor": "white",
           "landcolor": "#E5ECF6",
           "showlakes": true,
           "showland": true,
           "subunitcolor": "white"
          },
          "hoverlabel": {
           "align": "left"
          },
          "hovermode": "closest",
          "mapbox": {
           "style": "light"
          },
          "paper_bgcolor": "white",
          "plot_bgcolor": "#E5ECF6",
          "polar": {
           "angularaxis": {
            "gridcolor": "white",
            "linecolor": "white",
            "ticks": ""
           },
           "bgcolor": "#E5ECF6",
           "radialaxis": {
            "gridcolor": "white",
            "linecolor": "white",
            "ticks": ""
           }
          },
          "scene": {
           "xaxis": {
            "backgroundcolor": "#E5ECF6",
            "gridcolor": "white",
            "gridwidth": 2,
            "linecolor": "white",
            "showbackground": true,
            "ticks": "",
            "zerolinecolor": "white"
           },
           "yaxis": {
            "backgroundcolor": "#E5ECF6",
            "gridcolor": "white",
            "gridwidth": 2,
            "linecolor": "white",
            "showbackground": true,
            "ticks": "",
            "zerolinecolor": "white"
           },
           "zaxis": {
            "backgroundcolor": "#E5ECF6",
            "gridcolor": "white",
            "gridwidth": 2,
            "linecolor": "white",
            "showbackground": true,
            "ticks": "",
            "zerolinecolor": "white"
           }
          },
          "shapedefaults": {
           "line": {
            "color": "#2a3f5f"
           }
          },
          "ternary": {
           "aaxis": {
            "gridcolor": "white",
            "linecolor": "white",
            "ticks": ""
           },
           "baxis": {
            "gridcolor": "white",
            "linecolor": "white",
            "ticks": ""
           },
           "bgcolor": "#E5ECF6",
           "caxis": {
            "gridcolor": "white",
            "linecolor": "white",
            "ticks": ""
           }
          },
          "title": {
           "x": 0.05
          },
          "xaxis": {
           "automargin": true,
           "gridcolor": "white",
           "linecolor": "white",
           "ticks": "",
           "title": {
            "standoff": 15
           },
           "zerolinecolor": "white",
           "zerolinewidth": 2
          },
          "yaxis": {
           "automargin": true,
           "gridcolor": "white",
           "linecolor": "white",
           "ticks": "",
           "title": {
            "standoff": 15
           },
           "zerolinecolor": "white",
           "zerolinewidth": 2
          }
         }
        },
        "title": {
         "text": "Item-group revenue mix by K-means cluster"
        },
        "xaxis": {
         "anchor": "y",
         "domain": [
          0,
          1
         ],
         "title": {
          "text": "Item group"
         }
        },
        "yaxis": {
         "anchor": "x",
         "autorange": "reversed",
         "domain": [
          0,
          1
         ],
         "title": {
          "text": "Cluster"
         }
        }
       }
      }
     },
     "metadata": {},
     "output_type": "display_data"
    }
   ],
   "source": [
    "import plotly.express as px\n",
    "fig = px.imshow(\n",
    "        rev_mix_pct.drop(columns=\"Clients %\"),\n",
    "        labels=dict(x=\"Item group\", y=\"Cluster\", color=\"% of revenue\"),\n",
    "        aspect=\"auto\",\n",
    "        color_continuous_scale=\"Blues\",\n",
    "        text_auto='.1f')\n",
    "        \n",
    "\n",
    "fig.update_layout(title=\"Item-group revenue mix by K-means cluster\")\n",
    "fig.show()"
   ]
  },
  {
   "cell_type": "code",
   "execution_count": 30,
   "id": "061b7d9b",
   "metadata": {},
   "outputs": [],
   "source": [
    "from mlxtend.frequent_patterns import apriori, association_rules, fpgrowth"
   ]
  },
  {
   "cell_type": "code",
   "execution_count": 34,
   "id": "0549a86f",
   "metadata": {},
   "outputs": [],
   "source": [
    "def build_basket(df_lines, id_col=\"Client_ID\", item_col=\"Item_Group1\"):\n",
    "    basket = (df_lines.groupby([id_col, item_col])[\"Order_ID\"].size().unstack(fill_value=0))\n",
    "    return (basket > 0)\n",
    "\n",
    "\n",
    "def mine_rules(basket, algo=\"apriori\", min_support=0.03, min_conf=0.2):\n",
    "    if algo == \"apriori\":\n",
    "        freq = apriori(basket, min_support=min_support, use_colnames=True)\n",
    "    elif algo == \"fpgrowth\":\n",
    "        freq = fpgrowth(basket, min_support=min_support, use_colnames=True)\n",
    "    else:\n",
    "        raise ValueError(\"algo must be 'apriori' or 'fpgrowth'\")\n",
    "\n",
    "    rules = association_rules(freq, metric=\"confidence\", min_threshold=min_conf)\n",
    "    return rules.sort_values(\"lift\", ascending=False).reset_index(drop=True)"
   ]
  },
  {
   "cell_type": "code",
   "execution_count": 36,
   "id": "a5980016",
   "metadata": {},
   "outputs": [
    {
     "name": "stdout",
     "output_type": "stream",
     "text": [
      "Cluster 0: no rules found – skipped\n",
      "Cluster 4: no rules found – skipped\n"
     ]
    },
    {
     "data": {
      "text/html": [
       "<div>\n",
       "<style scoped>\n",
       "    .dataframe tbody tr th:only-of-type {\n",
       "        vertical-align: middle;\n",
       "    }\n",
       "\n",
       "    .dataframe tbody tr th {\n",
       "        vertical-align: top;\n",
       "    }\n",
       "\n",
       "    .dataframe thead th {\n",
       "        text-align: right;\n",
       "    }\n",
       "</style>\n",
       "<table border=\"1\" class=\"dataframe\">\n",
       "  <thead>\n",
       "    <tr style=\"text-align: right;\">\n",
       "      <th></th>\n",
       "      <th>Cluster 1</th>\n",
       "    </tr>\n",
       "  </thead>\n",
       "  <tbody>\n",
       "  </tbody>\n",
       "</table>\n",
       "</div>"
      ],
      "text/plain": [
       "Empty DataFrame\n",
       "Columns: [Cluster 1]\n",
       "Index: []"
      ]
     },
     "metadata": {},
     "output_type": "display_data"
    },
    {
     "data": {
      "text/html": [
       "<div>\n",
       "<style scoped>\n",
       "    .dataframe tbody tr th:only-of-type {\n",
       "        vertical-align: middle;\n",
       "    }\n",
       "\n",
       "    .dataframe tbody tr th {\n",
       "        vertical-align: top;\n",
       "    }\n",
       "\n",
       "    .dataframe thead th {\n",
       "        text-align: right;\n",
       "    }\n",
       "</style>\n",
       "<table border=\"1\" class=\"dataframe\">\n",
       "  <thead>\n",
       "    <tr style=\"text-align: right;\">\n",
       "      <th></th>\n",
       "      <th>antecedents</th>\n",
       "      <th>consequents</th>\n",
       "      <th>support</th>\n",
       "      <th>confidence</th>\n",
       "      <th>lift</th>\n",
       "    </tr>\n",
       "  </thead>\n",
       "  <tbody>\n",
       "    <tr>\n",
       "      <th>0</th>\n",
       "      <td>(СРЕДСТВА ГИГИЕНЫ, БУТЫЛОЧКИ)</td>\n",
       "      <td>(АКСЕССУАРЫ, СОСКИ/ПУСТЫШКИ)</td>\n",
       "      <td>0.031672</td>\n",
       "      <td>0.468966</td>\n",
       "      <td>5.327349</td>\n",
       "    </tr>\n",
       "    <tr>\n",
       "      <th>1</th>\n",
       "      <td>(АКСЕССУАРЫ, СОСКИ/ПУСТЫШКИ)</td>\n",
       "      <td>(СРЕДСТВА ГИГИЕНЫ, БУТЫЛОЧКИ)</td>\n",
       "      <td>0.031672</td>\n",
       "      <td>0.359788</td>\n",
       "      <td>5.327349</td>\n",
       "    </tr>\n",
       "    <tr>\n",
       "      <th>2</th>\n",
       "      <td>(ПОЛИГРАФИЧЕСКАЯ ПРОДУКЦИЯ, КАНЦТОВАРЫ)</td>\n",
       "      <td>(ТВОРЧЕСТВО)</td>\n",
       "      <td>0.032604</td>\n",
       "      <td>0.469799</td>\n",
       "      <td>5.226206</td>\n",
       "    </tr>\n",
       "  </tbody>\n",
       "</table>\n",
       "</div>"
      ],
      "text/plain": [
       "                               antecedents                    consequents  \\\n",
       "0            (СРЕДСТВА ГИГИЕНЫ, БУТЫЛОЧКИ)   (АКСЕССУАРЫ, СОСКИ/ПУСТЫШКИ)   \n",
       "1             (АКСЕССУАРЫ, СОСКИ/ПУСТЫШКИ)  (СРЕДСТВА ГИГИЕНЫ, БУТЫЛОЧКИ)   \n",
       "2  (ПОЛИГРАФИЧЕСКАЯ ПРОДУКЦИЯ, КАНЦТОВАРЫ)                   (ТВОРЧЕСТВО)   \n",
       "\n",
       "    support  confidence      lift  \n",
       "0  0.031672    0.468966  5.327349  \n",
       "1  0.031672    0.359788  5.327349  \n",
       "2  0.032604    0.469799  5.226206  "
      ]
     },
     "metadata": {},
     "output_type": "display_data"
    },
    {
     "name": "stdout",
     "output_type": "stream",
     "text": [
      " • Made purchases in “СРЕДСТВА ГИГИЕНЫ” — **904** clients\n",
      " • Of them, **348** also bought “АКСЕССУАРЫ”\n",
      " • Average margin in “АКСЕССУАРЫ” is **53.9 ₽**\n",
      " • **556** clients can be targeted with “АКСЕССУАРЫ” offers\n",
      "-----------------------------------------------------------------\n"
     ]
    },
    {
     "data": {
      "text/html": [
       "<div>\n",
       "<style scoped>\n",
       "    .dataframe tbody tr th:only-of-type {\n",
       "        vertical-align: middle;\n",
       "    }\n",
       "\n",
       "    .dataframe tbody tr th {\n",
       "        vertical-align: top;\n",
       "    }\n",
       "\n",
       "    .dataframe thead th {\n",
       "        text-align: right;\n",
       "    }\n",
       "</style>\n",
       "<table border=\"1\" class=\"dataframe\">\n",
       "  <thead>\n",
       "    <tr style=\"text-align: right;\">\n",
       "      <th></th>\n",
       "      <th>Cluster 2</th>\n",
       "    </tr>\n",
       "  </thead>\n",
       "  <tbody>\n",
       "  </tbody>\n",
       "</table>\n",
       "</div>"
      ],
      "text/plain": [
       "Empty DataFrame\n",
       "Columns: [Cluster 2]\n",
       "Index: []"
      ]
     },
     "metadata": {},
     "output_type": "display_data"
    },
    {
     "data": {
      "text/html": [
       "<div>\n",
       "<style scoped>\n",
       "    .dataframe tbody tr th:only-of-type {\n",
       "        vertical-align: middle;\n",
       "    }\n",
       "\n",
       "    .dataframe tbody tr th {\n",
       "        vertical-align: top;\n",
       "    }\n",
       "\n",
       "    .dataframe thead th {\n",
       "        text-align: right;\n",
       "    }\n",
       "</style>\n",
       "<table border=\"1\" class=\"dataframe\">\n",
       "  <thead>\n",
       "    <tr style=\"text-align: right;\">\n",
       "      <th></th>\n",
       "      <th>antecedents</th>\n",
       "      <th>consequents</th>\n",
       "      <th>support</th>\n",
       "      <th>confidence</th>\n",
       "      <th>lift</th>\n",
       "    </tr>\n",
       "  </thead>\n",
       "  <tbody>\n",
       "    <tr>\n",
       "      <th>0</th>\n",
       "      <td>(БУТЫЛОЧКИ)</td>\n",
       "      <td>(СОСКИ/ПУСТЫШКИ)</td>\n",
       "      <td>0.030728</td>\n",
       "      <td>0.446341</td>\n",
       "      <td>4.806847</td>\n",
       "    </tr>\n",
       "    <tr>\n",
       "      <th>1</th>\n",
       "      <td>(СОСКИ/ПУСТЫШКИ)</td>\n",
       "      <td>(БУТЫЛОЧКИ)</td>\n",
       "      <td>0.030728</td>\n",
       "      <td>0.330922</td>\n",
       "      <td>4.806847</td>\n",
       "    </tr>\n",
       "    <tr>\n",
       "      <th>2</th>\n",
       "      <td>(КАШИ)</td>\n",
       "      <td>(ПЮРЕ)</td>\n",
       "      <td>0.059189</td>\n",
       "      <td>0.470942</td>\n",
       "      <td>3.668665</td>\n",
       "    </tr>\n",
       "    <tr>\n",
       "      <th>3</th>\n",
       "      <td>(ПЮРЕ)</td>\n",
       "      <td>(КАШИ)</td>\n",
       "      <td>0.059189</td>\n",
       "      <td>0.461086</td>\n",
       "      <td>3.668665</td>\n",
       "    </tr>\n",
       "  </tbody>\n",
       "</table>\n",
       "</div>"
      ],
      "text/plain": [
       "        antecedents       consequents   support  confidence      lift\n",
       "0       (БУТЫЛОЧКИ)  (СОСКИ/ПУСТЫШКИ)  0.030728    0.446341  4.806847\n",
       "1  (СОСКИ/ПУСТЫШКИ)       (БУТЫЛОЧКИ)  0.030728    0.330922  4.806847\n",
       "2            (КАШИ)            (ПЮРЕ)  0.059189    0.470942  3.668665\n",
       "3            (ПЮРЕ)            (КАШИ)  0.059189    0.461086  3.668665"
      ]
     },
     "metadata": {},
     "output_type": "display_data"
    },
    {
     "name": "stdout",
     "output_type": "stream",
     "text": [
      " • Made purchases in “БУТЫЛОЧКИ” — **820** clients\n",
      " • Of them, **366** also bought “СОСКИ/ПУСТЫШКИ”\n",
      " • Average margin in “СОСКИ/ПУСТЫШКИ” is **43.5 ₽**\n",
      " • **454** clients can be targeted with “СОСКИ/ПУСТЫШКИ” offers\n",
      "-----------------------------------------------------------------\n"
     ]
    },
    {
     "data": {
      "text/html": [
       "<div>\n",
       "<style scoped>\n",
       "    .dataframe tbody tr th:only-of-type {\n",
       "        vertical-align: middle;\n",
       "    }\n",
       "\n",
       "    .dataframe tbody tr th {\n",
       "        vertical-align: top;\n",
       "    }\n",
       "\n",
       "    .dataframe thead th {\n",
       "        text-align: right;\n",
       "    }\n",
       "</style>\n",
       "<table border=\"1\" class=\"dataframe\">\n",
       "  <thead>\n",
       "    <tr style=\"text-align: right;\">\n",
       "      <th></th>\n",
       "      <th>Cluster 3</th>\n",
       "    </tr>\n",
       "  </thead>\n",
       "  <tbody>\n",
       "  </tbody>\n",
       "</table>\n",
       "</div>"
      ],
      "text/plain": [
       "Empty DataFrame\n",
       "Columns: [Cluster 3]\n",
       "Index: []"
      ]
     },
     "metadata": {},
     "output_type": "display_data"
    },
    {
     "data": {
      "text/html": [
       "<div>\n",
       "<style scoped>\n",
       "    .dataframe tbody tr th:only-of-type {\n",
       "        vertical-align: middle;\n",
       "    }\n",
       "\n",
       "    .dataframe tbody tr th {\n",
       "        vertical-align: top;\n",
       "    }\n",
       "\n",
       "    .dataframe thead th {\n",
       "        text-align: right;\n",
       "    }\n",
       "</style>\n",
       "<table border=\"1\" class=\"dataframe\">\n",
       "  <thead>\n",
       "    <tr style=\"text-align: right;\">\n",
       "      <th></th>\n",
       "      <th>antecedents</th>\n",
       "      <th>consequents</th>\n",
       "      <th>support</th>\n",
       "      <th>confidence</th>\n",
       "      <th>lift</th>\n",
       "    </tr>\n",
       "  </thead>\n",
       "  <tbody>\n",
       "    <tr>\n",
       "      <th>0</th>\n",
       "      <td>(СРЕДСТВА ГИГИЕНЫ)</td>\n",
       "      <td>(ПОДГУЗНИКИ)</td>\n",
       "      <td>0.036045</td>\n",
       "      <td>0.771825</td>\n",
       "      <td>5.605343</td>\n",
       "    </tr>\n",
       "    <tr>\n",
       "      <th>1</th>\n",
       "      <td>(ПОДГУЗНИКИ)</td>\n",
       "      <td>(СРЕДСТВА ГИГИЕНЫ)</td>\n",
       "      <td>0.036045</td>\n",
       "      <td>0.261777</td>\n",
       "      <td>5.605343</td>\n",
       "    </tr>\n",
       "  </tbody>\n",
       "</table>\n",
       "</div>"
      ],
      "text/plain": [
       "          antecedents         consequents   support  confidence      lift\n",
       "0  (СРЕДСТВА ГИГИЕНЫ)        (ПОДГУЗНИКИ)  0.036045    0.771825  5.605343\n",
       "1        (ПОДГУЗНИКИ)  (СРЕДСТВА ГИГИЕНЫ)  0.036045    0.261777  5.605343"
      ]
     },
     "metadata": {},
     "output_type": "display_data"
    },
    {
     "name": "stdout",
     "output_type": "stream",
     "text": [
      " • Made purchases in “СРЕДСТВА ГИГИЕНЫ” — **504** clients\n",
      " • Of them, **389** also bought “ПОДГУЗНИКИ”\n",
      " • Average margin in “ПОДГУЗНИКИ” is **53.0 ₽**\n",
      " • **115** clients can be targeted with “ПОДГУЗНИКИ” offers\n",
      "-----------------------------------------------------------------\n"
     ]
    },
    {
     "data": {
      "text/html": [
       "<div>\n",
       "<style scoped>\n",
       "    .dataframe tbody tr th:only-of-type {\n",
       "        vertical-align: middle;\n",
       "    }\n",
       "\n",
       "    .dataframe tbody tr th {\n",
       "        vertical-align: top;\n",
       "    }\n",
       "\n",
       "    .dataframe thead th {\n",
       "        text-align: right;\n",
       "    }\n",
       "</style>\n",
       "<table border=\"1\" class=\"dataframe\">\n",
       "  <thead>\n",
       "    <tr style=\"text-align: right;\">\n",
       "      <th></th>\n",
       "      <th>Cluster 5</th>\n",
       "    </tr>\n",
       "  </thead>\n",
       "  <tbody>\n",
       "  </tbody>\n",
       "</table>\n",
       "</div>"
      ],
      "text/plain": [
       "Empty DataFrame\n",
       "Columns: [Cluster 5]\n",
       "Index: []"
      ]
     },
     "metadata": {},
     "output_type": "display_data"
    },
    {
     "data": {
      "text/html": [
       "<div>\n",
       "<style scoped>\n",
       "    .dataframe tbody tr th:only-of-type {\n",
       "        vertical-align: middle;\n",
       "    }\n",
       "\n",
       "    .dataframe tbody tr th {\n",
       "        vertical-align: top;\n",
       "    }\n",
       "\n",
       "    .dataframe thead th {\n",
       "        text-align: right;\n",
       "    }\n",
       "</style>\n",
       "<table border=\"1\" class=\"dataframe\">\n",
       "  <thead>\n",
       "    <tr style=\"text-align: right;\">\n",
       "      <th></th>\n",
       "      <th>antecedents</th>\n",
       "      <th>consequents</th>\n",
       "      <th>support</th>\n",
       "      <th>confidence</th>\n",
       "      <th>lift</th>\n",
       "    </tr>\n",
       "  </thead>\n",
       "  <tbody>\n",
       "    <tr>\n",
       "      <th>0</th>\n",
       "      <td>(СРЕДСТВА ГИГИЕНЫ, ПРЕДМЕТЫ ПО УХОДУ ЗА НОВОРО...</td>\n",
       "      <td>(АКСЕССУАРЫ, ДЕТСКАЯ КОСМЕТИКА)</td>\n",
       "      <td>0.034599</td>\n",
       "      <td>0.517986</td>\n",
       "      <td>5.955404</td>\n",
       "    </tr>\n",
       "    <tr>\n",
       "      <th>1</th>\n",
       "      <td>(АКСЕССУАРЫ, ДЕТСКАЯ КОСМЕТИКА)</td>\n",
       "      <td>(СРЕДСТВА ГИГИЕНЫ, ПРЕДМЕТЫ ПО УХОДУ ЗА НОВОРО...</td>\n",
       "      <td>0.034599</td>\n",
       "      <td>0.397790</td>\n",
       "      <td>5.955404</td>\n",
       "    </tr>\n",
       "    <tr>\n",
       "      <th>2</th>\n",
       "      <td>(СРЕДСТВА ГИГИЕНЫ, ТОВАРЫ ДЛЯ МАМ)</td>\n",
       "      <td>(ПЕЛЕНКИ ОДНОРАЗОВЫЕ)</td>\n",
       "      <td>0.031235</td>\n",
       "      <td>0.511811</td>\n",
       "      <td>5.917104</td>\n",
       "    </tr>\n",
       "  </tbody>\n",
       "</table>\n",
       "</div>"
      ],
      "text/plain": [
       "                                         antecedents  \\\n",
       "0  (СРЕДСТВА ГИГИЕНЫ, ПРЕДМЕТЫ ПО УХОДУ ЗА НОВОРО...   \n",
       "1                    (АКСЕССУАРЫ, ДЕТСКАЯ КОСМЕТИКА)   \n",
       "2                 (СРЕДСТВА ГИГИЕНЫ, ТОВАРЫ ДЛЯ МАМ)   \n",
       "\n",
       "                                         consequents   support  confidence  \\\n",
       "0                    (АКСЕССУАРЫ, ДЕТСКАЯ КОСМЕТИКА)  0.034599    0.517986   \n",
       "1  (СРЕДСТВА ГИГИЕНЫ, ПРЕДМЕТЫ ПО УХОДУ ЗА НОВОРО...  0.034599    0.397790   \n",
       "2                              (ПЕЛЕНКИ ОДНОРАЗОВЫЕ)  0.031235    0.511811   \n",
       "\n",
       "       lift  \n",
       "0  5.955404  \n",
       "1  5.955404  \n",
       "2  5.917104  "
      ]
     },
     "metadata": {},
     "output_type": "display_data"
    },
    {
     "name": "stdout",
     "output_type": "stream",
     "text": [
      " • Made purchases in “СРЕДСТВА ГИГИЕНЫ” — **423** clients\n",
      " • Of them, **175** also bought “АКСЕССУАРЫ”\n",
      " • Average margin in “АКСЕССУАРЫ” is **46.1 ₽**\n",
      " • **248** clients can be targeted with “АКСЕССУАРЫ” offers\n",
      "-----------------------------------------------------------------\n"
     ]
    }
   ],
   "source": [
    "slide_data = {}\n",
    "\n",
    "for cl in sorted(features[\"cluster_km\"].unique()):\n",
    "    df_cl = df_prof[df_prof[\"cluster_km\"] == cl]\n",
    "    basket_cl = build_basket(df_cl, item_col=\"Item_Group1\")\n",
    "\n",
    "    rules_ap = mine_rules(basket_cl, algo=\"apriori\")\n",
    "    rules_fp = mine_rules(basket_cl, algo=\"fpgrowth\")\n",
    "\n",
    "    top_rules = (\n",
    "        pd.concat([rules_ap.head(3), rules_fp.head(3)])\n",
    "          .drop_duplicates(subset=[\"antecedents\", \"consequents\"])\n",
    "          .reset_index(drop=True)\n",
    "    )\n",
    "\n",
    "    if top_rules.empty:                   # ← guard\n",
    "        print(f\"Cluster {cl}: no rules found – skipped\")\n",
    "        continue\n",
    "\n",
    "    # top_rules = (pd.concat([rules_ap.head(3), rules_fp.head(3)]).drop_duplicates(subset=[\"antecedents\", \"consequents\"]).reset_index(drop=True))\n",
    "\n",
    "    r0 = top_rules.iloc[0]\n",
    "    ante = next(iter(r0[\"antecedents\"]))\n",
    "    conse = next(iter(r0[\"consequents\"]))\n",
    "\n",
    "    clients_ante  = basket_cl[ante].sum()\n",
    "    clients_both  = basket_cl[(basket_cl[ante] == 1) &(basket_cl[conse] == 1)].shape[0]\n",
    "    avg_margin_con = df_cl.loc[df_cl[\"Item_Group1\"] == conse, \"Total_Profit_Margin\"].mean()\n",
    "    targetable    = int(clients_ante - clients_both)\n",
    "\n",
    "    bullets = [\n",
    "        f\"Made purchases in “{ante}” — **{clients_ante}** clients\",\n",
    "        f\"Of them, **{clients_both}** also bought “{conse}”\",\n",
    "        f\"Average margin in “{conse}” is **{avg_margin_con:,.1f} ₽**\",\n",
    "        f\"**{targetable}** clients can be targeted with “{conse}” offers\",\n",
    "    ]\n",
    "\n",
    "    slide_data[cl] = dict(rules=top_rules, bullets=bullets)\n",
    "\n",
    "\n",
    "for cl, d in slide_data.items():\n",
    "    display(pd.DataFrame({f\"Cluster {cl}\": []}))\n",
    "    display(d[\"rules\"][[\"antecedents\", \"consequents\",\n",
    "                        \"support\", \"confidence\", \"lift\"]])\n",
    "    for line in d[\"bullets\"]:\n",
    "        print(\" •\", line)\n",
    "    print(\"-\" * 65)\n"
   ]
  }
 ],
 "metadata": {
  "kernelspec": {
   "display_name": ".venv",
   "language": "python",
   "name": "python3"
  },
  "language_info": {
   "codemirror_mode": {
    "name": "ipython",
    "version": 3
   },
   "file_extension": ".py",
   "mimetype": "text/x-python",
   "name": "python",
   "nbconvert_exporter": "python",
   "pygments_lexer": "ipython3",
   "version": "3.10.11"
  }
 },
 "nbformat": 4,
 "nbformat_minor": 5
}
